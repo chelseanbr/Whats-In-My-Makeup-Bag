{
 "cells": [
  {
   "cell_type": "code",
   "execution_count": 3,
   "metadata": {},
   "outputs": [
    {
     "ename": "ModuleNotFoundError",
     "evalue": "No module named 'data_cleaning_eda'",
     "output_type": "error",
     "traceback": [
      "\u001b[0;31m---------------------------------------------------------------------------\u001b[0m",
      "\u001b[0;31mModuleNotFoundError\u001b[0m                       Traceback (most recent call last)",
      "\u001b[0;32m<ipython-input-3-8e5ffe7514f9>\u001b[0m in \u001b[0;36m<module>\u001b[0;34m\u001b[0m\n\u001b[1;32m     10\u001b[0m \u001b[0;32mimport\u001b[0m \u001b[0msys\u001b[0m\u001b[0;34m\u001b[0m\u001b[0;34m\u001b[0m\u001b[0m\n\u001b[1;32m     11\u001b[0m \u001b[0msys\u001b[0m\u001b[0;34m.\u001b[0m\u001b[0mpath\u001b[0m\u001b[0;34m.\u001b[0m\u001b[0mappend\u001b[0m\u001b[0;34m(\u001b[0m\u001b[0mos\u001b[0m\u001b[0;34m.\u001b[0m\u001b[0mgetcwd\u001b[0m\u001b[0;34m(\u001b[0m\u001b[0;34m)\u001b[0m \u001b[0;34m+\u001b[0m \u001b[0;34m'/src'\u001b[0m\u001b[0;34m)\u001b[0m\u001b[0;34m\u001b[0m\u001b[0;34m\u001b[0m\u001b[0m\n\u001b[0;32m---> 12\u001b[0;31m \u001b[0;32mimport\u001b[0m \u001b[0mdata_cleaning_eda\u001b[0m \u001b[0;32mas\u001b[0m \u001b[0mdce\u001b[0m \u001b[0;31m# my defined functions\u001b[0m\u001b[0;34m\u001b[0m\u001b[0;34m\u001b[0m\u001b[0m\n\u001b[0m\u001b[1;32m     13\u001b[0m \u001b[0;34m\u001b[0m\u001b[0m\n\u001b[1;32m     14\u001b[0m \u001b[0mget_ipython\u001b[0m\u001b[0;34m(\u001b[0m\u001b[0;34m)\u001b[0m\u001b[0;34m.\u001b[0m\u001b[0mrun_line_magic\u001b[0m\u001b[0;34m(\u001b[0m\u001b[0;34m'matplotlib'\u001b[0m\u001b[0;34m,\u001b[0m \u001b[0;34m'inline'\u001b[0m\u001b[0;34m)\u001b[0m\u001b[0;34m\u001b[0m\u001b[0;34m\u001b[0m\u001b[0m\n",
      "\u001b[0;31mModuleNotFoundError\u001b[0m: No module named 'data_cleaning_eda'"
     ]
    }
   ],
   "source": [
    "# Imports\n",
    "import numpy as np\n",
    "import pandas as pd\n",
    "import matplotlib.pyplot as plt\n",
    "import matplotlib.dates as mdates\n",
    "import scipy.stats as stats\n",
    "import seaborn as sns\n",
    "\n",
    "import os\n",
    "import sys\n",
    "sys.path.append(os.getcwd() + '/src')\n",
    "import data_cleaning_eda as dce # my defined functions\n",
    "\n",
    "%matplotlib inline\n",
    "plt.style.use('ggplot')"
   ]
  },
  {
   "cell_type": "markdown",
   "metadata": {},
   "source": [
    "# Data Wrangling"
   ]
  },
  {
   "cell_type": "markdown",
   "metadata": {},
   "source": [
    "## Loading Data to a Pandas DataFrame"
   ]
  },
  {
   "cell_type": "code",
   "execution_count": null,
   "metadata": {},
   "outputs": [],
   "source": [
    "# Load data to dataframe\n",
    "data_file = 'data/cscpopendata.csv'\n",
    "data_df = pd.read_csv(data_file)\n",
    "\n",
    "# Get dataframe shape\n",
    "data_df.shape"
   ]
  },
  {
   "cell_type": "code",
   "execution_count": null,
   "metadata": {},
   "outputs": [],
   "source": [
    "# Preview top of dataframe\n",
    "data_df.head()"
   ]
  },
  {
   "cell_type": "code",
   "execution_count": null,
   "metadata": {
    "scrolled": false
   },
   "outputs": [],
   "source": [
    "# Preview bottom of dataframe\n",
    "data_df.tail()"
   ]
  },
  {
   "cell_type": "code",
   "execution_count": null,
   "metadata": {},
   "outputs": [],
   "source": [
    "# Get column info\n",
    "data_df.info()"
   ]
  },
  {
   "cell_type": "markdown",
   "metadata": {},
   "source": [
    "## Handling Null Values"
   ]
  },
  {
   "cell_type": "code",
   "execution_count": null,
   "metadata": {
    "scrolled": false
   },
   "outputs": [],
   "source": [
    "# Show cols with null vals & how many they have\n",
    "print('Columns with Null Values:')\n",
    "null_count = data_df.isna().sum()\n",
    "null_count_df = null_count[null_count > 0].to_frame().reset_index().sort_values(0, ascending=False)\n",
    "null_count_df.rename(columns={'index': 'Column', 0: 'Number of Null Values'})"
   ]
  },
  {
   "cell_type": "code",
   "execution_count": null,
   "metadata": {},
   "outputs": [],
   "source": [
    "# Replace all null BrandName values with 'Missing'\n",
    "data_df2 = data_df.copy()\n",
    "data_df2.loc[data_df2['BrandName'].isna()==True, 'BrandName'] = 'Missing'"
   ]
  },
  {
   "cell_type": "code",
   "execution_count": null,
   "metadata": {
    "scrolled": false
   },
   "outputs": [],
   "source": [
    "# Updated - Show updated cols with null vals & how many they have\n",
    "print('Remaining columns with Null Values:')\n",
    "null_count2 = data_df2.isna().sum()\n",
    "null_count2_df = null_count2[null_count2 > 0].to_frame().reset_index().sort_values(0, ascending=False)\n",
    "null_count2_df.rename(columns={'index': 'Column', 0: 'Number of Null Values'})"
   ]
  },
  {
   "cell_type": "markdown",
   "metadata": {},
   "source": [
    "### Remaining Columns with Null Values\n",
    "* ChemicalDateRemoved \n",
    "    * **KEEP**, non-null for **reformulated products** only\n",
    "    * If applicable, date the chemical was removed from product, i.e., reformulation.\n",
    "* DiscontinuedDate\n",
    "    * **KEEP**, non-null for **discontinued products** only\n",
    "    * If applicable, date the product was discontinued.\n",
    "* CSF \n",
    "    * *DROP COLUMN*\n",
    "    * Color, scent and/or flavor as entered by manufacturer, packer and/or distributor. The color/scent/flavor name is entered as free-text into the reporting database and may contain misspellings or other errors. **Not all products have specific colors, scents or flavors.**\n",
    "* CSFId\n",
    "    * *DROP COLUMN*\n",
    "    * CDPH internal identification number for a color/scent/flavor. **Like CSF, not all products have CSFId.**\n",
    "* CasNumber\n",
    "    * *DROP COLUMN* \n",
    "    * **Refer to 'CasId'/'ChemicalName' columns instead**\n",
    "    * Chemical identification number (Chemical Abstracts Service registry number assigned to specific chemical). Note that different forms of a chemical  may have different CAS numbers. What appears here is the CAS number selected by the manufacturer, packer and/or distributor. "
   ]
  },
  {
   "cell_type": "code",
   "execution_count": null,
   "metadata": {
    "scrolled": false
   },
   "outputs": [],
   "source": [
    "# Check if can indeed refer to 'CasId'/'ChemicalName' columns instead of CasNumber\n",
    "data_df2[data_df2['CasNumber'].isna()==True][['CasId', 'ChemicalId', 'ChemicalName']]"
   ]
  },
  {
   "cell_type": "code",
   "execution_count": null,
   "metadata": {
    "scrolled": false
   },
   "outputs": [],
   "source": [
    "# Drop 4 unnecessary columns\n",
    "drop_cols = ['CSF', 'CSFId', 'CasNumber', 'ChemicalId']\n",
    "data_df3 = data_df2.copy()\n",
    "data_df3 = data_df2.drop(columns=drop_cols)"
   ]
  },
  {
   "cell_type": "code",
   "execution_count": null,
   "metadata": {},
   "outputs": [],
   "source": [
    "# Updated - Show final cols with null vals & how many they have\n",
    "print('Final columns with Null Values:')\n",
    "null_count3 = data_df3.isna().sum()\n",
    "null_count3_df = null_count3[null_count3 > 0].to_frame().reset_index().sort_values(0, ascending=False)\n",
    "null_count3_df.rename(columns={'index': 'Column', 0: 'Number of Null Values'})"
   ]
  },
  {
   "cell_type": "markdown",
   "metadata": {},
   "source": [
    "## Converting Date Str Columns to Date-Time Type"
   ]
  },
  {
   "cell_type": "code",
   "execution_count": null,
   "metadata": {},
   "outputs": [],
   "source": [
    "date_cols = ['InitialDateReported', 'MostRecentDateReported', 'DiscontinuedDate', \n",
    "             'ChemicalCreatedAt', 'ChemicalUpdatedAt', 'ChemicalDateRemoved']\n",
    "data_df4 = data_df3.copy()\n",
    "\n",
    "data_df4[date_cols] = data_df4[date_cols].apply(pd.to_datetime)\n",
    "\n",
    "data_df4.info()\n",
    "data_df4.head()"
   ]
  },
  {
   "cell_type": "markdown",
   "metadata": {},
   "source": [
    "## Initial Check for Duplicate Rows"
   ]
  },
  {
   "cell_type": "code",
   "execution_count": null,
   "metadata": {},
   "outputs": [],
   "source": [
    "# Find number of duplicate rows\n",
    "duplicates_df = data_df4[data_df4.duplicated()]\n",
    "duplicates_df.shape"
   ]
  },
  {
   "cell_type": "code",
   "execution_count": null,
   "metadata": {},
   "outputs": [],
   "source": [
    "# Drop duplicate rows\n",
    "data_df5 = data_df4.copy()\n",
    "data_df5 = data_df5.drop_duplicates()\n",
    "data_df5.shape"
   ]
  },
  {
   "cell_type": "markdown",
   "metadata": {},
   "source": [
    "## Counting Unique Values per Column"
   ]
  },
  {
   "cell_type": "code",
   "execution_count": null,
   "metadata": {},
   "outputs": [],
   "source": [
    "# Show number of unique vals per column\n",
    "print('Number of Unique Values per Column:')\n",
    "num_unique_df = data_df5.nunique(axis=0).to_frame().reset_index()\n",
    "num_unique_df.sort_values(0, ascending=False).rename(columns={'index': 'Column', 0: 'Number of Unique Values'})"
   ]
  },
  {
   "cell_type": "markdown",
   "metadata": {},
   "source": [
    "## Handling Categorical Data"
   ]
  },
  {
   "cell_type": "markdown",
   "metadata": {},
   "source": [
    "* 36,794 unique products identified by CDPHId, *IGNORE ProductName*\n",
    "    * Number of unique CDPHId vals > Number of unique ProductName vals\n",
    "    * Can have multiple categories (PrimaryCategory, SubCategory) \n",
    "    * Can have multiple chemicals (ChemicalName)\n",
    "* 123 unique chemicals identified by ChemicalName, *IGNORE CasId*\n",
    "    * Number of unique CasId vals > Number of unique ChemicalName vals\n",
    "* Need to investigate:\n",
    "    * **Number of unique CompanyId vals > Number of unique CompanyName vals**"
   ]
  },
  {
   "cell_type": "markdown",
   "metadata": {},
   "source": [
    "#### Messy Company Names"
   ]
  },
  {
   "cell_type": "code",
   "execution_count": null,
   "metadata": {},
   "outputs": [],
   "source": [
    "# Show CompanyName counts\n",
    "# df = pd.DataFrame(data_df5['CompanyName'].value_counts()).reset_index().sort_values('index')\n",
    "\n",
    "# with pd.option_context('display.max_rows', None, 'display.max_columns', None):  # more options can be specified also\n",
    "#     print(df)"
   ]
  },
  {
   "cell_type": "code",
   "execution_count": null,
   "metadata": {
    "scrolled": true
   },
   "outputs": [],
   "source": [
    "# Example of similar CompanyNames that could be merged - 'Fresh'\n",
    "fresh_df = data_df5[data_df5['CompanyName'].str.contains('Fresh')]\n",
    "fresh_df[['CompanyId','CompanyName','BrandName']].drop_duplicates()"
   ]
  },
  {
   "cell_type": "markdown",
   "metadata": {},
   "source": [
    "### Replacing Categorical Columns with Cleaned Ones"
   ]
  },
  {
   "cell_type": "code",
   "execution_count": null,
   "metadata": {
    "scrolled": false
   },
   "outputs": [],
   "source": [
    "# Use function to clean categorical columns of interest\n",
    "data_df6 = dce.clean_cat_data(data_df5, ['CompanyName', 'ProductName', 'SubCategory', \n",
    "                                         'BrandName'])\n",
    "data_df6.head()"
   ]
  },
  {
   "cell_type": "code",
   "execution_count": null,
   "metadata": {},
   "outputs": [],
   "source": [
    "# # Show Cleaned CompanyName counts - Sorted by name\n",
    "# df = pd.DataFrame(data_df6['Cleaned_CompanyName'].value_counts()).reset_index().sort_values('index')\n",
    "\n",
    "# with pd.option_context('display.max_rows', None, 'display.max_columns', None):  # more options can be specified also\n",
    "#     print(df)"
   ]
  },
  {
   "cell_type": "code",
   "execution_count": null,
   "metadata": {},
   "outputs": [],
   "source": [
    "# # Show Cleaned CompanyName counts - Sorted by count, descending\n",
    "# df = pd.DataFrame(data_df6['Cleaned_CompanyName'].value_counts()).reset_index().sort_values('Cleaned_CompanyName', ascending=False)\n",
    "\n",
    "# with pd.option_context('display.max_rows', None, 'display.max_columns', None):  # more options can be specified also\n",
    "#     print(df)"
   ]
  },
  {
   "cell_type": "code",
   "execution_count": null,
   "metadata": {},
   "outputs": [],
   "source": [
    "# Same example of CompanyNames after cleaning - 'Fresh'\n",
    "fresh_df6 = data_df6[data_df6['Cleaned_CompanyName'].str.contains('fresh')]\n",
    "fresh_df6[['CompanyId','Cleaned_CompanyName','Cleaned_BrandName']].drop_duplicates()"
   ]
  },
  {
   "cell_type": "code",
   "execution_count": null,
   "metadata": {},
   "outputs": [],
   "source": [
    "# # Updated - Show number of unique vals per column\n",
    "# print('Number of Unique Values per Column:')\n",
    "# num_unique_df = data_df6.nunique(axis=0).to_frame().reset_index()\n",
    "# num_unique_df.sort_values(0, ascending=False).rename(columns={'index': 'Column', 0: 'Number of Unique Values'})"
   ]
  },
  {
   "cell_type": "markdown",
   "metadata": {},
   "source": [
    "## Final Check for Duplicate Rows"
   ]
  },
  {
   "cell_type": "code",
   "execution_count": null,
   "metadata": {},
   "outputs": [],
   "source": [
    "# Find number of duplicate rows\n",
    "duplicates_df6 = data_df6[data_df6.duplicated()]\n",
    "duplicates_df6.shape"
   ]
  },
  {
   "cell_type": "code",
   "execution_count": null,
   "metadata": {},
   "outputs": [],
   "source": [
    "# Drop duplicate rows\n",
    "# N/A"
   ]
  },
  {
   "cell_type": "code",
   "execution_count": null,
   "metadata": {},
   "outputs": [],
   "source": [
    "# Take final df after cleaning\n",
    "clean_data_df = data_df6"
   ]
  },
  {
   "cell_type": "markdown",
   "metadata": {},
   "source": [
    "# EDA"
   ]
  },
  {
   "cell_type": "markdown",
   "metadata": {},
   "source": [
    "* 36,794 unique products identified by CDPHId\n",
    "    * Can have multiple categories (PrimaryCategory, Cleaned_SubCategory) \n",
    "    * Can have multiple chemicals (ChemicalName)\n",
    "* 123 unique chemicals identified by ChemicalName"
   ]
  },
  {
   "cell_type": "code",
   "execution_count": null,
   "metadata": {},
   "outputs": [],
   "source": [
    "# Number of unique vals per column\n",
    "print('Number of Unique Values per Column:')\n",
    "num_unique_df = clean_data_df.nunique(axis=0).to_frame().reset_index()\n",
    "num_unique_df.sort_values(0, ascending=False).rename(columns={'index': 'Column', 0: 'Number of Unique Values'})"
   ]
  },
  {
   "cell_type": "code",
   "execution_count": null,
   "metadata": {
    "scrolled": false
   },
   "outputs": [],
   "source": [
    "clean_data_df.info()"
   ]
  },
  {
   "cell_type": "markdown",
   "metadata": {},
   "source": [
    "### Classifying Products by Status"
   ]
  },
  {
   "cell_type": "code",
   "execution_count": null,
   "metadata": {},
   "outputs": [],
   "source": [
    "# Modify df to add Reformulated/Discontinued status\n",
    "# TODO: Make function\n",
    "clean_data_df2 = clean_data_df.copy()\n",
    "clean_data_df2['Count'] = 1\n",
    "clean_data_df2['Reformulated'] = 0\n",
    "clean_data_df2['Discontinued'] = 0\n",
    "\n",
    "clean_data_df2.loc[(clean_data_df2['DiscontinuedDate'].isna() == False), 'Discontinued'] = 1\n",
    "clean_data_df2.loc[(clean_data_df2['ChemicalDateRemoved'].isna() == False), 'Reformulated'] = 1\n",
    "\n",
    "clean_data_df2['Only Reformulated'] = (clean_data_df2['Discontinued'] != 1) & (clean_data_df2['Reformulated'] == 1)\n",
    "clean_data_df2['Only Reformulated'] = clean_data_df2['Only Reformulated'].astype(int)\n",
    "\n",
    "clean_data_df2['Only Discontinued'] = (clean_data_df2['Discontinued'] == 1) & (clean_data_df2['Reformulated'] != 1)\n",
    "clean_data_df2['Only Discontinued'] = clean_data_df2['Only Discontinued'].astype(int)\n",
    "\n",
    "clean_data_df2['Reformulated or Discontinued'] = clean_data_df2['Discontinued'] | clean_data_df2['Reformulated']\n",
    "clean_data_df2['Reformulated and then Discontinued'] = clean_data_df2['Discontinued'] & clean_data_df2['Reformulated']\n",
    "clean_data_df2['Not yet Reformulated or Discontinued'] = (clean_data_df2['Discontinued'] != 1) & (clean_data_df2['Reformulated'] != 1)\n",
    "clean_data_df2['Not yet Reformulated or Discontinued'] = clean_data_df2['Not yet Reformulated or Discontinued'].astype(int)"
   ]
  },
  {
   "cell_type": "code",
   "execution_count": null,
   "metadata": {},
   "outputs": [],
   "source": [
    "clean_data_df2.head()"
   ]
  },
  {
   "cell_type": "code",
   "execution_count": null,
   "metadata": {},
   "outputs": [],
   "source": [
    "clean_data_df2_for_status_pie = clean_data_df2.copy()\n",
    "clean_data_df2_for_status_pie = pd.concat([clean_data_df2_for_status_pie.loc[:, 'CDPHId'], \n",
    "                                   clean_data_df2_for_status_pie.loc[:, 'Count':]], axis=1)\n",
    "clean_data_df2_for_status_pie.drop_duplicates(inplace=True)\n",
    "clean_data_df2_for_status_pie.drop(columns=['CDPHId'], inplace=True)\n",
    "clean_data_df2_for_status_pie.head()\n",
    "\n",
    "clean_data_df2_for_status_pie = clean_data_df2_for_status_pie.apply(lambda x: np.sum(x))\n",
    "clean_data_df2_for_status_pie"
   ]
  },
  {
   "cell_type": "code",
   "execution_count": null,
   "metadata": {},
   "outputs": [],
   "source": [
    "cols = ['Only Reformulated', 'Only Discontinued', 'Reformulated and then Discontinued', 'Not yet Reformulated or Discontinued']\n",
    "clean_data_df2_for_status_bar = clean_data_df2_for_status_pie.loc[cols].copy()\n",
    "\n",
    "clean_data_df2_for_status_bar = pd.DataFrame(clean_data_df2_for_status_bar, columns=['Count'])\n",
    "clean_data_df2_for_status_bar.plot.barh()"
   ]
  },
  {
   "cell_type": "code",
   "execution_count": null,
   "metadata": {
    "scrolled": false
   },
   "outputs": [],
   "source": [
    "# Plot pie chart for product status\n",
    "clean_data_df2_for_status_pie2 = clean_data_df2_for_status_bar / 37478\n",
    "ax = clean_data_df2_for_status_pie2.plot.pie(y='Count', autopct='%1.1f%%', figsize=(10, 8), \n",
    "                                            textprops={'fontsize': 14, 'color': 'black', 'weight':'bold'},\n",
    "                                            pctdistance=1.1, labels=None)\n",
    "ax.set_ylabel('')\n",
    "ax.set_title(label='Breakdown on Status of Products\\n(36,794 Total)',\n",
    "             size=16, color='black', weight='bold')\n",
    "ax.legend(labels=clean_data_df2_for_status_pie2.index, loc='lower right', fontsize=14)\n",
    "plt.tight_layout()\n",
    "plt.savefig('images/pie_product_status')"
   ]
  },
  {
   "cell_type": "code",
   "execution_count": null,
   "metadata": {},
   "outputs": [],
   "source": [
    "clean_data_df2_for_status_pie['% Reformulated Only'] = clean_data_df2_for_status_pie['Only Reformulated'] / clean_data_df2_for_status_pie['Count']\n",
    "clean_data_df2_for_status_pie['% Discontinued Only'] = clean_data_df2_for_status_pie['Only Discontinued'] / clean_data_df2_for_status_pie['Count']\n",
    "clean_data_df2_for_status_pie['% Reformulated and then Discontinued'] = clean_data_df2_for_status_pie['Reformulated and then Discontinued'] / clean_data_df2_for_status_pie['Count']\n",
    "clean_data_df2_for_status_pie['% Not yet Reformulated or Discontinued'] = clean_data_df2_for_status_pie['Not yet Reformulated or Discontinued'] / clean_data_df2_for_status_pie['Count']\n",
    "clean_data_df2_for_status_pie"
   ]
  },
  {
   "cell_type": "markdown",
   "metadata": {},
   "source": [
    "# Analyzing Top Chemicals"
   ]
  },
  {
   "cell_type": "code",
   "execution_count": null,
   "metadata": {},
   "outputs": [],
   "source": [
    "chemicals_count_df = dce.get_count_by_mult_df_sorted_count(clean_data_df2, 'CDPHId', ['ChemicalName'])\n",
    "chemicals_count_df.head(15)\n",
    "top_10_chemicals = list(chemicals_count_df.head(10)['ChemicalName'])\n",
    "chemicals_top10_df = clean_data_df2[clean_data_df2['ChemicalName'].isin(top_10_chemicals)]"
   ]
  },
  {
   "cell_type": "code",
   "execution_count": null,
   "metadata": {},
   "outputs": [],
   "source": [
    "chemicals_top10_df['ChemicalName'].unique()"
   ]
  },
  {
   "cell_type": "code",
   "execution_count": null,
   "metadata": {},
   "outputs": [],
   "source": [
    "chemicals_top10_count_df = chemicals_top10_df.loc[:, ['CDPHId', 'ChemicalName', 'Only Reformulated', 'Only Discontinued', 'Reformulated and then Discontinued', 'Not yet Reformulated or Discontinued']].drop_duplicates().copy()\n",
    "chemicals_top10_count_df.drop(columns=['CDPHId'], inplace=True)\n",
    "\n",
    "chemicals_top10_count_df = chemicals_top10_count_df.groupby('ChemicalName').sum()\n",
    "chemicals_top10_count_df = chemicals_top10_count_df.rename(index=\n",
    "                                                           {'Retinol/retinyl esters, when in daily dosages in excess of 10,000 IU, or 3,000 retinol equivalents.':\n",
    "                                                            'Retinol/retinyl esters',\n",
    "                                                           'Silica, crystalline (airborne particles of respirable size)': \n",
    "                                                            'Silica, crystalline (airborne particles)'})\n",
    "\n",
    "chemicals_top10_count_df = chemicals_top10_count_df.sort_values('Only Reformulated', ascending=True)"
   ]
  },
  {
   "cell_type": "code",
   "execution_count": null,
   "metadata": {},
   "outputs": [],
   "source": [
    "chemicals_top10_count_df.loc['Titanium dioxide',:].head()"
   ]
  },
  {
   "cell_type": "code",
   "execution_count": null,
   "metadata": {},
   "outputs": [],
   "source": [
    "ax = chemicals_top10_count_df.plot.barh(figsize=(12,8))\n",
    "ax.legend(loc='lower right')\n",
    "ax.set_title('Number of Reported Products by Chemical (Top 10)', size=16)\n",
    "ax.set_xlabel('Number of Reported Products', size=14)\n",
    "ax.set_ylabel('Chemical Name', size=14)\n",
    "plt.tight_layout()\n",
    "plt.savefig('images/bar_top10_chemicals')"
   ]
  },
  {
   "cell_type": "code",
   "execution_count": null,
   "metadata": {
    "scrolled": false
   },
   "outputs": [],
   "source": [
    "makeup_chemicals_df = clean_data_df2.loc[clean_data_df2['PrimaryCategory'] == 'Makeup Products (non-permanent)',['CDPHId','ChemicalName']]\n",
    "makeup_chemicals_df.drop_duplicates()\n",
    "makeup_chemicals_df.head()                              \n",
    "makeup_chemicals_count_df = dce.get_count_by_mult_df_sorted_count(makeup_chemicals_df, 'CDPHId', ['ChemicalName'])\n",
    "makeup_chemicals_count_df.head()\n",
    "fig, ax = plt.subplots()\n",
    "makeup_chemicals_count_df.plot.pie(ax=ax, y='CDPHId', legend=None, labels=None, title='Chemicals Reported in Makeup Products')\n",
    "ax.set_ylabel('')\n",
    "makeup_chemicals_count_df.loc[makeup_chemicals_count_df['ChemicalName']=='Titanium dioxide','CDPHId'] / makeup_chemicals_count_df['CDPHId'].sum()\n",
    "fig.savefig('images/pie_makeup_chemicals')"
   ]
  },
  {
   "cell_type": "code",
   "execution_count": null,
   "metadata": {
    "scrolled": false
   },
   "outputs": [],
   "source": [
    "all_chemicals_df = clean_data_df2.loc[:,['CDPHId','ChemicalName']]\n",
    "all_chemicals_df.drop_duplicates()\n",
    "all_chemicals_df.head()                              \n",
    "all_chemicals_df_count_df = dce.get_count_by_mult_df_sorted_count(all_chemicals_df, 'CDPHId', ['ChemicalName'])\n",
    "all_chemicals_df_count_df.head()\n",
    "fig, ax = plt.subplots()\n",
    "all_chemicals_df_count_df.plot.pie(ax=ax, y='CDPHId', legend=None, labels=None, title='Chemicals Reported in All Products')\n",
    "ax.set_ylabel('')\n",
    "all_chemicals_df_count_df.loc[all_chemicals_df_count_df['ChemicalName']=='Titanium dioxide','CDPHId'] / all_chemicals_df_count_df['CDPHId'].sum()\n",
    "fig.savefig('images/pie_all_chemicals')"
   ]
  },
  {
   "cell_type": "markdown",
   "metadata": {},
   "source": [
    "## Analyzing by DiscontinuedDate"
   ]
  },
  {
   "cell_type": "code",
   "execution_count": null,
   "metadata": {},
   "outputs": [],
   "source": [
    "# Count number of products by DiscontinuedDate Month\n",
    "discontinued_date_count_df = dce.get_count_by_df(clean_data_df, 'CDPHId', 'DiscontinuedDate')\n",
    "discontinued_date_count_df = discontinued_date_count_df.groupby(pd.Grouper(freq='M')).sum()\n",
    "discontinued_date_count_df.index = discontinued_date_count_df.index.map(lambda x: x.strftime('%Y-%m'))\n",
    "discontinued_date_count_df.sort_values('CDPHId', ascending=False)"
   ]
  },
  {
   "cell_type": "code",
   "execution_count": null,
   "metadata": {
    "scrolled": false
   },
   "outputs": [],
   "source": [
    "fig, ax = plt.subplots(figsize=(11, 4))\n",
    "discontinued_date_count_df['CDPHId'].plot(ax=ax, linewidth=1);\n",
    "ax.set_title('Number of Products Discontinued Over Time', fontsize=20)\n",
    "ax.set_xlabel('Time by Month', fontsize=15)\n",
    "ax.set_ylabel('Number of Products Discontinued', fontsize=15)\n",
    "fig.tight_layout()\n",
    "fig.savefig('images/num_products_discontinued_over_time_monthly')"
   ]
  },
  {
   "cell_type": "markdown",
   "metadata": {},
   "source": [
    "### Analyzing Peak DiscontinuedDates\n",
    "1. 2013-07, 369 products\n",
    "2. 2016-10, 341 products"
   ]
  },
  {
   "cell_type": "code",
   "execution_count": null,
   "metadata": {},
   "outputs": [],
   "source": [
    "# Count df of peak DiscontinuedDates - 1. 2013-07, 369 products\n",
    "peak_discontinued_df1 = clean_data_df[clean_data_df['DiscontinuedDate'].astype(str).str.contains('2013-07')]\n",
    "peak_discontinued_df1['Cleaned_CompanyName'].unique()"
   ]
  },
  {
   "cell_type": "code",
   "execution_count": null,
   "metadata": {},
   "outputs": [],
   "source": [
    "# Count number of discontinued products at peak time by Company Name - 1. 2013-07, 369 products\n",
    "peak_discontinued_company_count_df1 = dce.get_count_by_df(peak_discontinued_df1, 'CDPHId', 'Cleaned_CompanyName')\n",
    "peak_discontinued_company_count_df1 = peak_discontinued_company_count_df1.reset_index().sort_values('CDPHId', ascending=False)"
   ]
  },
  {
   "cell_type": "code",
   "execution_count": null,
   "metadata": {},
   "outputs": [],
   "source": [
    "# Plot number of products by Company Name\n",
    "fig, ax = plt.subplots(figsize=(12, 7))\n",
    "ax = sns.barplot(data=peak_discontinued_company_count_df1, x='CDPHId', y='Cleaned_CompanyName', \n",
    "                orient = 'h')\n",
    "ax.set_title('Number of Products Discontinued by Company in July 2013', fontsize=20)\n",
    "ax.set_xlabel('Number of Products Discontinued', fontsize=15)\n",
    "ax.set_ylabel('Company Name', fontsize=15)\n",
    "\n",
    "for datum, p in zip(peak_discontinued_company_count_df1['CDPHId'].sort_values(ascending=False), \n",
    "                    ax.patches):\n",
    "        x = p.get_x() + p.get_width() + 0.02\n",
    "        y = p.get_y() + p.get_height()/2\n",
    "        ax.annotate(datum, (x, y))\n",
    "\n",
    "fig.tight_layout()\n",
    "fig.savefig('images/num_products_discontinued_by_company_jul2013')"
   ]
  },
  {
   "cell_type": "code",
   "execution_count": null,
   "metadata": {},
   "outputs": [],
   "source": [
    "# Count df of peak DiscontinuedDates - 2. 2016-10, 341 products\n",
    "peak_discontinued_df2 = clean_data_df[clean_data_df['DiscontinuedDate'].astype(str).str.contains('2016-10')]\n",
    "peak_discontinued_df2['Cleaned_CompanyName'].unique()"
   ]
  },
  {
   "cell_type": "code",
   "execution_count": null,
   "metadata": {},
   "outputs": [],
   "source": [
    "# Count number of discontinued products at peak time by Company Name - 2. 2016-10, 341 products\n",
    "peak_discontinued_company_count_df2 = dce.get_count_by_df(peak_discontinued_df2, 'CDPHId', 'Cleaned_CompanyName')\n",
    "peak_discontinued_company_count_df2 = peak_discontinued_company_count_df2.reset_index().sort_values('CDPHId', ascending=False)"
   ]
  },
  {
   "cell_type": "code",
   "execution_count": null,
   "metadata": {
    "scrolled": false
   },
   "outputs": [],
   "source": [
    "# Plot number of products by Company Name\n",
    "fig, ax = plt.subplots(figsize=(12, 7))\n",
    "ax = sns.barplot(data=peak_discontinued_company_count_df2, x='CDPHId', y='Cleaned_CompanyName', \n",
    "                orient = 'h')\n",
    "ax.set_title('Number of Products Discontinued by Company in Oct 2016', fontsize=20)\n",
    "ax.set_xlabel('Number of Products Discontinued', fontsize=15)\n",
    "ax.set_ylabel('Company Name', fontsize=15)\n",
    "\n",
    "for datum, p in zip(peak_discontinued_company_count_df2['CDPHId'].sort_values(ascending=False), \n",
    "                    ax.patches):\n",
    "        x = p.get_x() + p.get_width() + 0.02\n",
    "        y = p.get_y() + p.get_height()/2\n",
    "        ax.annotate(datum, (x, y))\n",
    "\n",
    "fig.tight_layout()\n",
    "fig.savefig('images/num_products_discontinued_by_company_oct2016')"
   ]
  },
  {
   "cell_type": "markdown",
   "metadata": {},
   "source": [
    "## Analyzing Discontinued Products"
   ]
  },
  {
   "cell_type": "markdown",
   "metadata": {},
   "source": [
    "### Time to Discontinuation"
   ]
  },
  {
   "cell_type": "code",
   "execution_count": null,
   "metadata": {},
   "outputs": [],
   "source": [
    "# Get df WITH ONLY NON-NULL DISCONTINUED DATES\n",
    "discontinued_df = clean_data_df[clean_data_df['DiscontinuedDate'].isna() == False].copy()\n",
    "discontinued_df.head()"
   ]
  },
  {
   "cell_type": "code",
   "execution_count": null,
   "metadata": {},
   "outputs": [],
   "source": [
    "discontinued_df.groupby('Cleaned_CompanyName')"
   ]
  },
  {
   "cell_type": "code",
   "execution_count": null,
   "metadata": {
    "scrolled": false
   },
   "outputs": [],
   "source": [
    "company_count_all_discontinued_df = dce.get_count_by_df_sorted_count(discontinued_df, 'CDPHId', 'Cleaned_CompanyName')\n",
    "company_count_all_discontinued_df.head(10)\n",
    "company_count_over_200_discontinued_df = company_count_all_discontinued_df[company_count_all_discontinued_df['CDPHId'] > 200]"
   ]
  },
  {
   "cell_type": "code",
   "execution_count": null,
   "metadata": {
    "scrolled": false
   },
   "outputs": [],
   "source": [
    "# Plot number of products by Company Name\n",
    "fig, ax = plt.subplots(figsize=(12, 7))\n",
    "ax = sns.barplot(data=company_count_over_200_discontinued_df, x='CDPHId', y='Cleaned_CompanyName', \n",
    "                 orient = 'h')\n",
    "ax.set_title('Overall Number of Products Discontinued by Company (Top 5)', fontsize=20)\n",
    "ax.set_xlabel('Number of Products Discontinued ', fontsize=15)\n",
    "ax.set_ylabel('Company Name', fontsize=15)\n",
    "\n",
    "for datum, p in zip(company_count_over_200_discontinued_df['CDPHId'].sort_values(ascending=False), \n",
    "                    ax.patches):\n",
    "        x = p.get_x() + p.get_width() + 0.02\n",
    "        y = p.get_y() + p.get_height()/2\n",
    "        ax.annotate(datum, (x, y))\n",
    "\n",
    "fig.tight_layout()\n",
    "fig.savefig('images/num_products_discontinued_by_company_barchart')"
   ]
  },
  {
   "cell_type": "code",
   "execution_count": null,
   "metadata": {},
   "outputs": [],
   "source": [
    "discontinued_df.shape\n",
    "# Drop duplicate rows before plotting\n",
    "discontinued_drop_dupes_df = discontinued_df.drop_duplicates(['CDPHId', 'InitialDateReported', 'DiscontinuedDate']).copy()\n",
    "discontinued_drop_dupes_df.shape"
   ]
  },
  {
   "cell_type": "code",
   "execution_count": null,
   "metadata": {},
   "outputs": [],
   "source": [
    "discontinued_drop_dupes_df['Days_to_Discontinued'] = (discontinued_drop_dupes_df['DiscontinuedDate'] - discontinued_drop_dupes_df['InitialDateReported']).dt.days\n",
    "discontinued_drop_dupes_df.head()"
   ]
  },
  {
   "cell_type": "code",
   "execution_count": null,
   "metadata": {},
   "outputs": [],
   "source": [
    "# Only look at products discontinued after being reported\n",
    "discontinued_drop_dupes_df = discontinued_drop_dupes_df[discontinued_drop_dupes_df['Days_to_Discontinued'] >= 0]"
   ]
  },
  {
   "cell_type": "code",
   "execution_count": null,
   "metadata": {
    "scrolled": true
   },
   "outputs": [],
   "source": [
    "binsize = int(np.sqrt(discontinued_drop_dupes_df.shape[0]))\n",
    "print(binsize)\n",
    "fig, ax = plt.subplots()\n",
    "ax.hist(discontinued_drop_dupes_df['Days_to_Discontinued'], bins=binsize)\n",
    "fig.savefig('images/hist_days_to_discontinued')\n",
    "# ax.hist(discontinued_drop_dupes_df['Days_to_Discontinued'], bins=binsize)"
   ]
  },
  {
   "cell_type": "code",
   "execution_count": null,
   "metadata": {},
   "outputs": [],
   "source": [
    "sns.set(style=\"whitegrid\")\n",
    "ax = sns.violinplot(discontinued_drop_dupes_df['Days_to_Discontinued'], orient='v')"
   ]
  },
  {
   "cell_type": "code",
   "execution_count": null,
   "metadata": {},
   "outputs": [],
   "source": [
    "sns.set(style=\"whitegrid\")\n",
    "ax = sns.boxplot(discontinued_drop_dupes_df['Days_to_Discontinued'])"
   ]
  },
  {
   "cell_type": "code",
   "execution_count": null,
   "metadata": {
    "scrolled": false
   },
   "outputs": [],
   "source": [
    "fig, ax = plt.subplots(figsize=(8, 12))\n",
    "sns.set(style=\"whitegrid\")\n",
    "ax = sns.violinplot(ax=ax, y=\"PrimaryCategory\", x=\"Days_to_Discontinued\",\n",
    "                    data=discontinued_drop_dupes_df, palette=\"muted\")\n",
    "\n",
    "ax.set_title('Distribution of Days to Product Discontinuation\\nby Primary Category', size=15)\n",
    "ax.set_xlabel('Number of Days', size=13)\n",
    "ax.set_ylabel('Primary Category', size=13)\n",
    "\n",
    "fig.tight_layout()\n",
    "fig.savefig('images/violin_days_to_discontinued_by_cat')"
   ]
  },
  {
   "cell_type": "code",
   "execution_count": null,
   "metadata": {},
   "outputs": [],
   "source": [
    "primary_cats = list(discontinued_drop_dupes_df['PrimaryCategory'].unique())\n",
    "primary_cats_dfs = dict()\n",
    "for cat in primary_cats:\n",
    "    primary_cats_dfs[cat] = (discontinued_drop_dupes_df.loc[discontinued_drop_dupes_df['PrimaryCategory'] == cat, 'Days_to_Discontinued'])\n",
    "    means = []\n",
    "for k, v in primary_cats_dfs.items():\n",
    "    means.append(np.mean(v))\n",
    "    print('{} mean: {}, var: {}'.format(k, np.mean(v), np.var(v)))\n",
    "\n",
    "sorted(means)"
   ]
  },
  {
   "cell_type": "code",
   "execution_count": null,
   "metadata": {},
   "outputs": [],
   "source": [
    "# Skin Care Products  mean: 953.3005366726297, var: 404466.31754890695\n",
    "# Hair Care Products (non-coloring) mean: 954.4873417721519, var: 492509.5409790095\n",
    "primary_cats_dfs['Skin Care Products ']\n",
    "primary_cats_dfs['Hair Care Products (non-coloring)']"
   ]
  },
  {
   "cell_type": "code",
   "execution_count": null,
   "metadata": {},
   "outputs": [],
   "source": []
  },
  {
   "cell_type": "code",
   "execution_count": null,
   "metadata": {},
   "outputs": [],
   "source": [
    "discontinued_2_companies_df = discontinued_drop_dupes_df[discontinued_drop_dupes_df['Cleaned_CompanyName'].str.contains('the procter & gamble company') | discontinued_drop_dupes_df['Cleaned_CompanyName'].str.contains('buth-na-bodhaige inc')].copy()\n",
    "discontinued_2_companies_df.head()"
   ]
  },
  {
   "cell_type": "code",
   "execution_count": null,
   "metadata": {},
   "outputs": [],
   "source": [
    "fig, ax = plt.subplots(figsize=(12, 15))\n",
    "sns.set(style=\"whitegrid\")\n",
    "ax = sns.violinplot(ax=ax, y=\"PrimaryCategory\", x=\"Days_to_Discontinued\",\n",
    "                    hue=\"Cleaned_CompanyName\",\n",
    "                    data=discontinued_2_companies_df, palette=\"muted\")\n",
    "\n",
    "ax.set_title('Distribution of Days to Product Discontinuation\\nby Primary Category - 2 Companies', size=15)\n",
    "ax.set_xlabel('Number of Days', size=13)\n",
    "ax.set_ylabel('Primary Category', size=13)\n",
    "ax.legend(loc='best')\n",
    "\n",
    "fig.tight_layout()\n",
    "fig.savefig('images/violin_days_to_discontinued_by_cat_2_companies')"
   ]
  },
  {
   "cell_type": "code",
   "execution_count": null,
   "metadata": {},
   "outputs": [],
   "source": [
    "fig, ax = plt.subplots(figsize=(8, 12))\n",
    "sns.set(style=\"whitegrid\")\n",
    "ax = sns.violinplot(x=\"Cleaned_CompanyName\", y=\"Days_to_Discontinued\",\n",
    "                    data=discontinued_2_companies_df, palette=\"muted\")"
   ]
  },
  {
   "cell_type": "code",
   "execution_count": null,
   "metadata": {},
   "outputs": [],
   "source": [
    "fig, axs = plt.subplots(1, 2, figsize=(12, 10), sharey=True)\n",
    "sns.set(style=\"whitegrid\")\n",
    "sns.violinplot(discontinued_drop_dupes_df['Days_to_Discontinued'], ax=axs[1], orient='v')\n",
    "sns.violinplot(ax=axs[0], x=\"Cleaned_CompanyName\", y=\"Days_to_Discontinued\",\n",
    "                    data=discontinued_2_companies_df, palette=\"muted\")\n",
    "\n",
    "axs[1].set_title('Overall \\nDistribution of Days to Product Discontinuation', size=15)\n",
    "axs[1].set_ylabel('Number of Days', size=13)\n",
    "axs[1].set_xlabel('All Companies', size=13)\n",
    "\n",
    "axs[0].set_title('Buth-Na-Bodhaige vs Proctor & Gamble \\nDistribution of Days to Product Discontinuation', size=15)\n",
    "axs[0].set_ylabel('Number of Days', size=13)\n",
    "axs[0].set_xlabel('Company', size=13)\n",
    "\n",
    "fig.savefig('images/violin_days_to_discontinued')"
   ]
  },
  {
   "cell_type": "code",
   "execution_count": null,
   "metadata": {},
   "outputs": [],
   "source": []
  },
  {
   "cell_type": "code",
   "execution_count": null,
   "metadata": {},
   "outputs": [],
   "source": [
    "second_discontinued_2_companies_df = discontinued_drop_dupes_df[discontinued_drop_dupes_df['Cleaned_CompanyName'].str.contains('yves rocher inc') | discontinued_drop_dupes_df['Cleaned_CompanyName'].str.contains(\"victoria's secret beauty\") | discontinued_drop_dupes_df['Cleaned_CompanyName'].str.contains(\"new avon llc\")].copy()\n",
    "second_discontinued_2_companies_df.head()"
   ]
  },
  {
   "cell_type": "code",
   "execution_count": null,
   "metadata": {},
   "outputs": [],
   "source": [
    "fig, ax = plt.subplots(figsize=(12, 10), sharey=True)\n",
    "sns.set(style=\"whitegrid\")\n",
    "sns.violinplot(ax=ax, x=\"Cleaned_CompanyName\", y=\"Days_to_Discontinued\",\n",
    "                    data=second_discontinued_2_companies_df, palette=\"muted\")\n",
    "\n",
    "# axs[1].set_title('Overall \\nDistribution of Days to Product Discontinuation', size=15)\n",
    "# axs[1].set_ylabel('Number of Days', size=13)\n",
    "# axs[1].set_xlabel('All Companies', size=13)\n",
    "\n",
    "ax.set_title(\"Comparing 3 Companies \\nDistribution of Days to Product Discontinuation\", size=15)\n",
    "ax.set_ylabel('Number of Days', size=13)\n",
    "ax.set_xlabel('Company', size=13)\n",
    "\n",
    "fig.savefig('images/violin_days_to_discontinued_3_companies')"
   ]
  },
  {
   "cell_type": "code",
   "execution_count": null,
   "metadata": {},
   "outputs": [],
   "source": [
    "avon_times = second_discontinued_2_companies_df.loc[second_discontinued_2_companies_df['Cleaned_CompanyName'] ==  'new avon llc','Days_to_Discontinued']\n",
    "yves_times = second_discontinued_2_companies_df.loc[second_discontinued_2_companies_df['Cleaned_CompanyName'] ==  'yves rocher inc','Days_to_Discontinued']\n",
    "victoria_times = second_discontinued_2_companies_df.loc[second_discontinued_2_companies_df['Cleaned_CompanyName'] ==  \"victoria's secret beauty\",'Days_to_Discontinued']"
   ]
  },
  {
   "cell_type": "code",
   "execution_count": null,
   "metadata": {},
   "outputs": [],
   "source": [
    "companies = [avon_times, yves_times, victoria_times]\n",
    "means = [np.mean(company) for company in companies]\n",
    "var = [np.var(company) for company in companies]\n",
    "means\n",
    "var"
   ]
  },
  {
   "cell_type": "code",
   "execution_count": null,
   "metadata": {},
   "outputs": [],
   "source": []
  },
  {
   "cell_type": "markdown",
   "metadata": {},
   "source": [
    "# Hypothesis Testing: Comparing Time to Product Discontinuation"
   ]
  },
  {
   "cell_type": "markdown",
   "metadata": {},
   "source": [
    "**Null Hypothesis:** The Proctor & Gamble Company's time to product discontinuation is less than Buth-Na-Bodhaige Inc's.\n",
    "\n",
    "**Alternate Hypothesis:** The Proctor & Gamble Company's time to product discontinuation is greater than Buth-Na-Bodhaige Inc's."
   ]
  },
  {
   "cell_type": "markdown",
   "metadata": {},
   "source": [
    "## Non-Parametrics: Mann-Whitney U Test"
   ]
  },
  {
   "cell_type": "code",
   "execution_count": null,
   "metadata": {},
   "outputs": [],
   "source": [
    "pg_times = discontinued_2_companies_df.loc[discontinued_2_companies_df['Cleaned_CompanyName'] ==  'the procter & gamble company','Days_to_Discontinued']\n",
    "bnb_times = discontinued_2_companies_df.loc[discontinued_2_companies_df['Cleaned_CompanyName'] ==  'buth-na-bodhaige inc','Days_to_Discontinued']\n",
    "\n",
    "print('pg_times:', np.mean(pg_times))\n",
    "print('bnb_times:', np.mean(bnb_times))\n",
    "\n",
    "print('pg_times:', np.median(pg_times))\n",
    "print('bnb_times:', np.median(bnb_times))\n",
    "\n",
    "res = stats.mannwhitneyu(pg_times, bnb_times, alternative=\"greater\")\n",
    "print(res)\n",
    "print(\"p-value for Proctor & Gamble < Buth-Na-Bodhaige: {:2.3f}\".format(res.pvalue))"
   ]
  },
  {
   "cell_type": "code",
   "execution_count": null,
   "metadata": {},
   "outputs": [],
   "source": [
    "fig, axs = plt.subplots(1, 2, figsize=(12, 10), sharey=True)\n",
    "sns.set(style=\"whitegrid\")\n",
    "sns.violinplot(discontinued_drop_dupes_df['Days_to_Discontinued'], ax=axs[0], orient='v')\n",
    "sns.violinplot(ax=axs[1], x=\"Cleaned_CompanyName\", y=\"Days_to_Discontinued\",\n",
    "                    data=discontinued_2_companies_df, palette=\"muted\")"
   ]
  },
  {
   "cell_type": "markdown",
   "metadata": {},
   "source": [
    "**Null Hypothesis:** The Proctor & Gamble Company's time to product discontinuation is less than Buth-Na-Bodhaige Inc's.\n",
    "\n",
    "**Alternate Hypothesis:** The Proctor & Gamble Company's time to product discontinuation is greater than Buth-Na-Bodhaige Inc's."
   ]
  },
  {
   "cell_type": "markdown",
   "metadata": {},
   "source": [
    "## Non-Parametrics: Mann-Whitney U Test"
   ]
  },
  {
   "cell_type": "code",
   "execution_count": null,
   "metadata": {},
   "outputs": [],
   "source": [
    "pg_times = discontinued_2_companies_df.loc[discontinued_2_companies_df['Cleaned_CompanyName'] ==  'the procter & gamble company','Days_to_Discontinued']\n",
    "bnb_times = discontinued_2_companies_df.loc[discontinued_2_companies_df['Cleaned_CompanyName'] ==  'buth-na-bodhaige inc','Days_to_Discontinued']\n",
    "\n",
    "print('pg_times:', np.mean(pg_times))\n",
    "print('bnb_times:', np.mean(bnb_times))\n",
    "\n",
    "print('pg_times:', np.median(pg_times))\n",
    "print('bnb_times:', np.median(bnb_times))\n",
    "\n",
    "res = stats.mannwhitneyu(pg_times, bnb_times, alternative=\"greater\")\n",
    "print(res)\n",
    "print(\"p-value for Proctor & Gamble < Buth-Na-Bodhaige: {:2.3f}\".format(res.pvalue))"
   ]
  },
  {
   "cell_type": "code",
   "execution_count": null,
   "metadata": {},
   "outputs": [],
   "source": [
    "fig, axs = plt.subplots(1, 2, figsize=(12, 10), sharey=True)\n",
    "sns.set(style=\"whitegrid\")\n",
    "sns.violinplot(discontinued_drop_dupes_df['Days_to_Discontinued'], ax=axs[0], orient='v')\n",
    "sns.violinplot(ax=axs[1], x=\"Cleaned_CompanyName\", y=\"Days_to_Discontinued\",\n",
    "                    data=discontinued_2_companies_df, palette=\"muted\")"
   ]
  },
  {
   "cell_type": "code",
   "execution_count": null,
   "metadata": {},
   "outputs": [],
   "source": [
    "stat, p_val = stats.ttest_ind(pg_times, bnb_times, equal_var=False)\n",
    "\n",
    "print('The statistic is: {} \\nP-value: {}'.format(stat ,p_val))"
   ]
  },
  {
   "cell_type": "markdown",
   "metadata": {},
   "source": [
    "## Analyzing by InitialDateReported"
   ]
  },
  {
   "cell_type": "code",
   "execution_count": null,
   "metadata": {
    "scrolled": true
   },
   "outputs": [],
   "source": [
    "# Count number of products by InitialDateReported Month\n",
    "init_date_count_df = dce.get_count_by_df(clean_data_df, 'CDPHId', 'InitialDateReported')\n",
    "init_date_count_df = init_date_count_df.groupby(pd.Grouper(freq='M')).sum()\n",
    "init_date_count_df.index = init_date_count_df.index.map(lambda x: x.strftime('%Y-%m'))\n",
    "init_date_count_df"
   ]
  },
  {
   "cell_type": "code",
   "execution_count": null,
   "metadata": {},
   "outputs": [],
   "source": [
    "fig, ax = plt.subplots(figsize=(11, 4))\n",
    "init_date_count_df['CDPHId'].plot(ax=ax, linewidth=1);\n",
    "ax.set_title('Number of Products Reported Over Time', fontsize=20)\n",
    "ax.set_xlabel('Time by Month', fontsize=15)\n",
    "ax.set_ylabel('Number of Products Reported', fontsize=15)\n",
    "fig.tight_layout()\n",
    "fig.savefig('images/num_products_reported_over_time_monthly')"
   ]
  },
  {
   "cell_type": "code",
   "execution_count": null,
   "metadata": {},
   "outputs": [],
   "source": [
    "# Check for products with multiple InitialDateReported values\n",
    "count_dupe_CDPHId = clean_data_df.drop_duplicates(['CDPHId','InitialDateReported'])\n",
    "count_dupe_CDPHId = count_dupe_CDPHId['CDPHId'].value_counts()\n",
    "mult_reported = count_dupe_CDPHId[count_dupe_CDPHId > 1]\n",
    "print('Number of products with multiple InitialDateReported:', len(mult_reported))\n",
    "mult_reported"
   ]
  },
  {
   "cell_type": "code",
   "execution_count": null,
   "metadata": {},
   "outputs": [],
   "source": [
    "# Example of products with multiple InitialDateReported values\n",
    "clean_data_df[clean_data_df['CDPHId']==40190].sort_values('InitialDateReported').head()"
   ]
  },
  {
   "cell_type": "code",
   "execution_count": null,
   "metadata": {},
   "outputs": [],
   "source": [
    "clean_data_df[clean_data_df['CDPHId']==40190].sort_values('InitialDateReported').tail()"
   ]
  },
  {
   "cell_type": "markdown",
   "metadata": {},
   "source": [
    "## Analyzing Cosmetics Companies"
   ]
  },
  {
   "cell_type": "code",
   "execution_count": null,
   "metadata": {
    "scrolled": false
   },
   "outputs": [],
   "source": [
    "# Count number of products by Company Name\n",
    "company_count_df = dce.get_count_by_df(clean_data_df, 'CDPHId', 'Cleaned_CompanyName')\n",
    "company_count_df = company_count_df.reset_index().sort_values('CDPHId', ascending=False)\n",
    "company_count_df\n",
    "\n",
    "company_count_over500_df = company_count_df[company_count_df['CDPHId'] > 500]"
   ]
  },
  {
   "cell_type": "code",
   "execution_count": null,
   "metadata": {},
   "outputs": [],
   "source": [
    "clean_data_df.iloc[company_count_over500_df.index][['Cleaned_CompanyName', 'PrimaryCategory', 'Cleaned_SubCategory']].drop_duplicates()"
   ]
  },
  {
   "cell_type": "code",
   "execution_count": null,
   "metadata": {
    "scrolled": false
   },
   "outputs": [],
   "source": [
    "# Plot number of products by Company Name\n",
    "fig, ax = plt.subplots(figsize=(12, 7))\n",
    "ax = sns.barplot(data=company_count_over500_df, x='CDPHId', y='Cleaned_CompanyName', \n",
    "                 orient = 'h')\n",
    "ax.set_title('Number of Products Reported by Company', fontsize=20)\n",
    "ax.set_xlabel('Number of Products Reported', fontsize=15)\n",
    "ax.set_ylabel('Company Name', fontsize=15)\n",
    "\n",
    "for datum, p in zip(company_count_over500_df['CDPHId'].sort_values(ascending=False), \n",
    "                    ax.patches):\n",
    "        x = p.get_x() + p.get_width() + 0.02\n",
    "        y = p.get_y() + p.get_height()/2\n",
    "        ax.annotate(datum, (x, y))\n",
    "\n",
    "fig.tight_layout()\n",
    "fig.savefig('images/num_products_by_company_barchart')"
   ]
  },
  {
   "cell_type": "markdown",
   "metadata": {},
   "source": [
    "## Analyzing Cosmetics Companies with Makeup Products Reported"
   ]
  },
  {
   "cell_type": "code",
   "execution_count": 2,
   "metadata": {
    "scrolled": false
   },
   "outputs": [
    {
     "ename": "SyntaxError",
     "evalue": "invalid syntax (<ipython-input-2-7e64d42f1683>, line 2)",
     "output_type": "error",
     "traceback": [
      "\u001b[0;36m  File \u001b[0;32m\"<ipython-input-2-7e64d42f1683>\"\u001b[0;36m, line \u001b[0;32m2\u001b[0m\n\u001b[0;31m    makeup_company_df =\u001b[0m\n\u001b[0m                        ^\u001b[0m\n\u001b[0;31mSyntaxError\u001b[0m\u001b[0;31m:\u001b[0m invalid syntax\n"
     ]
    }
   ],
   "source": [
    "# Count number of products by Company with Makeup Products \n",
    "makeup_company_df = \n",
    "makeup_company_count_df = dce.get_count_by_df(makeup_company_df, 'CDPHId', 'Cleaned_CompanyName')\n",
    "company_count_df = company_count_df.reset_index().sort_values('CDPHId', ascending=False)\n",
    "company_count_df\n",
    "\n",
    "company_count_over500_df = company_count_df[company_count_df['CDPHId'] > 500]"
   ]
  },
  {
   "cell_type": "code",
   "execution_count": null,
   "metadata": {},
   "outputs": [],
   "source": [
    "clean_data_df.iloc[company_count_over500_df.index][['Cleaned_CompanyName', 'PrimaryCategory', 'Cleaned_SubCategory']].drop_duplicates()"
   ]
  },
  {
   "cell_type": "code",
   "execution_count": null,
   "metadata": {
    "scrolled": false
   },
   "outputs": [],
   "source": [
    "# Plot number of products by Company Name\n",
    "fig, ax = plt.subplots(figsize=(12, 7))\n",
    "ax = sns.barplot(data=company_count_over500_df, x='CDPHId', y='Cleaned_CompanyName', \n",
    "                 orient = 'h')\n",
    "ax.set_title('Number of Products Reported by Company', fontsize=20)\n",
    "ax.set_xlabel('Number of Products Reported', fontsize=15)\n",
    "ax.set_ylabel('Company Name', fontsize=15)\n",
    "\n",
    "for datum, p in zip(company_count_over500_df['CDPHId'].sort_values(ascending=False), \n",
    "                    ax.patches):\n",
    "        x = p.get_x() + p.get_width() + 0.02\n",
    "        y = p.get_y() + p.get_height()/2\n",
    "        ax.annotate(datum, (x, y))\n",
    "\n",
    "fig.tight_layout()\n",
    "fig.savefig('images/num_products_by_company_barchart')"
   ]
  },
  {
   "cell_type": "markdown",
   "metadata": {},
   "source": [
    "# Analyzing 2 Companies of Interest\n",
    "* Companies with > 300 products discontinued in a month:\n",
    "    1. buth-na-bodhaige inc\n",
    "    2. the procter & gamble company"
   ]
  },
  {
   "cell_type": "code",
   "execution_count": null,
   "metadata": {},
   "outputs": [],
   "source": [
    "buth_bodhaige_df = clean_data_df[clean_data_df['Cleaned_CompanyName'] == 'buth-na-bodhaige inc']\n",
    "buth_bodhaige_df.head()"
   ]
  },
  {
   "cell_type": "code",
   "execution_count": null,
   "metadata": {},
   "outputs": [],
   "source": [
    "# Count number of products by ChemicalCount\n",
    "buth_bodhaige_chem_count_df = dce.get_count_by_df(buth_bodhaige_df, 'CDPHId', 'ChemicalCount')\n",
    "buth_bodhaige_chem_count_df = buth_bodhaige_chem_count_df.reset_index().sort_values('CDPHId', ascending=False)\n",
    "buth_bodhaige_chem_count_df"
   ]
  },
  {
   "cell_type": "code",
   "execution_count": null,
   "metadata": {},
   "outputs": [],
   "source": [
    "loreal_df = clean_data_df[clean_data_df['Cleaned_CompanyName'] == \"l'oreal usa\"]\n",
    "loreal_df.head()\n",
    "# Count number of products by ChemicalCount\n",
    "loreal_chem_count_df = dce.get_count_by_df(loreal_df, 'CDPHId', 'ChemicalCount')\n",
    "loreal_chem_count_df = loreal_chem_count_df.reset_index().sort_values('CDPHId', ascending=False)\n",
    "loreal_chem_count_df"
   ]
  },
  {
   "cell_type": "code",
   "execution_count": null,
   "metadata": {},
   "outputs": [],
   "source": [
    "# Count number of products by Cosmetic Primary Category\n",
    "loreal_primary_cat_count_df = dce.get_count_by_df_sorted_count(loreal_df, 'CDPHId', 'PrimaryCategory')\n",
    "loreal_primary_cat_count_df"
   ]
  },
  {
   "cell_type": "code",
   "execution_count": null,
   "metadata": {
    "scrolled": true
   },
   "outputs": [],
   "source": [
    "proctor_gamble_df = clean_data_df[clean_data_df['Cleaned_CompanyName'] == 'the procter & gamble company']\n",
    "proctor_gamble_df.head()"
   ]
  },
  {
   "cell_type": "code",
   "execution_count": null,
   "metadata": {},
   "outputs": [],
   "source": [
    "# Count number of products by ChemicalCount\n",
    "proctor_gamble_chem_count_df = dce.get_count_by_df(proctor_gamble_df, 'CDPHId', 'ChemicalCount')\n",
    "proctor_gamble_chem_count_df = proctor_gamble_chem_count_df.reset_index().sort_values('CDPHId', ascending=False)\n",
    "proctor_gamble_chem_count_df"
   ]
  },
  {
   "cell_type": "code",
   "execution_count": null,
   "metadata": {},
   "outputs": [],
   "source": [
    "# Count number of products by Cosmetic Primary Category\n",
    "proctor_gamble_primary_cat_count_df = dce.get_count_by_df_sorted_count(proctor_gamble_df, 'CDPHId', 'PrimaryCategory')\n",
    "proctor_gamble_primary_cat_count_df"
   ]
  },
  {
   "cell_type": "markdown",
   "metadata": {},
   "source": [
    "## Analyzing Chemical Counts"
   ]
  },
  {
   "cell_type": "code",
   "execution_count": null,
   "metadata": {
    "scrolled": true
   },
   "outputs": [],
   "source": [
    "# Count number of products by ChemicalCount\n",
    "chemical_count_df = dce.get_count_by_df(clean_data_df, 'CDPHId', 'ChemicalCount')\n",
    "chemical_count_df = chemical_count_df.reset_index().sort_values('CDPHId', ascending=False)\n",
    "chemical_count_df"
   ]
  },
  {
   "cell_type": "code",
   "execution_count": null,
   "metadata": {
    "scrolled": false
   },
   "outputs": [],
   "source": [
    "x = chemical_count_df['ChemicalCount']\n",
    "y = chemical_count_df['CDPHId']\n",
    "\n",
    "fig, ax = plt.subplots(figsize=(12, 8))\n",
    "ax = sns.barplot(x, y)\n",
    "ax.set_title('Number of Products Per Chemical Count', fontsize=20)\n",
    "ax.set_xlabel('Chemical Count', fontsize=15)\n",
    "ax.set_ylabel('Number of Products', fontsize=15)\n",
    "\n",
    "for x_i, y_i in zip(x, y):\n",
    "    ax.annotate(y_i, (x_i, y_i), textcoords=\"offset points\", xytext=(0,4), ha='center')\n",
    "    \n",
    "fig.savefig('images/num_products_per_chemical_count_barchart')"
   ]
  },
  {
   "cell_type": "markdown",
   "metadata": {},
   "source": [
    "## Analyzing Cosmetics Primary Categories"
   ]
  },
  {
   "cell_type": "code",
   "execution_count": null,
   "metadata": {
    "scrolled": false
   },
   "outputs": [],
   "source": [
    "# Count number of products by Primary Category\n",
    "primary_category_count_df = dce.get_count_by_df(clean_data_df, 'CDPHId', 'PrimaryCategory')\n",
    "primary_category_count_df = primary_category_count_df.reset_index().sort_values('CDPHId', ascending=False)\n",
    "primary_category_count_df"
   ]
  },
  {
   "cell_type": "code",
   "execution_count": null,
   "metadata": {
    "scrolled": false
   },
   "outputs": [],
   "source": [
    "# Plot number of products by Primary Category\n",
    "fig, ax = plt.subplots(figsize=(12, 7))\n",
    "ax = sns.barplot(data=primary_category_count_df, x='CDPHId', y='PrimaryCategory', \n",
    "                 orient = 'h')\n",
    "ax.set_title('Number of Products by Primary Category', fontsize=20)\n",
    "ax.set_xlabel('Number of Products Reported', fontsize=15)\n",
    "ax.set_ylabel('Primary Category', fontsize=15)\n",
    "\n",
    "for datum, p in zip(primary_category_count_df['CDPHId'].sort_values(ascending=False), \n",
    "                    ax.patches):\n",
    "        x = p.get_x() + p.get_width() + 0.02\n",
    "        y = p.get_y() + p.get_height()/2\n",
    "        ax.annotate(datum, (x, y))\n",
    "\n",
    "fig.tight_layout()\n",
    "fig.savefig('images/num_products_by_primary_cat_barchart')"
   ]
  },
  {
   "cell_type": "code",
   "execution_count": null,
   "metadata": {},
   "outputs": [],
   "source": [
    "company_count_top10_df = company_count_df.loc[company_count_df['CDPHId'].head(10).index,:]\n",
    "\n",
    "# Plot number of products by Company Name & by Primary Category\n",
    "fig, ax = plt.subplots(figsize=(12, 7))\n",
    "ax = sns.barplot(ax=ax, data=company_count_top10_df, x='CDPHId', y='Cleaned_CompanyName', \n",
    "                 orient = 'h')\n",
    "ax.set_title('Number of Reported Products by Company (Top 10)', fontsize=20)\n",
    "ax.set_xlabel('Number of Reported Products', fontsize=15)\n",
    "ax.set_ylabel('Company Name', fontsize=15)\n",
    "\n",
    "for datum, p in zip(company_count_over500_df['CDPHId'].sort_values(ascending=False), \n",
    "                    ax.patches):\n",
    "        x = p.get_x() + p.get_width() + 0.02\n",
    "        y = p.get_y() + p.get_height()/2\n",
    "        ax.annotate(datum, (x, y))\n",
    "        \n",
    "fig.tight_layout()\n",
    "fig.savefig('images/bar_num_products_by_company_top10')"
   ]
  },
  {
   "cell_type": "code",
   "execution_count": null,
   "metadata": {
    "scrolled": false
   },
   "outputs": [],
   "source": [
    "company_count_top10_df = company_count_df.loc[company_count_df['CDPHId'].head(10).index,:]\n",
    "\n",
    "# Plot number of products by Company Name & by Primary Category\n",
    "fig, axs = plt.subplots(2, 1, figsize=(12, 7), sharex=True)\n",
    "axs[0] = sns.barplot(ax=axs[0], data=company_count_top10_df, x='CDPHId', y='Cleaned_CompanyName', \n",
    "                 orient = 'h')\n",
    "axs[0].set_title('Number of Reported Products by Company (Top 10)', fontsize=20)\n",
    "axs[0].set_xlabel('Number of Reported Products', fontsize=15)\n",
    "axs[0].set_ylabel('Company Name', fontsize=15)\n",
    "\n",
    "for datum, p in zip(company_count_over500_df['CDPHId'].sort_values(ascending=False), \n",
    "                    axs[0].patches):\n",
    "        x = p.get_x() + p.get_width() + 0.02\n",
    "        y = p.get_y() + p.get_height()/2\n",
    "        axs[0].annotate(datum, (x, y))\n",
    "        \n",
    "axs[1] = sns.barplot(ax=axs[1], data=primary_category_count_df, x='CDPHId', y='PrimaryCategory', \n",
    "                 orient = 'h')\n",
    "axs[1].set_title('Number of Reported Products by Primary Category', fontsize=20)\n",
    "axs[1].set_xlabel('Number of Reported Products', fontsize=15)\n",
    "axs[1].set_ylabel('Primary Category', fontsize=15)\n",
    "\n",
    "for datum, p in zip(primary_category_count_df['CDPHId'].sort_values(ascending=False), \n",
    "                    axs[1].patches):\n",
    "        x = p.get_x() + p.get_width() + 0.02\n",
    "        y = p.get_y() + p.get_height()/2\n",
    "        axs[1].annotate(datum, (x, y))\n",
    "\n",
    "fig.tight_layout()\n",
    "fig.savefig('images/bar_num_products_by_company_and_primary_cat')"
   ]
  },
  {
   "cell_type": "markdown",
   "metadata": {},
   "source": [
    "## See what chemicals are in makeup products"
   ]
  },
  {
   "cell_type": "code",
   "execution_count": null,
   "metadata": {},
   "outputs": [],
   "source": []
  },
  {
   "cell_type": "markdown",
   "metadata": {},
   "source": [
    "## Analyzing Cosmetics Sub Categories"
   ]
  },
  {
   "cell_type": "code",
   "execution_count": null,
   "metadata": {
    "scrolled": true
   },
   "outputs": [],
   "source": [
    "# Count number of products by Sub Category\n",
    "sub_category_count_df = dce.get_count_by_df(clean_data_df, 'CDPHId', 'Cleaned_SubCategory')\n",
    "sub_category_count_df = sub_category_count_df.reset_index().sort_values('CDPHId', ascending=False)\n",
    "sub_category_count_df\n",
    "\n",
    "sub_category_count_over500_df = sub_category_count_df[sub_category_count_df['CDPHId'] > 500]"
   ]
  },
  {
   "cell_type": "code",
   "execution_count": null,
   "metadata": {},
   "outputs": [],
   "source": [
    "clean_data_df.iloc[sub_category_count_over500_df.index]['PrimaryCategory'].unique()"
   ]
  },
  {
   "cell_type": "code",
   "execution_count": null,
   "metadata": {
    "scrolled": false
   },
   "outputs": [],
   "source": [
    "# Plot number of products by Sub Category\n",
    "fig, ax = plt.subplots(figsize=(12, 7))\n",
    "ax = sns.barplot(data=sub_category_count_over500_df, x='CDPHId', y='Cleaned_SubCategory', \n",
    "                 orient = 'h')\n",
    "ax.set_title('Number of Products by Sub Category', fontsize=20)\n",
    "ax.set_xlabel('Number of Products Reported', fontsize=15)\n",
    "ax.set_ylabel('Sub Category', fontsize=15)\n",
    "\n",
    "for datum, p in zip(sub_category_count_over500_df['CDPHId'].sort_values(ascending=False), \n",
    "                    ax.patches):\n",
    "        x = p.get_x() + p.get_width() + 0.02\n",
    "        y = p.get_y() + p.get_height()/2\n",
    "        ax.annotate(datum, (x, y))\n",
    "\n",
    "fig.tight_layout()\n",
    "fig.savefig('images/num_products_by_sub_cat_barchart')"
   ]
  },
  {
   "cell_type": "code",
   "execution_count": null,
   "metadata": {
    "scrolled": false
   },
   "outputs": [],
   "source": [
    "company_count_top10_df = company_count_df.loc[company_count_df['CDPHId'].head(10).index,:]\n",
    "sub_category_count_top10_df = sub_category_count_df.loc[sub_category_count_df['CDPHId'].head(10).index,:]\n",
    "\n",
    "# Plot number of products by Company Name, Primary Category, & Sub Category\n",
    "fig, axs = plt.subplots(3, 1, figsize=(12, 15), sharex=True)\n",
    "axs[0] = sns.barplot(ax=axs[0], data=company_count_top10_df, x='CDPHId', y='Cleaned_CompanyName', \n",
    "                 orient = 'h')\n",
    "axs[0].set_title('Number of Reported Products by Company (Top 10)', fontsize=20)\n",
    "axs[0].set_xlabel('Number of Reported Products', fontsize=15)\n",
    "axs[0].set_ylabel('Company Name', fontsize=15)\n",
    "\n",
    "for datum, p in zip(company_count_over500_df['CDPHId'].sort_values(ascending=False), \n",
    "                    axs[0].patches):\n",
    "        x = p.get_x() + p.get_width() + 0.02\n",
    "        y = p.get_y() + p.get_height()/2\n",
    "        axs[0].annotate(datum, (x, y))\n",
    "        \n",
    "axs[1] = sns.barplot(ax=axs[1], data=primary_category_count_df, x='CDPHId', y='PrimaryCategory', \n",
    "                 orient = 'h')\n",
    "axs[1].set_title('Number of Reported Products by Primary Category', fontsize=20)\n",
    "axs[1].set_xlabel('Number of Reported Products', fontsize=15)\n",
    "axs[1].set_ylabel('Primary Category', fontsize=15)\n",
    "\n",
    "for datum, p in zip(primary_category_count_df['CDPHId'].sort_values(ascending=False), \n",
    "                    axs[1].patches):\n",
    "        x = p.get_x() + p.get_width() + 0.02\n",
    "        y = p.get_y() + p.get_height()/2\n",
    "        axs[1].annotate(datum, (x, y))\n",
    "        \n",
    "axs[2] = sns.barplot(ax=axs[2], data=sub_category_count_top10_df, x='CDPHId', y='Cleaned_SubCategory', \n",
    "                 orient = 'h')\n",
    "axs[2].set_title('Number of Reported Products by Sub Category (Top 10)', fontsize=20)\n",
    "axs[2].set_xlabel('Number of Reported Products', fontsize=15)\n",
    "axs[2].set_ylabel('Sub Category', fontsize=15)\n",
    "\n",
    "for datum, p in zip(sub_category_count_top10_df['CDPHId'].sort_values(ascending=False), \n",
    "                    axs[2].patches):\n",
    "        x = p.get_x() + p.get_width() + 0.02\n",
    "        y = p.get_y() + p.get_height()/2\n",
    "        axs[2].annotate(datum, (x, y))        \n",
    "\n",
    "fig.tight_layout()\n",
    "fig.savefig('images/bar_num_products_by_company_and_cats')"
   ]
  },
  {
   "cell_type": "code",
   "execution_count": null,
   "metadata": {},
   "outputs": [],
   "source": []
  },
  {
   "cell_type": "markdown",
   "metadata": {},
   "source": [
    "# Appendix - Additional EDA"
   ]
  },
  {
   "cell_type": "markdown",
   "metadata": {},
   "source": [
    "### Investigate Products with 0 Chemicals"
   ]
  },
  {
   "cell_type": "code",
   "execution_count": null,
   "metadata": {
    "scrolled": true
   },
   "outputs": [],
   "source": [
    "zero_chemicals_df = clean_data_df[clean_data_df['ChemicalCount'] == 0]\n",
    "zero_chemicals_df.head()"
   ]
  },
  {
   "cell_type": "code",
   "execution_count": null,
   "metadata": {},
   "outputs": [],
   "source": [
    "zero_chemicals_df.info()"
   ]
  },
  {
   "cell_type": "code",
   "execution_count": null,
   "metadata": {},
   "outputs": [],
   "source": [
    "# Count number of 0-chemical products by CompanyName\n",
    "zero_chemicals_count_companies_df = dce.get_count_by_df(zero_chemicals_df, 'CDPHId', 'Cleaned_CompanyName')\n",
    "zero_chemicals_count_companies_df = zero_chemicals_count_companies_df.reset_index().sort_values('CDPHId', ascending=False)\n",
    "zero_chemicals_count_companies_df.head(10)"
   ]
  },
  {
   "cell_type": "markdown",
   "metadata": {},
   "source": [
    "### Investigate Products with 0 Chemicals"
   ]
  },
  {
   "cell_type": "code",
   "execution_count": null,
   "metadata": {},
   "outputs": [],
   "source": [
    "five_or_more_chemicals_list = [i for i in range(5,10)]\n",
    "five_or_more_chemicals_df = clean_data_df[clean_data_df['ChemicalCount']\n",
    "                                          .isin(five_or_more_chemicals_list)]\n",
    "five_or_more_chemicals_df.head()"
   ]
  },
  {
   "cell_type": "code",
   "execution_count": null,
   "metadata": {
    "scrolled": true
   },
   "outputs": [],
   "source": [
    "fig, ax = plt.subplots(figsize=(20, 10))\n",
    "ax.hist(zero_chemicals_df['PrimaryCategory'])\n",
    "plt.xticks(rotation='45')\n",
    "ax.tick_params(axis=\"x\", labelsize=20)\n",
    "ax.tick_params(axis=\"y\", labelsize=20)\n",
    "ax.set_xlabel('Cosmetics Category', size=30)\n",
    "plt.show()"
   ]
  },
  {
   "cell_type": "markdown",
   "metadata": {},
   "source": [
    "## Discontinued Products"
   ]
  },
  {
   "cell_type": "code",
   "execution_count": null,
   "metadata": {},
   "outputs": [],
   "source": [
    "discontinued_df = clean_data_df[clean_data_df['DiscontinuedDate'].isna()==False]\n",
    "discontinued_df.head()"
   ]
  },
  {
   "cell_type": "code",
   "execution_count": null,
   "metadata": {},
   "outputs": [],
   "source": [
    "discontinued_df"
   ]
  },
  {
   "cell_type": "markdown",
   "metadata": {},
   "source": [
    "## Reformulated Products"
   ]
  },
  {
   "cell_type": "code",
   "execution_count": null,
   "metadata": {},
   "outputs": [],
   "source": [
    "reformulated_df = clean_data_df[clean_data_df['ChemicalDateRemoved'].isna()==False]\n",
    "reformulated_df.head()"
   ]
  },
  {
   "cell_type": "code",
   "execution_count": null,
   "metadata": {},
   "outputs": [],
   "source": []
  },
  {
   "cell_type": "markdown",
   "metadata": {},
   "source": [
    "### Investigate Product with 9 Chemicals"
   ]
  },
  {
   "cell_type": "code",
   "execution_count": null,
   "metadata": {
    "scrolled": false
   },
   "outputs": [],
   "source": [
    "nine_chemicals_df = clean_data_df[clean_data_df['ChemicalCount'] == 9]\n",
    "nine_chemicals_df"
   ]
  },
  {
   "cell_type": "code",
   "execution_count": null,
   "metadata": {},
   "outputs": [],
   "source": [
    "list(nine_chemicals_df['ChemicalName'].unique())"
   ]
  },
  {
   "cell_type": "code",
   "execution_count": null,
   "metadata": {},
   "outputs": [],
   "source": []
  },
  {
   "cell_type": "code",
   "execution_count": null,
   "metadata": {},
   "outputs": [],
   "source": []
  },
  {
   "cell_type": "markdown",
   "metadata": {},
   "source": [
    "## Analyzing Reformulated Products"
   ]
  },
  {
   "cell_type": "markdown",
   "metadata": {},
   "source": [
    "### Time to Reformulation"
   ]
  },
  {
   "cell_type": "code",
   "execution_count": null,
   "metadata": {},
   "outputs": [],
   "source": [
    "# Get df WITH ONLY NON-NULL DISCONTINUED DATES\n",
    "reformulation_df = clean_data_df[clean_data_df['ChemicalDateRemoved'].isna() == False]\n",
    "reformulation_df.head()"
   ]
  },
  {
   "cell_type": "code",
   "execution_count": null,
   "metadata": {},
   "outputs": [],
   "source": [
    "reformulation_df['Days_to_Reformulated'] = (reformulation_df['ChemicalDateRemoved'] - reformulation_df['InitialDateReported']).dt.days\n",
    "reformulation_df.head()"
   ]
  },
  {
   "cell_type": "code",
   "execution_count": null,
   "metadata": {
    "scrolled": false
   },
   "outputs": [],
   "source": [
    "reformulation_df['ChemicalDateRemoved'].hist()"
   ]
  },
  {
   "cell_type": "markdown",
   "metadata": {},
   "source": [
    "## Plot Product Counts by All Dates"
   ]
  },
  {
   "cell_type": "code",
   "execution_count": null,
   "metadata": {},
   "outputs": [],
   "source": [
    "clean_data_df.info()"
   ]
  },
  {
   "cell_type": "code",
   "execution_count": null,
   "metadata": {
    "scrolled": false
   },
   "outputs": [],
   "source": [
    "fig, axs = plt.subplots(2, 1, figsize=(12, 9), sharex=True, sharey=True)\n",
    "\n",
    "x=pd.date_range('2003-05', '2020-04')\n",
    "\n",
    "init_date_count_df['CDPHId'].plot(x=x, ax=axs[0], linewidth=1);\n",
    "discontinued_date_count_df['CDPHId'].plot(x=x, ax=axs[1], linewidth=1);\n",
    "\n",
    "axs[0].set_title('Number of Products Reported Over Time', fontsize=20)\n",
    "axs[0].set_xlabel('Time by Month', fontsize=15)\n",
    "axs[0].set_ylabel('Number of Products', fontsize=15)\n",
    "\n",
    "axs[1].set_title('Number of Products Discontinued Over Time', fontsize=20)\n",
    "axs[1].set_xlabel('Time by Month', fontsize=15)\n",
    "axs[1].set_ylabel('Number of Products', fontsize=15)\n",
    "\n",
    "fig.tight_layout()\n",
    "fig.savefig('images/num_products_over_time_monthly')"
   ]
  },
  {
   "cell_type": "code",
   "execution_count": null,
   "metadata": {},
   "outputs": [],
   "source": [
    "plt.figure(figsize=(12,5))\n",
    "\n",
    "ax1 = discontinued_date_count_df['CDPHId'].plot(color='red', grid=True, label='Sum')\n",
    "ax2 = init_date_count_df['CDPHId'].plot(color='blue', grid=True, label='Count')\n",
    "\n",
    "ax1.legend(loc=1)\n",
    "ax2.legend(loc=2)\n",
    "\n",
    "plt.show()"
   ]
  },
  {
   "cell_type": "code",
   "execution_count": null,
   "metadata": {},
   "outputs": [],
   "source": [
    "plt.figure(figsize=(12,5))\n",
    "\n",
    "ax1 = init_date_count_df['CDPHId'].plot(color='blue', grid=True, label='Count')\n",
    "ax2 = discontinued_date_count_df['CDPHId'].plot(color='red', grid=True, secondary_y=True, label='Sum')\n",
    "\n",
    "ax1.legend(loc=1)\n",
    "ax2.legend(loc=2)\n",
    "\n",
    "plt.show()"
   ]
  },
  {
   "cell_type": "code",
   "execution_count": null,
   "metadata": {},
   "outputs": [],
   "source": [
    "fig, ax = plt.subplots(figsize=(11, 4))\n",
    "\n",
    "x=pd.date_range('2003-05', '2020-04')\n",
    "\n",
    "init_date_count_df['CDPHId'].plot(x=x, ax=ax, linewidth=1);\n",
    "discontinued_date_count_df['CDPHId'].plot(x=x, ax=ax, linewidth=1);\n",
    "\n",
    "ax.set_title('Number of Products Reported Over Time', fontsize=20)\n",
    "ax.set_xlabel('Time by Month', fontsize=15)\n",
    "ax.set_ylabel('Number of Products Reported', fontsize=15)\n",
    "fig.tight_layout()\n",
    "fig.savefig('images/num_products_over_time_monthly')"
   ]
  },
  {
   "cell_type": "markdown",
   "metadata": {},
   "source": [
    "# More Hypothesis Testing"
   ]
  },
  {
   "cell_type": "code",
   "execution_count": null,
   "metadata": {
    "scrolled": false
   },
   "outputs": [],
   "source": [
    "company_reformulated_discontinued_rates_df = pd.concat([clean_data_df2.loc[:,['CDPHId','MostRecentDateReported','ChemicalUpdatedAt','Cleaned_CompanyName']], \n",
    "                                                       clean_data_df2.loc[:,'Count':]], axis=1).copy() \n",
    "company_reformulated_discontinued_rates_df.sort_values(['CDPHId','MostRecentDateReported','ChemicalUpdatedAt'], ascending=False, inplace=True)\n",
    "company_reformulated_discontinued_rates_df.tail()\n",
    "company_reformulated_discontinued_rates_df.drop_duplicates(['CDPHId'], inplace=True)\n",
    "company_reformulated_discontinued_rates_df.drop(columns=['CDPHId','MostRecentDateReported','ChemicalUpdatedAt'], inplace=True)\n",
    "company_reformulated_discontinued_rates_count_df = company_reformulated_discontinued_rates_df.groupby('Cleaned_CompanyName').sum()\n",
    "company_reformulated_discontinued_rates_count_df.sort_values('Count', ascending=False, inplace=True)\n",
    "company_reformulated_discontinued_rates_count_df.head(10)"
   ]
  },
  {
   "cell_type": "code",
   "execution_count": null,
   "metadata": {},
   "outputs": [],
   "source": [
    "company_reformulated_discontinued_rates_count_df['Ratio Reformulated or Discontinued'] = company_reformulated_discontinued_rates_count_df['Reformulated or Discontinued'] / company_reformulated_discontinued_rates_count_df['Count']\n",
    "company_reformulated_discontinued_rates_count_df['Ratio Not yet Reformulated or Discontinued'] = company_reformulated_discontinued_rates_count_df['Not yet Reformulated or Discontinued'] / company_reformulated_discontinued_rates_count_df['Count']\n",
    "company_reformulated_discontinued_rates_count_df.head(10)"
   ]
  },
  {
   "cell_type": "code",
   "execution_count": null,
   "metadata": {},
   "outputs": [],
   "source": [
    "company_reformulated_discontinued_rates_count_df_top10 = company_reformulated_discontinued_rates_count_df.loc[company_reformulated_discontinued_rates_count_df.head(10).index,:]\n",
    "company_reformulated_discontinued_rates_count_df_top10 = company_reformulated_discontinued_rates_count_df_top10.sort_values('Count', ascending=True)\n",
    "fig, ax = plt.subplots(figsize=(10, 6))\n",
    "company_reformulated_discontinued_rates_count_df_top10.plot.barh(ax=ax, y=['Ratio Reformulated or Discontinued', 'Ratio Not yet Reformulated or Discontinued'], stacked=True)\n",
    "ax.set_title('Ratios of Reported Product Status for Top 10 Companies', size = 15)\n",
    "ax.set_xlabel('Ratio', size = 12)\n",
    "ax.set_ylabel('Company', size = 12)\n",
    "ax.legend(loc='best')\n",
    "fig.tight_layout()\n",
    "fig.savefig('images/stacked_bar_ratios_top10_companies')"
   ]
  },
  {
   "cell_type": "code",
   "execution_count": null,
   "metadata": {},
   "outputs": [],
   "source": [
    "company_reformulated_discontinued_rates_count_df_top10.head(10)"
   ]
  },
  {
   "cell_type": "code",
   "execution_count": null,
   "metadata": {},
   "outputs": [],
   "source": [
    "company_reformulated_discontinued_rates_count_df['Ratio Reformulated or Discontinued'] = company_reformulated_discontinued_rates_count_df['Reformulated or Discontinued'] / company_reformulated_discontinued_rates_count_df['Count']\n",
    "company_reformulated_discontinued_rates_count_df['Ratio Not yet Reformulated or Discontinued'] = company_reformulated_discontinued_rates_count_df['Not yet Reformulated or Discontinued'] / company_reformulated_discontinued_rates_count_df['Count']\n",
    "company_reformulated_discontinued_rates_count_df.sort_values('Ratio Reformulated or Discontinued', ascending=False).head(30)"
   ]
  },
  {
   "cell_type": "code",
   "execution_count": null,
   "metadata": {},
   "outputs": [],
   "source": [
    "company_reformulated_discontinued_rates_count_df.loc[company_reformulated_discontinued_rates_count_df.index.str.contains('maybe'),:]"
   ]
  },
  {
   "cell_type": "code",
   "execution_count": null,
   "metadata": {},
   "outputs": [],
   "source": [
    "company_reformulated_discontinued_rates_count_df.sample(20)"
   ]
  },
  {
   "cell_type": "code",
   "execution_count": null,
   "metadata": {},
   "outputs": [],
   "source": [
    "companies = ['opi products inc', 'revlon consumer product corporation', 'chanel inc', 'estee lauder inc', 'the procter & gamble company', 'buth-na-bodhaige inc']\n",
    "choose_companies_reformulated_discontinued_rates_count_df = company_reformulated_discontinued_rates_count_df.loc[company_reformulated_discontinued_rates_count_df.index.isin(companies),:]\n",
    "choose_companies_reformulated_discontinued_rates_count_df.head(10)"
   ]
  },
  {
   "cell_type": "code",
   "execution_count": null,
   "metadata": {},
   "outputs": [],
   "source": [
    "company1_k = 118\n",
    "company1_n = 1458\n",
    "company2_k = 13\n",
    "company2_n = 236\n",
    "\n",
    "company1_ratio = company1_k / company1_n\n",
    "company2_ratio = company2_k / company2_n"
   ]
  },
  {
   "cell_type": "code",
   "execution_count": null,
   "metadata": {},
   "outputs": [],
   "source": [
    "print(company1_ratio, company2_ratio)\n",
    "\n",
    "shared_sample_freq = (company1_k + company2_k) / (company1_n + company2_n)\n",
    "shared_sample_variance = (company1_n + company2_n) * (shared_sample_freq * (1 - shared_sample_freq)) / (company1_n * company2_n)\n",
    "\n",
    "difference_in_proportions = stats.norm(0, np.sqrt(shared_sample_variance))\n",
    "\n",
    "fig, ax = plt.subplots(1, figsize=(16, 3))\n",
    "\n",
    "x = np.linspace(-1, 1, num=250)\n",
    "ax.plot(x, difference_in_proportions.pdf(x), linewidth=3)\n",
    "ax.set_xlim(-1, 1)\n",
    "ax.set_title(\"Distribution of Difference in Sample Frequencies Assuming $H_0$\")"
   ]
  },
  {
   "cell_type": "code",
   "execution_count": null,
   "metadata": {},
   "outputs": [],
   "source": [
    "company1_sample_freq = company1_k / company1_n\n",
    "company2_sample_freq = company2_k / company2_n\n",
    "difference_in_sample_proportions = company1_sample_freq - company2_sample_freq\n",
    "print(\"Difference in sample proportions: {:2.2f}\".format(difference_in_sample_proportions))\n",
    "\n",
    "p_value = 1 - difference_in_proportions.cdf(difference_in_sample_proportions)\n",
    "print(\"p-value for kickfip frequency comparison: {:2.2f}\".format(p_value))"
   ]
  },
  {
   "cell_type": "code",
   "execution_count": null,
   "metadata": {},
   "outputs": [],
   "source": [
    "fig, ax = plt.subplots(1, figsize=(16, 3))\n",
    "\n",
    "x = np.linspace(-1, 1, num=250)\n",
    "ax.plot(x, difference_in_proportions.pdf(x), linewidth=3)\n",
    "ax.fill_between(x, difference_in_proportions.pdf(x), where=(x >= difference_in_sample_proportions),\n",
    "                color=\"red\", alpha=0.5)\n",
    "ax.set_xlim(-1, 1)\n",
    "ax.set_title(\"p-value Region\")\n",
    "\n",
    "fig.savefig('images/hyp_test_opi_revlon')"
   ]
  },
  {
   "cell_type": "code",
   "execution_count": null,
   "metadata": {},
   "outputs": [],
   "source": [
    "company1_k = 5.0\n",
    "company1_n = 88\n",
    "company2_k = 0\n",
    "company2_n = 68\n",
    "\n",
    "company1_ratio = company1_k / company1_n\n",
    "company2_ratio = company2_k / company2_n"
   ]
  },
  {
   "cell_type": "code",
   "execution_count": null,
   "metadata": {},
   "outputs": [],
   "source": [
    "print(company1_ratio, company2_ratio)\n",
    "\n",
    "shared_sample_freq = (company1_k + company2_k) / (company1_n + company2_n)\n",
    "shared_sample_variance = (company1_n + company2_n) * (shared_sample_freq * (1 - shared_sample_freq)) / (company1_n * company2_n)\n",
    "\n",
    "difference_in_proportions = stats.norm(0, np.sqrt(shared_sample_variance))\n",
    "\n",
    "fig, ax = plt.subplots(1, figsize=(16, 3))\n",
    "\n",
    "x = np.linspace(-1, 1, num=250)\n",
    "ax.plot(x, difference_in_proportions.pdf(x), linewidth=3)\n",
    "ax.set_xlim(-1, 1)\n",
    "ax.set_title(\"Distribution of Difference in Sample Frequencies Assuming $H_0$\")"
   ]
  },
  {
   "cell_type": "code",
   "execution_count": null,
   "metadata": {},
   "outputs": [],
   "source": [
    "company1_sample_freq = company1_k / company1_n\n",
    "company2_sample_freq = company2_k / company2_n\n",
    "difference_in_sample_proportions = company1_sample_freq - company2_sample_freq\n",
    "print(\"Difference in sample proportions: {:2.2f}\".format(difference_in_sample_proportions))\n",
    "\n",
    "p_value = 1 - difference_in_proportions.cdf(difference_in_sample_proportions)\n",
    "print(\"p-value for kickfip frequency comparison: {:2.2f}\".format(p_value))"
   ]
  },
  {
   "cell_type": "code",
   "execution_count": null,
   "metadata": {},
   "outputs": [],
   "source": [
    "fig, ax = plt.subplots(1, figsize=(16, 3))\n",
    "\n",
    "x = np.linspace(-1, 1, num=250)\n",
    "ax.plot(x, difference_in_proportions.pdf(x), linewidth=3)\n",
    "ax.fill_between(x, difference_in_proportions.pdf(x), where=(x >= difference_in_sample_proportions),\n",
    "                color=\"red\", alpha=0.5)\n",
    "ax.set_xlim(-1, 1)\n",
    "ax.set_title(\"p-value Region\")\n",
    "\n",
    "fig.savefig('images/hyp_test_estee_chanel')"
   ]
  },
  {
   "cell_type": "code",
   "execution_count": null,
   "metadata": {},
   "outputs": [],
   "source": []
  }
 ],
 "metadata": {
  "kernelspec": {
   "display_name": "Python 3",
   "language": "python",
   "name": "python3"
  },
  "language_info": {
   "codemirror_mode": {
    "name": "ipython",
    "version": 3
   },
   "file_extension": ".py",
   "mimetype": "text/x-python",
   "name": "python",
   "nbconvert_exporter": "python",
   "pygments_lexer": "ipython3",
   "version": "3.7.4"
  }
 },
 "nbformat": 4,
 "nbformat_minor": 2
}
