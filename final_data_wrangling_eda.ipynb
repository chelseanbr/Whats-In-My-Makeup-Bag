{
 "cells": [
  {
   "cell_type": "code",
   "execution_count": 1,
   "metadata": {},
   "outputs": [],
   "source": [
    "# Imports\n",
    "import numpy as np\n",
    "import pandas as pd\n",
    "import matplotlib.pyplot as plt\n",
    "import scipy.stats as stats\n",
    "import seaborn as sns\n",
    "\n",
    "import os\n",
    "import sys\n",
    "sys.path.append(os.getcwd() + '/src')\n",
    "import data_cleaning_eda as dce\n",
    "\n",
    "%matplotlib inline\n",
    "plt.style.use('ggplot')"
   ]
  },
  {
   "cell_type": "markdown",
   "metadata": {},
   "source": [
    "# Data Wrangling"
   ]
  },
  {
   "cell_type": "markdown",
   "metadata": {},
   "source": [
    "## Loading Data to a Pandas DataFrame"
   ]
  },
  {
   "cell_type": "code",
   "execution_count": 2,
   "metadata": {},
   "outputs": [
    {
     "data": {
      "text/plain": [
       "(113780, 22)"
      ]
     },
     "execution_count": 2,
     "metadata": {},
     "output_type": "execute_result"
    }
   ],
   "source": [
    "# Load data to dataframe\n",
    "data_file = 'data/cscpopendata.csv'\n",
    "data_df = pd.read_csv(data_file)\n",
    "# Get dataframe shape\n",
    "data_df.shape"
   ]
  },
  {
   "cell_type": "code",
   "execution_count": 3,
   "metadata": {},
   "outputs": [
    {
     "data": {
      "text/html": [
       "<div>\n",
       "<style scoped>\n",
       "    .dataframe tbody tr th:only-of-type {\n",
       "        vertical-align: middle;\n",
       "    }\n",
       "\n",
       "    .dataframe tbody tr th {\n",
       "        vertical-align: top;\n",
       "    }\n",
       "\n",
       "    .dataframe thead th {\n",
       "        text-align: right;\n",
       "    }\n",
       "</style>\n",
       "<table border=\"1\" class=\"dataframe\">\n",
       "  <thead>\n",
       "    <tr style=\"text-align: right;\">\n",
       "      <th></th>\n",
       "      <th>CDPHId</th>\n",
       "      <th>ProductName</th>\n",
       "      <th>CSFId</th>\n",
       "      <th>CSF</th>\n",
       "      <th>CompanyId</th>\n",
       "      <th>CompanyName</th>\n",
       "      <th>BrandName</th>\n",
       "      <th>PrimaryCategoryId</th>\n",
       "      <th>PrimaryCategory</th>\n",
       "      <th>SubCategoryId</th>\n",
       "      <th>...</th>\n",
       "      <th>CasNumber</th>\n",
       "      <th>ChemicalId</th>\n",
       "      <th>ChemicalName</th>\n",
       "      <th>InitialDateReported</th>\n",
       "      <th>MostRecentDateReported</th>\n",
       "      <th>DiscontinuedDate</th>\n",
       "      <th>ChemicalCreatedAt</th>\n",
       "      <th>ChemicalUpdatedAt</th>\n",
       "      <th>ChemicalDateRemoved</th>\n",
       "      <th>ChemicalCount</th>\n",
       "    </tr>\n",
       "  </thead>\n",
       "  <tbody>\n",
       "    <tr>\n",
       "      <td>0</td>\n",
       "      <td>2</td>\n",
       "      <td>ULTRA COLOR RICH EXTRA PLUMP LIPSTICK-ALL SHADES</td>\n",
       "      <td>NaN</td>\n",
       "      <td>NaN</td>\n",
       "      <td>4</td>\n",
       "      <td>New Avon LLC</td>\n",
       "      <td>AVON</td>\n",
       "      <td>44</td>\n",
       "      <td>Makeup Products (non-permanent)</td>\n",
       "      <td>53</td>\n",
       "      <td>...</td>\n",
       "      <td>13463-67-7</td>\n",
       "      <td>6</td>\n",
       "      <td>Titanium dioxide</td>\n",
       "      <td>06/17/2009</td>\n",
       "      <td>08/28/2013</td>\n",
       "      <td>02/01/2011</td>\n",
       "      <td>07/09/2009</td>\n",
       "      <td>07/09/2009</td>\n",
       "      <td>NaN</td>\n",
       "      <td>1</td>\n",
       "    </tr>\n",
       "    <tr>\n",
       "      <td>1</td>\n",
       "      <td>3</td>\n",
       "      <td>Glover's Medicated Shampoo</td>\n",
       "      <td>NaN</td>\n",
       "      <td>NaN</td>\n",
       "      <td>338</td>\n",
       "      <td>J. Strickland &amp; Co.</td>\n",
       "      <td>Glover's</td>\n",
       "      <td>18</td>\n",
       "      <td>Hair Care Products (non-coloring)</td>\n",
       "      <td>25</td>\n",
       "      <td>...</td>\n",
       "      <td>65996-92-1</td>\n",
       "      <td>4</td>\n",
       "      <td>Distillates (coal tar)</td>\n",
       "      <td>07/01/2009</td>\n",
       "      <td>07/01/2009</td>\n",
       "      <td>NaN</td>\n",
       "      <td>07/01/2009</td>\n",
       "      <td>07/01/2009</td>\n",
       "      <td>NaN</td>\n",
       "      <td>2</td>\n",
       "    </tr>\n",
       "    <tr>\n",
       "      <td>2</td>\n",
       "      <td>3</td>\n",
       "      <td>Glover's Medicated Shampoo</td>\n",
       "      <td>NaN</td>\n",
       "      <td>NaN</td>\n",
       "      <td>338</td>\n",
       "      <td>J. Strickland &amp; Co.</td>\n",
       "      <td>Glover's</td>\n",
       "      <td>18</td>\n",
       "      <td>Hair Care Products (non-coloring)</td>\n",
       "      <td>25</td>\n",
       "      <td>...</td>\n",
       "      <td>140-67-0</td>\n",
       "      <td>5</td>\n",
       "      <td>Estragole</td>\n",
       "      <td>07/01/2009</td>\n",
       "      <td>07/01/2009</td>\n",
       "      <td>NaN</td>\n",
       "      <td>07/02/2009</td>\n",
       "      <td>07/02/2009</td>\n",
       "      <td>NaN</td>\n",
       "      <td>2</td>\n",
       "    </tr>\n",
       "    <tr>\n",
       "      <td>3</td>\n",
       "      <td>4</td>\n",
       "      <td>PRECISION GLIMMER EYE LINER-ALL SHADES �</td>\n",
       "      <td>NaN</td>\n",
       "      <td>NaN</td>\n",
       "      <td>4</td>\n",
       "      <td>New Avon LLC</td>\n",
       "      <td>AVON</td>\n",
       "      <td>44</td>\n",
       "      <td>Makeup Products (non-permanent)</td>\n",
       "      <td>46</td>\n",
       "      <td>...</td>\n",
       "      <td>13463-67-7</td>\n",
       "      <td>7</td>\n",
       "      <td>Titanium dioxide</td>\n",
       "      <td>07/09/2009</td>\n",
       "      <td>08/28/2013</td>\n",
       "      <td>NaN</td>\n",
       "      <td>07/09/2009</td>\n",
       "      <td>07/09/2009</td>\n",
       "      <td>NaN</td>\n",
       "      <td>1</td>\n",
       "    </tr>\n",
       "    <tr>\n",
       "      <td>4</td>\n",
       "      <td>5</td>\n",
       "      <td>AVON BRILLIANT SHINE LIP GLOSS-ALL SHADES �</td>\n",
       "      <td>NaN</td>\n",
       "      <td>NaN</td>\n",
       "      <td>4</td>\n",
       "      <td>New Avon LLC</td>\n",
       "      <td>AVON</td>\n",
       "      <td>44</td>\n",
       "      <td>Makeup Products (non-permanent)</td>\n",
       "      <td>52</td>\n",
       "      <td>...</td>\n",
       "      <td>13463-67-7</td>\n",
       "      <td>8</td>\n",
       "      <td>Titanium dioxide</td>\n",
       "      <td>07/09/2009</td>\n",
       "      <td>08/28/2013</td>\n",
       "      <td>02/01/2011</td>\n",
       "      <td>07/09/2009</td>\n",
       "      <td>07/09/2009</td>\n",
       "      <td>NaN</td>\n",
       "      <td>1</td>\n",
       "    </tr>\n",
       "  </tbody>\n",
       "</table>\n",
       "<p>5 rows × 22 columns</p>\n",
       "</div>"
      ],
      "text/plain": [
       "   CDPHId                                       ProductName  CSFId  CSF  \\\n",
       "0       2  ULTRA COLOR RICH EXTRA PLUMP LIPSTICK-ALL SHADES    NaN  NaN   \n",
       "1       3                        Glover's Medicated Shampoo    NaN  NaN   \n",
       "2       3                        Glover's Medicated Shampoo    NaN  NaN   \n",
       "3       4          PRECISION GLIMMER EYE LINER-ALL SHADES �    NaN  NaN   \n",
       "4       5       AVON BRILLIANT SHINE LIP GLOSS-ALL SHADES �    NaN  NaN   \n",
       "\n",
       "   CompanyId          CompanyName BrandName  PrimaryCategoryId  \\\n",
       "0          4         New Avon LLC      AVON                 44   \n",
       "1        338  J. Strickland & Co.  Glover's                 18   \n",
       "2        338  J. Strickland & Co.  Glover's                 18   \n",
       "3          4         New Avon LLC      AVON                 44   \n",
       "4          4         New Avon LLC      AVON                 44   \n",
       "\n",
       "                     PrimaryCategory  SubCategoryId  ...   CasNumber  \\\n",
       "0    Makeup Products (non-permanent)             53  ...  13463-67-7   \n",
       "1  Hair Care Products (non-coloring)             25  ...  65996-92-1   \n",
       "2  Hair Care Products (non-coloring)             25  ...    140-67-0   \n",
       "3    Makeup Products (non-permanent)             46  ...  13463-67-7   \n",
       "4    Makeup Products (non-permanent)             52  ...  13463-67-7   \n",
       "\n",
       "   ChemicalId            ChemicalName  InitialDateReported  \\\n",
       "0           6        Titanium dioxide           06/17/2009   \n",
       "1           4  Distillates (coal tar)           07/01/2009   \n",
       "2           5               Estragole           07/01/2009   \n",
       "3           7        Titanium dioxide           07/09/2009   \n",
       "4           8        Titanium dioxide           07/09/2009   \n",
       "\n",
       "  MostRecentDateReported DiscontinuedDate ChemicalCreatedAt ChemicalUpdatedAt  \\\n",
       "0             08/28/2013       02/01/2011        07/09/2009        07/09/2009   \n",
       "1             07/01/2009              NaN        07/01/2009        07/01/2009   \n",
       "2             07/01/2009              NaN        07/02/2009        07/02/2009   \n",
       "3             08/28/2013              NaN        07/09/2009        07/09/2009   \n",
       "4             08/28/2013       02/01/2011        07/09/2009        07/09/2009   \n",
       "\n",
       "  ChemicalDateRemoved ChemicalCount  \n",
       "0                 NaN             1  \n",
       "1                 NaN             2  \n",
       "2                 NaN             2  \n",
       "3                 NaN             1  \n",
       "4                 NaN             1  \n",
       "\n",
       "[5 rows x 22 columns]"
      ]
     },
     "execution_count": 3,
     "metadata": {},
     "output_type": "execute_result"
    }
   ],
   "source": [
    "# Preview top of dataframe\n",
    "data_df.head()"
   ]
  },
  {
   "cell_type": "code",
   "execution_count": 4,
   "metadata": {
    "scrolled": false
   },
   "outputs": [
    {
     "data": {
      "text/html": [
       "<div>\n",
       "<style scoped>\n",
       "    .dataframe tbody tr th:only-of-type {\n",
       "        vertical-align: middle;\n",
       "    }\n",
       "\n",
       "    .dataframe tbody tr th {\n",
       "        vertical-align: top;\n",
       "    }\n",
       "\n",
       "    .dataframe thead th {\n",
       "        text-align: right;\n",
       "    }\n",
       "</style>\n",
       "<table border=\"1\" class=\"dataframe\">\n",
       "  <thead>\n",
       "    <tr style=\"text-align: right;\">\n",
       "      <th></th>\n",
       "      <th>CDPHId</th>\n",
       "      <th>ProductName</th>\n",
       "      <th>CSFId</th>\n",
       "      <th>CSF</th>\n",
       "      <th>CompanyId</th>\n",
       "      <th>CompanyName</th>\n",
       "      <th>BrandName</th>\n",
       "      <th>PrimaryCategoryId</th>\n",
       "      <th>PrimaryCategory</th>\n",
       "      <th>SubCategoryId</th>\n",
       "      <th>...</th>\n",
       "      <th>CasNumber</th>\n",
       "      <th>ChemicalId</th>\n",
       "      <th>ChemicalName</th>\n",
       "      <th>InitialDateReported</th>\n",
       "      <th>MostRecentDateReported</th>\n",
       "      <th>DiscontinuedDate</th>\n",
       "      <th>ChemicalCreatedAt</th>\n",
       "      <th>ChemicalUpdatedAt</th>\n",
       "      <th>ChemicalDateRemoved</th>\n",
       "      <th>ChemicalCount</th>\n",
       "    </tr>\n",
       "  </thead>\n",
       "  <tbody>\n",
       "    <tr>\n",
       "      <td>113775</td>\n",
       "      <td>41351</td>\n",
       "      <td>DP NAIL POLISH ART KIT 18PC</td>\n",
       "      <td>64680.0</td>\n",
       "      <td>TRANSPARENT - N/A - N/A</td>\n",
       "      <td>1250</td>\n",
       "      <td>NINGBO MEITELI COSMETICS CO.,LTD.</td>\n",
       "      <td>INTERNATIONAL LACQUER</td>\n",
       "      <td>59</td>\n",
       "      <td>Nail Products</td>\n",
       "      <td>65</td>\n",
       "      <td>...</td>\n",
       "      <td>NaN</td>\n",
       "      <td>67737</td>\n",
       "      <td>Isopropyl alcohol manufacture using strong acids</td>\n",
       "      <td>03/31/2020</td>\n",
       "      <td>03/31/2020</td>\n",
       "      <td>NaN</td>\n",
       "      <td>03/31/2020</td>\n",
       "      <td>03/31/2020</td>\n",
       "      <td>NaN</td>\n",
       "      <td>1</td>\n",
       "    </tr>\n",
       "    <tr>\n",
       "      <td>113776</td>\n",
       "      <td>41352</td>\n",
       "      <td>DP NAIL POLISH 4PC METALLIC</td>\n",
       "      <td>64681.0</td>\n",
       "      <td>TRANSPARENT - N - N/A</td>\n",
       "      <td>1250</td>\n",
       "      <td>NINGBO MEITELI COSMETICS CO.,LTD.</td>\n",
       "      <td>INTERNATIONAL LACQUER</td>\n",
       "      <td>59</td>\n",
       "      <td>Nail Products</td>\n",
       "      <td>65</td>\n",
       "      <td>...</td>\n",
       "      <td>NaN</td>\n",
       "      <td>67738</td>\n",
       "      <td>Isopropyl alcohol manufacture using strong acids</td>\n",
       "      <td>03/31/2020</td>\n",
       "      <td>03/31/2020</td>\n",
       "      <td>NaN</td>\n",
       "      <td>03/31/2020</td>\n",
       "      <td>03/31/2020</td>\n",
       "      <td>NaN</td>\n",
       "      <td>1</td>\n",
       "    </tr>\n",
       "    <tr>\n",
       "      <td>113777</td>\n",
       "      <td>41353</td>\n",
       "      <td>DP EYESHADOW 44 SHADE CUBE</td>\n",
       "      <td>64682.0</td>\n",
       "      <td>TRANSPARENT - N/A - N/A</td>\n",
       "      <td>1250</td>\n",
       "      <td>NINGBO MEITELI COSMETICS CO.,LTD.</td>\n",
       "      <td>NANJING CHANGJIANG PETROLEUM &amp; CHEMICAL</td>\n",
       "      <td>44</td>\n",
       "      <td>Makeup Products (non-permanent)</td>\n",
       "      <td>48</td>\n",
       "      <td>...</td>\n",
       "      <td>NaN</td>\n",
       "      <td>67739</td>\n",
       "      <td>Mineral oils, untreated and mildly treated</td>\n",
       "      <td>03/31/2020</td>\n",
       "      <td>03/31/2020</td>\n",
       "      <td>NaN</td>\n",
       "      <td>03/31/2020</td>\n",
       "      <td>03/31/2020</td>\n",
       "      <td>NaN</td>\n",
       "      <td>1</td>\n",
       "    </tr>\n",
       "    <tr>\n",
       "      <td>113778</td>\n",
       "      <td>41354</td>\n",
       "      <td>DP EYESHADOW PURSE</td>\n",
       "      <td>64683.0</td>\n",
       "      <td>TRANSPARENT - N/A - N/A</td>\n",
       "      <td>1250</td>\n",
       "      <td>NINGBO MEITELI COSMETICS CO.,LTD.</td>\n",
       "      <td>NANJING CHANGJIANG PETROLEUM &amp; CHEMICAL</td>\n",
       "      <td>44</td>\n",
       "      <td>Makeup Products (non-permanent)</td>\n",
       "      <td>48</td>\n",
       "      <td>...</td>\n",
       "      <td>NaN</td>\n",
       "      <td>67740</td>\n",
       "      <td>Mineral oils, untreated and mildly treated</td>\n",
       "      <td>03/31/2020</td>\n",
       "      <td>03/31/2020</td>\n",
       "      <td>NaN</td>\n",
       "      <td>03/31/2020</td>\n",
       "      <td>03/31/2020</td>\n",
       "      <td>NaN</td>\n",
       "      <td>1</td>\n",
       "    </tr>\n",
       "    <tr>\n",
       "      <td>113779</td>\n",
       "      <td>41355</td>\n",
       "      <td>DP NAIL POLISH GEL LIKE 4PC</td>\n",
       "      <td>64684.0</td>\n",
       "      <td>WHITE - N/A - N/A</td>\n",
       "      <td>1250</td>\n",
       "      <td>NINGBO MEITELI COSMETICS CO.,LTD.</td>\n",
       "      <td>SUN CHEMICAL</td>\n",
       "      <td>59</td>\n",
       "      <td>Nail Products</td>\n",
       "      <td>65</td>\n",
       "      <td>...</td>\n",
       "      <td>13463-67-7</td>\n",
       "      <td>67741</td>\n",
       "      <td>Titanium dioxide</td>\n",
       "      <td>04/01/2020</td>\n",
       "      <td>04/01/2020</td>\n",
       "      <td>NaN</td>\n",
       "      <td>04/01/2020</td>\n",
       "      <td>04/01/2020</td>\n",
       "      <td>NaN</td>\n",
       "      <td>1</td>\n",
       "    </tr>\n",
       "  </tbody>\n",
       "</table>\n",
       "<p>5 rows × 22 columns</p>\n",
       "</div>"
      ],
      "text/plain": [
       "        CDPHId                  ProductName    CSFId                      CSF  \\\n",
       "113775   41351  DP NAIL POLISH ART KIT 18PC  64680.0  TRANSPARENT - N/A - N/A   \n",
       "113776   41352  DP NAIL POLISH 4PC METALLIC  64681.0    TRANSPARENT - N - N/A   \n",
       "113777   41353   DP EYESHADOW 44 SHADE CUBE  64682.0  TRANSPARENT - N/A - N/A   \n",
       "113778   41354           DP EYESHADOW PURSE  64683.0  TRANSPARENT - N/A - N/A   \n",
       "113779   41355  DP NAIL POLISH GEL LIKE 4PC  64684.0        WHITE - N/A - N/A   \n",
       "\n",
       "        CompanyId                        CompanyName  \\\n",
       "113775       1250  NINGBO MEITELI COSMETICS CO.,LTD.   \n",
       "113776       1250  NINGBO MEITELI COSMETICS CO.,LTD.   \n",
       "113777       1250  NINGBO MEITELI COSMETICS CO.,LTD.   \n",
       "113778       1250  NINGBO MEITELI COSMETICS CO.,LTD.   \n",
       "113779       1250  NINGBO MEITELI COSMETICS CO.,LTD.   \n",
       "\n",
       "                                      BrandName  PrimaryCategoryId  \\\n",
       "113775                    INTERNATIONAL LACQUER                 59   \n",
       "113776                    INTERNATIONAL LACQUER                 59   \n",
       "113777  NANJING CHANGJIANG PETROLEUM & CHEMICAL                 44   \n",
       "113778  NANJING CHANGJIANG PETROLEUM & CHEMICAL                 44   \n",
       "113779                             SUN CHEMICAL                 59   \n",
       "\n",
       "                        PrimaryCategory  SubCategoryId  ...   CasNumber  \\\n",
       "113775                    Nail Products             65  ...         NaN   \n",
       "113776                    Nail Products             65  ...         NaN   \n",
       "113777  Makeup Products (non-permanent)             48  ...         NaN   \n",
       "113778  Makeup Products (non-permanent)             48  ...         NaN   \n",
       "113779                    Nail Products             65  ...  13463-67-7   \n",
       "\n",
       "        ChemicalId                                      ChemicalName  \\\n",
       "113775       67737  Isopropyl alcohol manufacture using strong acids   \n",
       "113776       67738  Isopropyl alcohol manufacture using strong acids   \n",
       "113777       67739        Mineral oils, untreated and mildly treated   \n",
       "113778       67740        Mineral oils, untreated and mildly treated   \n",
       "113779       67741                                  Titanium dioxide   \n",
       "\n",
       "        InitialDateReported MostRecentDateReported DiscontinuedDate  \\\n",
       "113775           03/31/2020             03/31/2020              NaN   \n",
       "113776           03/31/2020             03/31/2020              NaN   \n",
       "113777           03/31/2020             03/31/2020              NaN   \n",
       "113778           03/31/2020             03/31/2020              NaN   \n",
       "113779           04/01/2020             04/01/2020              NaN   \n",
       "\n",
       "       ChemicalCreatedAt ChemicalUpdatedAt ChemicalDateRemoved ChemicalCount  \n",
       "113775        03/31/2020        03/31/2020                 NaN             1  \n",
       "113776        03/31/2020        03/31/2020                 NaN             1  \n",
       "113777        03/31/2020        03/31/2020                 NaN             1  \n",
       "113778        03/31/2020        03/31/2020                 NaN             1  \n",
       "113779        04/01/2020        04/01/2020                 NaN             1  \n",
       "\n",
       "[5 rows x 22 columns]"
      ]
     },
     "execution_count": 4,
     "metadata": {},
     "output_type": "execute_result"
    }
   ],
   "source": [
    "# Preview bottom of dataframe\n",
    "data_df.tail()"
   ]
  },
  {
   "cell_type": "code",
   "execution_count": 5,
   "metadata": {},
   "outputs": [
    {
     "name": "stdout",
     "output_type": "stream",
     "text": [
      "<class 'pandas.core.frame.DataFrame'>\n",
      "RangeIndex: 113780 entries, 0 to 113779\n",
      "Data columns (total 22 columns):\n",
      "CDPHId                    113780 non-null int64\n",
      "ProductName               113780 non-null object\n",
      "CSFId                     79917 non-null float64\n",
      "CSF                       79493 non-null object\n",
      "CompanyId                 113780 non-null int64\n",
      "CompanyName               113780 non-null object\n",
      "BrandName                 113568 non-null object\n",
      "PrimaryCategoryId         113780 non-null int64\n",
      "PrimaryCategory           113780 non-null object\n",
      "SubCategoryId             113780 non-null int64\n",
      "SubCategory               113780 non-null object\n",
      "CasId                     113780 non-null int64\n",
      "CasNumber                 107464 non-null object\n",
      "ChemicalId                113780 non-null int64\n",
      "ChemicalName              113780 non-null object\n",
      "InitialDateReported       113780 non-null object\n",
      "MostRecentDateReported    113780 non-null object\n",
      "DiscontinuedDate          12906 non-null object\n",
      "ChemicalCreatedAt         113780 non-null object\n",
      "ChemicalUpdatedAt         113780 non-null object\n",
      "ChemicalDateRemoved       2932 non-null object\n",
      "ChemicalCount             113780 non-null int64\n",
      "dtypes: float64(1), int64(7), object(14)\n",
      "memory usage: 19.1+ MB\n"
     ]
    }
   ],
   "source": [
    "# Get column info\n",
    "data_df.info()"
   ]
  },
  {
   "cell_type": "markdown",
   "metadata": {},
   "source": [
    "## Handling Null Values"
   ]
  },
  {
   "cell_type": "code",
   "execution_count": 6,
   "metadata": {
    "scrolled": false
   },
   "outputs": [
    {
     "name": "stdout",
     "output_type": "stream",
     "text": [
      "Columns with Null Values:\n"
     ]
    },
    {
     "data": {
      "text/html": [
       "<div>\n",
       "<style scoped>\n",
       "    .dataframe tbody tr th:only-of-type {\n",
       "        vertical-align: middle;\n",
       "    }\n",
       "\n",
       "    .dataframe tbody tr th {\n",
       "        vertical-align: top;\n",
       "    }\n",
       "\n",
       "    .dataframe thead th {\n",
       "        text-align: right;\n",
       "    }\n",
       "</style>\n",
       "<table border=\"1\" class=\"dataframe\">\n",
       "  <thead>\n",
       "    <tr style=\"text-align: right;\">\n",
       "      <th></th>\n",
       "      <th>Column</th>\n",
       "      <th>Number of Null Values</th>\n",
       "    </tr>\n",
       "  </thead>\n",
       "  <tbody>\n",
       "    <tr>\n",
       "      <td>5</td>\n",
       "      <td>ChemicalDateRemoved</td>\n",
       "      <td>110848</td>\n",
       "    </tr>\n",
       "    <tr>\n",
       "      <td>4</td>\n",
       "      <td>DiscontinuedDate</td>\n",
       "      <td>100874</td>\n",
       "    </tr>\n",
       "    <tr>\n",
       "      <td>1</td>\n",
       "      <td>CSF</td>\n",
       "      <td>34287</td>\n",
       "    </tr>\n",
       "    <tr>\n",
       "      <td>0</td>\n",
       "      <td>CSFId</td>\n",
       "      <td>33863</td>\n",
       "    </tr>\n",
       "    <tr>\n",
       "      <td>3</td>\n",
       "      <td>CasNumber</td>\n",
       "      <td>6316</td>\n",
       "    </tr>\n",
       "    <tr>\n",
       "      <td>2</td>\n",
       "      <td>BrandName</td>\n",
       "      <td>212</td>\n",
       "    </tr>\n",
       "  </tbody>\n",
       "</table>\n",
       "</div>"
      ],
      "text/plain": [
       "                Column  Number of Null Values\n",
       "5  ChemicalDateRemoved                 110848\n",
       "4     DiscontinuedDate                 100874\n",
       "1                  CSF                  34287\n",
       "0                CSFId                  33863\n",
       "3            CasNumber                   6316\n",
       "2            BrandName                    212"
      ]
     },
     "execution_count": 6,
     "metadata": {},
     "output_type": "execute_result"
    }
   ],
   "source": [
    "# Show cols with null vals & how many they have\n",
    "print('Columns with Null Values:')\n",
    "null_count = data_df.isna().sum()\n",
    "null_count_df = null_count[null_count > 0].to_frame().reset_index().sort_values(0, ascending=False)\n",
    "null_count_df.rename(columns={'index': 'Column', 0: 'Number of Null Values'})"
   ]
  },
  {
   "cell_type": "code",
   "execution_count": 7,
   "metadata": {},
   "outputs": [],
   "source": [
    "# Replace all null BrandName values with 'Missing'\n",
    "data_df2 = data_df.copy()\n",
    "data_df2.loc[data_df2['BrandName'].isna()==True, 'BrandName'] = 'Missing'"
   ]
  },
  {
   "cell_type": "code",
   "execution_count": 8,
   "metadata": {
    "scrolled": false
   },
   "outputs": [
    {
     "name": "stdout",
     "output_type": "stream",
     "text": [
      "Remaining columns with Null Values:\n"
     ]
    },
    {
     "data": {
      "text/html": [
       "<div>\n",
       "<style scoped>\n",
       "    .dataframe tbody tr th:only-of-type {\n",
       "        vertical-align: middle;\n",
       "    }\n",
       "\n",
       "    .dataframe tbody tr th {\n",
       "        vertical-align: top;\n",
       "    }\n",
       "\n",
       "    .dataframe thead th {\n",
       "        text-align: right;\n",
       "    }\n",
       "</style>\n",
       "<table border=\"1\" class=\"dataframe\">\n",
       "  <thead>\n",
       "    <tr style=\"text-align: right;\">\n",
       "      <th></th>\n",
       "      <th>Column</th>\n",
       "      <th>Number of Null Values</th>\n",
       "    </tr>\n",
       "  </thead>\n",
       "  <tbody>\n",
       "    <tr>\n",
       "      <td>4</td>\n",
       "      <td>ChemicalDateRemoved</td>\n",
       "      <td>110848</td>\n",
       "    </tr>\n",
       "    <tr>\n",
       "      <td>3</td>\n",
       "      <td>DiscontinuedDate</td>\n",
       "      <td>100874</td>\n",
       "    </tr>\n",
       "    <tr>\n",
       "      <td>1</td>\n",
       "      <td>CSF</td>\n",
       "      <td>34287</td>\n",
       "    </tr>\n",
       "    <tr>\n",
       "      <td>0</td>\n",
       "      <td>CSFId</td>\n",
       "      <td>33863</td>\n",
       "    </tr>\n",
       "    <tr>\n",
       "      <td>2</td>\n",
       "      <td>CasNumber</td>\n",
       "      <td>6316</td>\n",
       "    </tr>\n",
       "  </tbody>\n",
       "</table>\n",
       "</div>"
      ],
      "text/plain": [
       "                Column  Number of Null Values\n",
       "4  ChemicalDateRemoved                 110848\n",
       "3     DiscontinuedDate                 100874\n",
       "1                  CSF                  34287\n",
       "0                CSFId                  33863\n",
       "2            CasNumber                   6316"
      ]
     },
     "execution_count": 8,
     "metadata": {},
     "output_type": "execute_result"
    }
   ],
   "source": [
    "# Updated - Show updated cols with null vals & how many they have\n",
    "print('Remaining columns with Null Values:')\n",
    "null_count2 = data_df2.isna().sum()\n",
    "null_count2_df = null_count2[null_count2 > 0].to_frame().reset_index().sort_values(0, ascending=False)\n",
    "null_count2_df.rename(columns={'index': 'Column', 0: 'Number of Null Values'})"
   ]
  },
  {
   "cell_type": "markdown",
   "metadata": {},
   "source": [
    "### Remaining Columns with Null Values\n",
    "* ChemicalDateRemoved \n",
    "    * **KEEP**, non-null for **reformulated products** only\n",
    "    * If applicable, date the chemical was removed from product, i.e., reformulation.\n",
    "* DiscontinuedDate\n",
    "    * **KEEP**, non-null for **discontinued products** only\n",
    "    * If applicable, date the product was discontinued.\n",
    "* CSF \n",
    "    * *DROP COLUMN*\n",
    "    * Color, scent and/or flavor as entered by manufacturer, packer and/or distributor. The color/scent/flavor name is entered as free-text into the reporting database and may contain misspellings or other errors. **Not all products have specific colors, scents or flavors.**\n",
    "* CSFId\n",
    "    * *DROP COLUMN*\n",
    "    * CDPH internal identification number for a color/scent/flavor. **Like CSF, not all products have CSFId.**\n",
    "* CasNumber\n",
    "    * *DROP COLUMN* \n",
    "    * **Refer to 'CasId'/'ChemicalName' columns instead**\n",
    "    * Chemical identification number (Chemical Abstracts Service registry number assigned to specific chemical). Note that different forms of a chemical  may have different CAS numbers. What appears here is the CAS number selected by the manufacturer, packer and/or distributor. "
   ]
  },
  {
   "cell_type": "code",
   "execution_count": 9,
   "metadata": {
    "scrolled": false
   },
   "outputs": [
    {
     "data": {
      "text/html": [
       "<div>\n",
       "<style scoped>\n",
       "    .dataframe tbody tr th:only-of-type {\n",
       "        vertical-align: middle;\n",
       "    }\n",
       "\n",
       "    .dataframe tbody tr th {\n",
       "        vertical-align: top;\n",
       "    }\n",
       "\n",
       "    .dataframe thead th {\n",
       "        text-align: right;\n",
       "    }\n",
       "</style>\n",
       "<table border=\"1\" class=\"dataframe\">\n",
       "  <thead>\n",
       "    <tr style=\"text-align: right;\">\n",
       "      <th></th>\n",
       "      <th>CasId</th>\n",
       "      <th>ChemicalId</th>\n",
       "      <th>ChemicalName</th>\n",
       "    </tr>\n",
       "  </thead>\n",
       "  <tbody>\n",
       "    <tr>\n",
       "      <td>49</td>\n",
       "      <td>162</td>\n",
       "      <td>43</td>\n",
       "      <td>Cocamide diethanolamine</td>\n",
       "    </tr>\n",
       "    <tr>\n",
       "      <td>62</td>\n",
       "      <td>730</td>\n",
       "      <td>52</td>\n",
       "      <td>Chromium (hexavalent compounds)</td>\n",
       "    </tr>\n",
       "    <tr>\n",
       "      <td>432</td>\n",
       "      <td>773</td>\n",
       "      <td>1875</td>\n",
       "      <td>Retinol/retinyl esters, when in daily dosages ...</td>\n",
       "    </tr>\n",
       "    <tr>\n",
       "      <td>433</td>\n",
       "      <td>773</td>\n",
       "      <td>1876</td>\n",
       "      <td>Retinol/retinyl esters, when in daily dosages ...</td>\n",
       "    </tr>\n",
       "    <tr>\n",
       "      <td>500</td>\n",
       "      <td>773</td>\n",
       "      <td>453</td>\n",
       "      <td>Retinol/retinyl esters, when in daily dosages ...</td>\n",
       "    </tr>\n",
       "    <tr>\n",
       "      <td>...</td>\n",
       "      <td>...</td>\n",
       "      <td>...</td>\n",
       "      <td>...</td>\n",
       "    </tr>\n",
       "    <tr>\n",
       "      <td>113774</td>\n",
       "      <td>1191</td>\n",
       "      <td>67736</td>\n",
       "      <td>Isopropyl alcohol manufacture using strong acids</td>\n",
       "    </tr>\n",
       "    <tr>\n",
       "      <td>113775</td>\n",
       "      <td>1191</td>\n",
       "      <td>67737</td>\n",
       "      <td>Isopropyl alcohol manufacture using strong acids</td>\n",
       "    </tr>\n",
       "    <tr>\n",
       "      <td>113776</td>\n",
       "      <td>1191</td>\n",
       "      <td>67738</td>\n",
       "      <td>Isopropyl alcohol manufacture using strong acids</td>\n",
       "    </tr>\n",
       "    <tr>\n",
       "      <td>113777</td>\n",
       "      <td>759</td>\n",
       "      <td>67739</td>\n",
       "      <td>Mineral oils, untreated and mildly treated</td>\n",
       "    </tr>\n",
       "    <tr>\n",
       "      <td>113778</td>\n",
       "      <td>759</td>\n",
       "      <td>67740</td>\n",
       "      <td>Mineral oils, untreated and mildly treated</td>\n",
       "    </tr>\n",
       "  </tbody>\n",
       "</table>\n",
       "<p>6316 rows × 3 columns</p>\n",
       "</div>"
      ],
      "text/plain": [
       "        CasId  ChemicalId                                       ChemicalName\n",
       "49        162          43                            Cocamide diethanolamine\n",
       "62        730          52                    Chromium (hexavalent compounds)\n",
       "432       773        1875  Retinol/retinyl esters, when in daily dosages ...\n",
       "433       773        1876  Retinol/retinyl esters, when in daily dosages ...\n",
       "500       773         453  Retinol/retinyl esters, when in daily dosages ...\n",
       "...       ...         ...                                                ...\n",
       "113774   1191       67736   Isopropyl alcohol manufacture using strong acids\n",
       "113775   1191       67737   Isopropyl alcohol manufacture using strong acids\n",
       "113776   1191       67738   Isopropyl alcohol manufacture using strong acids\n",
       "113777    759       67739         Mineral oils, untreated and mildly treated\n",
       "113778    759       67740         Mineral oils, untreated and mildly treated\n",
       "\n",
       "[6316 rows x 3 columns]"
      ]
     },
     "execution_count": 9,
     "metadata": {},
     "output_type": "execute_result"
    }
   ],
   "source": [
    "# Check if can indeed refer to 'CasId'/'ChemicalName' columns instead of CasNumber\n",
    "data_df2[data_df2['CasNumber'].isna()==True][['CasId', 'ChemicalId', 'ChemicalName']]"
   ]
  },
  {
   "cell_type": "code",
   "execution_count": 10,
   "metadata": {
    "scrolled": false
   },
   "outputs": [
    {
     "data": {
      "text/html": [
       "<div>\n",
       "<style scoped>\n",
       "    .dataframe tbody tr th:only-of-type {\n",
       "        vertical-align: middle;\n",
       "    }\n",
       "\n",
       "    .dataframe tbody tr th {\n",
       "        vertical-align: top;\n",
       "    }\n",
       "\n",
       "    .dataframe thead th {\n",
       "        text-align: right;\n",
       "    }\n",
       "</style>\n",
       "<table border=\"1\" class=\"dataframe\">\n",
       "  <thead>\n",
       "    <tr style=\"text-align: right;\">\n",
       "      <th></th>\n",
       "      <th>CDPHId</th>\n",
       "      <th>ProductName</th>\n",
       "      <th>CompanyId</th>\n",
       "      <th>CompanyName</th>\n",
       "      <th>BrandName</th>\n",
       "      <th>PrimaryCategoryId</th>\n",
       "      <th>PrimaryCategory</th>\n",
       "      <th>SubCategoryId</th>\n",
       "      <th>SubCategory</th>\n",
       "      <th>CasId</th>\n",
       "      <th>ChemicalName</th>\n",
       "      <th>InitialDateReported</th>\n",
       "      <th>MostRecentDateReported</th>\n",
       "      <th>DiscontinuedDate</th>\n",
       "      <th>ChemicalCreatedAt</th>\n",
       "      <th>ChemicalUpdatedAt</th>\n",
       "      <th>ChemicalDateRemoved</th>\n",
       "      <th>ChemicalCount</th>\n",
       "    </tr>\n",
       "  </thead>\n",
       "  <tbody>\n",
       "    <tr>\n",
       "      <td>0</td>\n",
       "      <td>2</td>\n",
       "      <td>ULTRA COLOR RICH EXTRA PLUMP LIPSTICK-ALL SHADES</td>\n",
       "      <td>4</td>\n",
       "      <td>New Avon LLC</td>\n",
       "      <td>AVON</td>\n",
       "      <td>44</td>\n",
       "      <td>Makeup Products (non-permanent)</td>\n",
       "      <td>53</td>\n",
       "      <td>Lip Color - Lipsticks, Liners, and Pencils</td>\n",
       "      <td>656</td>\n",
       "      <td>Titanium dioxide</td>\n",
       "      <td>06/17/2009</td>\n",
       "      <td>08/28/2013</td>\n",
       "      <td>02/01/2011</td>\n",
       "      <td>07/09/2009</td>\n",
       "      <td>07/09/2009</td>\n",
       "      <td>NaN</td>\n",
       "      <td>1</td>\n",
       "    </tr>\n",
       "    <tr>\n",
       "      <td>1</td>\n",
       "      <td>3</td>\n",
       "      <td>Glover's Medicated Shampoo</td>\n",
       "      <td>338</td>\n",
       "      <td>J. Strickland &amp; Co.</td>\n",
       "      <td>Glover's</td>\n",
       "      <td>18</td>\n",
       "      <td>Hair Care Products (non-coloring)</td>\n",
       "      <td>25</td>\n",
       "      <td>Hair Shampoos (making a cosmetic claim)</td>\n",
       "      <td>889</td>\n",
       "      <td>Distillates (coal tar)</td>\n",
       "      <td>07/01/2009</td>\n",
       "      <td>07/01/2009</td>\n",
       "      <td>NaN</td>\n",
       "      <td>07/01/2009</td>\n",
       "      <td>07/01/2009</td>\n",
       "      <td>NaN</td>\n",
       "      <td>2</td>\n",
       "    </tr>\n",
       "    <tr>\n",
       "      <td>2</td>\n",
       "      <td>3</td>\n",
       "      <td>Glover's Medicated Shampoo</td>\n",
       "      <td>338</td>\n",
       "      <td>J. Strickland &amp; Co.</td>\n",
       "      <td>Glover's</td>\n",
       "      <td>18</td>\n",
       "      <td>Hair Care Products (non-coloring)</td>\n",
       "      <td>25</td>\n",
       "      <td>Hair Shampoos (making a cosmetic claim)</td>\n",
       "      <td>293</td>\n",
       "      <td>Estragole</td>\n",
       "      <td>07/01/2009</td>\n",
       "      <td>07/01/2009</td>\n",
       "      <td>NaN</td>\n",
       "      <td>07/02/2009</td>\n",
       "      <td>07/02/2009</td>\n",
       "      <td>NaN</td>\n",
       "      <td>2</td>\n",
       "    </tr>\n",
       "    <tr>\n",
       "      <td>3</td>\n",
       "      <td>4</td>\n",
       "      <td>PRECISION GLIMMER EYE LINER-ALL SHADES �</td>\n",
       "      <td>4</td>\n",
       "      <td>New Avon LLC</td>\n",
       "      <td>AVON</td>\n",
       "      <td>44</td>\n",
       "      <td>Makeup Products (non-permanent)</td>\n",
       "      <td>46</td>\n",
       "      <td>Eyeliner/Eyebrow Pencils</td>\n",
       "      <td>656</td>\n",
       "      <td>Titanium dioxide</td>\n",
       "      <td>07/09/2009</td>\n",
       "      <td>08/28/2013</td>\n",
       "      <td>NaN</td>\n",
       "      <td>07/09/2009</td>\n",
       "      <td>07/09/2009</td>\n",
       "      <td>NaN</td>\n",
       "      <td>1</td>\n",
       "    </tr>\n",
       "    <tr>\n",
       "      <td>4</td>\n",
       "      <td>5</td>\n",
       "      <td>AVON BRILLIANT SHINE LIP GLOSS-ALL SHADES �</td>\n",
       "      <td>4</td>\n",
       "      <td>New Avon LLC</td>\n",
       "      <td>AVON</td>\n",
       "      <td>44</td>\n",
       "      <td>Makeup Products (non-permanent)</td>\n",
       "      <td>52</td>\n",
       "      <td>Lip Gloss/Shine</td>\n",
       "      <td>656</td>\n",
       "      <td>Titanium dioxide</td>\n",
       "      <td>07/09/2009</td>\n",
       "      <td>08/28/2013</td>\n",
       "      <td>02/01/2011</td>\n",
       "      <td>07/09/2009</td>\n",
       "      <td>07/09/2009</td>\n",
       "      <td>NaN</td>\n",
       "      <td>1</td>\n",
       "    </tr>\n",
       "  </tbody>\n",
       "</table>\n",
       "</div>"
      ],
      "text/plain": [
       "   CDPHId                                       ProductName  CompanyId  \\\n",
       "0       2  ULTRA COLOR RICH EXTRA PLUMP LIPSTICK-ALL SHADES          4   \n",
       "1       3                        Glover's Medicated Shampoo        338   \n",
       "2       3                        Glover's Medicated Shampoo        338   \n",
       "3       4          PRECISION GLIMMER EYE LINER-ALL SHADES �          4   \n",
       "4       5       AVON BRILLIANT SHINE LIP GLOSS-ALL SHADES �          4   \n",
       "\n",
       "           CompanyName BrandName  PrimaryCategoryId  \\\n",
       "0         New Avon LLC      AVON                 44   \n",
       "1  J. Strickland & Co.  Glover's                 18   \n",
       "2  J. Strickland & Co.  Glover's                 18   \n",
       "3         New Avon LLC      AVON                 44   \n",
       "4         New Avon LLC      AVON                 44   \n",
       "\n",
       "                     PrimaryCategory  SubCategoryId  \\\n",
       "0    Makeup Products (non-permanent)             53   \n",
       "1  Hair Care Products (non-coloring)             25   \n",
       "2  Hair Care Products (non-coloring)             25   \n",
       "3    Makeup Products (non-permanent)             46   \n",
       "4    Makeup Products (non-permanent)             52   \n",
       "\n",
       "                                  SubCategory  CasId            ChemicalName  \\\n",
       "0  Lip Color - Lipsticks, Liners, and Pencils    656        Titanium dioxide   \n",
       "1    Hair Shampoos (making a cosmetic claim)     889  Distillates (coal tar)   \n",
       "2    Hair Shampoos (making a cosmetic claim)     293               Estragole   \n",
       "3                    Eyeliner/Eyebrow Pencils    656        Titanium dioxide   \n",
       "4                             Lip Gloss/Shine    656        Titanium dioxide   \n",
       "\n",
       "  InitialDateReported MostRecentDateReported DiscontinuedDate  \\\n",
       "0          06/17/2009             08/28/2013       02/01/2011   \n",
       "1          07/01/2009             07/01/2009              NaN   \n",
       "2          07/01/2009             07/01/2009              NaN   \n",
       "3          07/09/2009             08/28/2013              NaN   \n",
       "4          07/09/2009             08/28/2013       02/01/2011   \n",
       "\n",
       "  ChemicalCreatedAt ChemicalUpdatedAt ChemicalDateRemoved  ChemicalCount  \n",
       "0        07/09/2009        07/09/2009                 NaN              1  \n",
       "1        07/01/2009        07/01/2009                 NaN              2  \n",
       "2        07/02/2009        07/02/2009                 NaN              2  \n",
       "3        07/09/2009        07/09/2009                 NaN              1  \n",
       "4        07/09/2009        07/09/2009                 NaN              1  "
      ]
     },
     "execution_count": 10,
     "metadata": {},
     "output_type": "execute_result"
    }
   ],
   "source": [
    "# Drop 4 unnecessary columns\n",
    "data_df3 = data_df2.copy()\n",
    "data_df3 = data_df2.drop(columns=['CSF', 'CSFId', 'CasNumber', 'ChemicalId'])\n",
    "data_df3.head()"
   ]
  },
  {
   "cell_type": "code",
   "execution_count": 11,
   "metadata": {},
   "outputs": [
    {
     "name": "stdout",
     "output_type": "stream",
     "text": [
      "Final columns with Null Values:\n"
     ]
    },
    {
     "data": {
      "text/html": [
       "<div>\n",
       "<style scoped>\n",
       "    .dataframe tbody tr th:only-of-type {\n",
       "        vertical-align: middle;\n",
       "    }\n",
       "\n",
       "    .dataframe tbody tr th {\n",
       "        vertical-align: top;\n",
       "    }\n",
       "\n",
       "    .dataframe thead th {\n",
       "        text-align: right;\n",
       "    }\n",
       "</style>\n",
       "<table border=\"1\" class=\"dataframe\">\n",
       "  <thead>\n",
       "    <tr style=\"text-align: right;\">\n",
       "      <th></th>\n",
       "      <th>Column</th>\n",
       "      <th>Number of Null Values</th>\n",
       "    </tr>\n",
       "  </thead>\n",
       "  <tbody>\n",
       "    <tr>\n",
       "      <td>1</td>\n",
       "      <td>ChemicalDateRemoved</td>\n",
       "      <td>110848</td>\n",
       "    </tr>\n",
       "    <tr>\n",
       "      <td>0</td>\n",
       "      <td>DiscontinuedDate</td>\n",
       "      <td>100874</td>\n",
       "    </tr>\n",
       "  </tbody>\n",
       "</table>\n",
       "</div>"
      ],
      "text/plain": [
       "                Column  Number of Null Values\n",
       "1  ChemicalDateRemoved                 110848\n",
       "0     DiscontinuedDate                 100874"
      ]
     },
     "execution_count": 11,
     "metadata": {},
     "output_type": "execute_result"
    }
   ],
   "source": [
    "# Updated - Show final cols with null vals & how many they have\n",
    "print('Final columns with Null Values:')\n",
    "null_count3 = data_df3.isna().sum()\n",
    "null_count3_df = null_count3[null_count3 > 0].to_frame().reset_index().sort_values(0, ascending=False)\n",
    "null_count3_df.rename(columns={'index': 'Column', 0: 'Number of Null Values'})"
   ]
  },
  {
   "cell_type": "markdown",
   "metadata": {},
   "source": [
    "## Converting Date Str Columns to Date-Time Type"
   ]
  },
  {
   "cell_type": "code",
   "execution_count": 12,
   "metadata": {},
   "outputs": [
    {
     "name": "stdout",
     "output_type": "stream",
     "text": [
      "<class 'pandas.core.frame.DataFrame'>\n",
      "RangeIndex: 113780 entries, 0 to 113779\n",
      "Data columns (total 18 columns):\n",
      "CDPHId                    113780 non-null int64\n",
      "ProductName               113780 non-null object\n",
      "CompanyId                 113780 non-null int64\n",
      "CompanyName               113780 non-null object\n",
      "BrandName                 113780 non-null object\n",
      "PrimaryCategoryId         113780 non-null int64\n",
      "PrimaryCategory           113780 non-null object\n",
      "SubCategoryId             113780 non-null int64\n",
      "SubCategory               113780 non-null object\n",
      "CasId                     113780 non-null int64\n",
      "ChemicalName              113780 non-null object\n",
      "InitialDateReported       113780 non-null datetime64[ns]\n",
      "MostRecentDateReported    113780 non-null datetime64[ns]\n",
      "DiscontinuedDate          12906 non-null datetime64[ns]\n",
      "ChemicalCreatedAt         113780 non-null datetime64[ns]\n",
      "ChemicalUpdatedAt         113780 non-null datetime64[ns]\n",
      "ChemicalDateRemoved       2932 non-null datetime64[ns]\n",
      "ChemicalCount             113780 non-null int64\n",
      "dtypes: datetime64[ns](6), int64(6), object(6)\n",
      "memory usage: 15.6+ MB\n"
     ]
    },
    {
     "data": {
      "text/html": [
       "<div>\n",
       "<style scoped>\n",
       "    .dataframe tbody tr th:only-of-type {\n",
       "        vertical-align: middle;\n",
       "    }\n",
       "\n",
       "    .dataframe tbody tr th {\n",
       "        vertical-align: top;\n",
       "    }\n",
       "\n",
       "    .dataframe thead th {\n",
       "        text-align: right;\n",
       "    }\n",
       "</style>\n",
       "<table border=\"1\" class=\"dataframe\">\n",
       "  <thead>\n",
       "    <tr style=\"text-align: right;\">\n",
       "      <th></th>\n",
       "      <th>CDPHId</th>\n",
       "      <th>ProductName</th>\n",
       "      <th>CompanyId</th>\n",
       "      <th>CompanyName</th>\n",
       "      <th>BrandName</th>\n",
       "      <th>PrimaryCategoryId</th>\n",
       "      <th>PrimaryCategory</th>\n",
       "      <th>SubCategoryId</th>\n",
       "      <th>SubCategory</th>\n",
       "      <th>CasId</th>\n",
       "      <th>ChemicalName</th>\n",
       "      <th>InitialDateReported</th>\n",
       "      <th>MostRecentDateReported</th>\n",
       "      <th>DiscontinuedDate</th>\n",
       "      <th>ChemicalCreatedAt</th>\n",
       "      <th>ChemicalUpdatedAt</th>\n",
       "      <th>ChemicalDateRemoved</th>\n",
       "      <th>ChemicalCount</th>\n",
       "    </tr>\n",
       "  </thead>\n",
       "  <tbody>\n",
       "    <tr>\n",
       "      <td>0</td>\n",
       "      <td>2</td>\n",
       "      <td>ULTRA COLOR RICH EXTRA PLUMP LIPSTICK-ALL SHADES</td>\n",
       "      <td>4</td>\n",
       "      <td>New Avon LLC</td>\n",
       "      <td>AVON</td>\n",
       "      <td>44</td>\n",
       "      <td>Makeup Products (non-permanent)</td>\n",
       "      <td>53</td>\n",
       "      <td>Lip Color - Lipsticks, Liners, and Pencils</td>\n",
       "      <td>656</td>\n",
       "      <td>Titanium dioxide</td>\n",
       "      <td>2009-06-17</td>\n",
       "      <td>2013-08-28</td>\n",
       "      <td>2011-02-01</td>\n",
       "      <td>2009-07-09</td>\n",
       "      <td>2009-07-09</td>\n",
       "      <td>NaT</td>\n",
       "      <td>1</td>\n",
       "    </tr>\n",
       "    <tr>\n",
       "      <td>1</td>\n",
       "      <td>3</td>\n",
       "      <td>Glover's Medicated Shampoo</td>\n",
       "      <td>338</td>\n",
       "      <td>J. Strickland &amp; Co.</td>\n",
       "      <td>Glover's</td>\n",
       "      <td>18</td>\n",
       "      <td>Hair Care Products (non-coloring)</td>\n",
       "      <td>25</td>\n",
       "      <td>Hair Shampoos (making a cosmetic claim)</td>\n",
       "      <td>889</td>\n",
       "      <td>Distillates (coal tar)</td>\n",
       "      <td>2009-07-01</td>\n",
       "      <td>2009-07-01</td>\n",
       "      <td>NaT</td>\n",
       "      <td>2009-07-01</td>\n",
       "      <td>2009-07-01</td>\n",
       "      <td>NaT</td>\n",
       "      <td>2</td>\n",
       "    </tr>\n",
       "    <tr>\n",
       "      <td>2</td>\n",
       "      <td>3</td>\n",
       "      <td>Glover's Medicated Shampoo</td>\n",
       "      <td>338</td>\n",
       "      <td>J. Strickland &amp; Co.</td>\n",
       "      <td>Glover's</td>\n",
       "      <td>18</td>\n",
       "      <td>Hair Care Products (non-coloring)</td>\n",
       "      <td>25</td>\n",
       "      <td>Hair Shampoos (making a cosmetic claim)</td>\n",
       "      <td>293</td>\n",
       "      <td>Estragole</td>\n",
       "      <td>2009-07-01</td>\n",
       "      <td>2009-07-01</td>\n",
       "      <td>NaT</td>\n",
       "      <td>2009-07-02</td>\n",
       "      <td>2009-07-02</td>\n",
       "      <td>NaT</td>\n",
       "      <td>2</td>\n",
       "    </tr>\n",
       "    <tr>\n",
       "      <td>3</td>\n",
       "      <td>4</td>\n",
       "      <td>PRECISION GLIMMER EYE LINER-ALL SHADES �</td>\n",
       "      <td>4</td>\n",
       "      <td>New Avon LLC</td>\n",
       "      <td>AVON</td>\n",
       "      <td>44</td>\n",
       "      <td>Makeup Products (non-permanent)</td>\n",
       "      <td>46</td>\n",
       "      <td>Eyeliner/Eyebrow Pencils</td>\n",
       "      <td>656</td>\n",
       "      <td>Titanium dioxide</td>\n",
       "      <td>2009-07-09</td>\n",
       "      <td>2013-08-28</td>\n",
       "      <td>NaT</td>\n",
       "      <td>2009-07-09</td>\n",
       "      <td>2009-07-09</td>\n",
       "      <td>NaT</td>\n",
       "      <td>1</td>\n",
       "    </tr>\n",
       "    <tr>\n",
       "      <td>4</td>\n",
       "      <td>5</td>\n",
       "      <td>AVON BRILLIANT SHINE LIP GLOSS-ALL SHADES �</td>\n",
       "      <td>4</td>\n",
       "      <td>New Avon LLC</td>\n",
       "      <td>AVON</td>\n",
       "      <td>44</td>\n",
       "      <td>Makeup Products (non-permanent)</td>\n",
       "      <td>52</td>\n",
       "      <td>Lip Gloss/Shine</td>\n",
       "      <td>656</td>\n",
       "      <td>Titanium dioxide</td>\n",
       "      <td>2009-07-09</td>\n",
       "      <td>2013-08-28</td>\n",
       "      <td>2011-02-01</td>\n",
       "      <td>2009-07-09</td>\n",
       "      <td>2009-07-09</td>\n",
       "      <td>NaT</td>\n",
       "      <td>1</td>\n",
       "    </tr>\n",
       "  </tbody>\n",
       "</table>\n",
       "</div>"
      ],
      "text/plain": [
       "   CDPHId                                       ProductName  CompanyId  \\\n",
       "0       2  ULTRA COLOR RICH EXTRA PLUMP LIPSTICK-ALL SHADES          4   \n",
       "1       3                        Glover's Medicated Shampoo        338   \n",
       "2       3                        Glover's Medicated Shampoo        338   \n",
       "3       4          PRECISION GLIMMER EYE LINER-ALL SHADES �          4   \n",
       "4       5       AVON BRILLIANT SHINE LIP GLOSS-ALL SHADES �          4   \n",
       "\n",
       "           CompanyName BrandName  PrimaryCategoryId  \\\n",
       "0         New Avon LLC      AVON                 44   \n",
       "1  J. Strickland & Co.  Glover's                 18   \n",
       "2  J. Strickland & Co.  Glover's                 18   \n",
       "3         New Avon LLC      AVON                 44   \n",
       "4         New Avon LLC      AVON                 44   \n",
       "\n",
       "                     PrimaryCategory  SubCategoryId  \\\n",
       "0    Makeup Products (non-permanent)             53   \n",
       "1  Hair Care Products (non-coloring)             25   \n",
       "2  Hair Care Products (non-coloring)             25   \n",
       "3    Makeup Products (non-permanent)             46   \n",
       "4    Makeup Products (non-permanent)             52   \n",
       "\n",
       "                                  SubCategory  CasId            ChemicalName  \\\n",
       "0  Lip Color - Lipsticks, Liners, and Pencils    656        Titanium dioxide   \n",
       "1    Hair Shampoos (making a cosmetic claim)     889  Distillates (coal tar)   \n",
       "2    Hair Shampoos (making a cosmetic claim)     293               Estragole   \n",
       "3                    Eyeliner/Eyebrow Pencils    656        Titanium dioxide   \n",
       "4                             Lip Gloss/Shine    656        Titanium dioxide   \n",
       "\n",
       "  InitialDateReported MostRecentDateReported DiscontinuedDate  \\\n",
       "0          2009-06-17             2013-08-28       2011-02-01   \n",
       "1          2009-07-01             2009-07-01              NaT   \n",
       "2          2009-07-01             2009-07-01              NaT   \n",
       "3          2009-07-09             2013-08-28              NaT   \n",
       "4          2009-07-09             2013-08-28       2011-02-01   \n",
       "\n",
       "  ChemicalCreatedAt ChemicalUpdatedAt ChemicalDateRemoved  ChemicalCount  \n",
       "0        2009-07-09        2009-07-09                 NaT              1  \n",
       "1        2009-07-01        2009-07-01                 NaT              2  \n",
       "2        2009-07-02        2009-07-02                 NaT              2  \n",
       "3        2009-07-09        2009-07-09                 NaT              1  \n",
       "4        2009-07-09        2009-07-09                 NaT              1  "
      ]
     },
     "execution_count": 12,
     "metadata": {},
     "output_type": "execute_result"
    }
   ],
   "source": [
    "date_cols = ['InitialDateReported', 'MostRecentDateReported', 'DiscontinuedDate', \n",
    "             'ChemicalCreatedAt', 'ChemicalUpdatedAt', 'ChemicalDateRemoved']\n",
    "data_df4 = data_df3.copy()\n",
    "\n",
    "data_df4[date_cols] = data_df4[date_cols].apply(pd.to_datetime)\n",
    "\n",
    "data_df4.info()\n",
    "data_df4.head()"
   ]
  },
  {
   "cell_type": "markdown",
   "metadata": {},
   "source": [
    "## Initial Check for Duplicate Rows"
   ]
  },
  {
   "cell_type": "code",
   "execution_count": 13,
   "metadata": {},
   "outputs": [
    {
     "data": {
      "text/plain": [
       "(66853, 18)"
      ]
     },
     "execution_count": 13,
     "metadata": {},
     "output_type": "execute_result"
    }
   ],
   "source": [
    "# Find number of duplicate rows\n",
    "duplicates_df = data_df4[data_df4.duplicated()]\n",
    "duplicates_df.shape"
   ]
  },
  {
   "cell_type": "code",
   "execution_count": 14,
   "metadata": {},
   "outputs": [
    {
     "data": {
      "text/plain": [
       "(46927, 18)"
      ]
     },
     "execution_count": 14,
     "metadata": {},
     "output_type": "execute_result"
    }
   ],
   "source": [
    "# Drop duplicate rows\n",
    "data_df5 = data_df4.copy()\n",
    "data_df5 = data_df5.drop_duplicates()\n",
    "data_df5.shape"
   ]
  },
  {
   "cell_type": "markdown",
   "metadata": {},
   "source": [
    "## Counting Unique Values per Column"
   ]
  },
  {
   "cell_type": "code",
   "execution_count": 15,
   "metadata": {},
   "outputs": [
    {
     "name": "stdout",
     "output_type": "stream",
     "text": [
      "Number of Unique Values per Column:\n"
     ]
    },
    {
     "data": {
      "text/html": [
       "<div>\n",
       "<style scoped>\n",
       "    .dataframe tbody tr th:only-of-type {\n",
       "        vertical-align: middle;\n",
       "    }\n",
       "\n",
       "    .dataframe tbody tr th {\n",
       "        vertical-align: top;\n",
       "    }\n",
       "\n",
       "    .dataframe thead th {\n",
       "        text-align: right;\n",
       "    }\n",
       "</style>\n",
       "<table border=\"1\" class=\"dataframe\">\n",
       "  <thead>\n",
       "    <tr style=\"text-align: right;\">\n",
       "      <th></th>\n",
       "      <th>Column</th>\n",
       "      <th>Number of Unique Values</th>\n",
       "    </tr>\n",
       "  </thead>\n",
       "  <tbody>\n",
       "    <tr>\n",
       "      <td>0</td>\n",
       "      <td>CDPHId</td>\n",
       "      <td>36794</td>\n",
       "    </tr>\n",
       "    <tr>\n",
       "      <td>1</td>\n",
       "      <td>ProductName</td>\n",
       "      <td>33565</td>\n",
       "    </tr>\n",
       "    <tr>\n",
       "      <td>4</td>\n",
       "      <td>BrandName</td>\n",
       "      <td>2706</td>\n",
       "    </tr>\n",
       "    <tr>\n",
       "      <td>15</td>\n",
       "      <td>ChemicalUpdatedAt</td>\n",
       "      <td>2283</td>\n",
       "    </tr>\n",
       "    <tr>\n",
       "      <td>14</td>\n",
       "      <td>ChemicalCreatedAt</td>\n",
       "      <td>2277</td>\n",
       "    </tr>\n",
       "    <tr>\n",
       "      <td>11</td>\n",
       "      <td>InitialDateReported</td>\n",
       "      <td>2232</td>\n",
       "    </tr>\n",
       "    <tr>\n",
       "      <td>12</td>\n",
       "      <td>MostRecentDateReported</td>\n",
       "      <td>2134</td>\n",
       "    </tr>\n",
       "    <tr>\n",
       "      <td>13</td>\n",
       "      <td>DiscontinuedDate</td>\n",
       "      <td>986</td>\n",
       "    </tr>\n",
       "    <tr>\n",
       "      <td>2</td>\n",
       "      <td>CompanyId</td>\n",
       "      <td>633</td>\n",
       "    </tr>\n",
       "    <tr>\n",
       "      <td>3</td>\n",
       "      <td>CompanyName</td>\n",
       "      <td>604</td>\n",
       "    </tr>\n",
       "    <tr>\n",
       "      <td>16</td>\n",
       "      <td>ChemicalDateRemoved</td>\n",
       "      <td>519</td>\n",
       "    </tr>\n",
       "    <tr>\n",
       "      <td>9</td>\n",
       "      <td>CasId</td>\n",
       "      <td>134</td>\n",
       "    </tr>\n",
       "    <tr>\n",
       "      <td>10</td>\n",
       "      <td>ChemicalName</td>\n",
       "      <td>123</td>\n",
       "    </tr>\n",
       "    <tr>\n",
       "      <td>7</td>\n",
       "      <td>SubCategoryId</td>\n",
       "      <td>92</td>\n",
       "    </tr>\n",
       "    <tr>\n",
       "      <td>8</td>\n",
       "      <td>SubCategory</td>\n",
       "      <td>89</td>\n",
       "    </tr>\n",
       "    <tr>\n",
       "      <td>6</td>\n",
       "      <td>PrimaryCategory</td>\n",
       "      <td>13</td>\n",
       "    </tr>\n",
       "    <tr>\n",
       "      <td>5</td>\n",
       "      <td>PrimaryCategoryId</td>\n",
       "      <td>13</td>\n",
       "    </tr>\n",
       "    <tr>\n",
       "      <td>17</td>\n",
       "      <td>ChemicalCount</td>\n",
       "      <td>10</td>\n",
       "    </tr>\n",
       "  </tbody>\n",
       "</table>\n",
       "</div>"
      ],
      "text/plain": [
       "                    Column  Number of Unique Values\n",
       "0                   CDPHId                    36794\n",
       "1              ProductName                    33565\n",
       "4                BrandName                     2706\n",
       "15       ChemicalUpdatedAt                     2283\n",
       "14       ChemicalCreatedAt                     2277\n",
       "11     InitialDateReported                     2232\n",
       "12  MostRecentDateReported                     2134\n",
       "13        DiscontinuedDate                      986\n",
       "2                CompanyId                      633\n",
       "3              CompanyName                      604\n",
       "16     ChemicalDateRemoved                      519\n",
       "9                    CasId                      134\n",
       "10            ChemicalName                      123\n",
       "7            SubCategoryId                       92\n",
       "8              SubCategory                       89\n",
       "6          PrimaryCategory                       13\n",
       "5        PrimaryCategoryId                       13\n",
       "17           ChemicalCount                       10"
      ]
     },
     "execution_count": 15,
     "metadata": {},
     "output_type": "execute_result"
    }
   ],
   "source": [
    "# Show number of unique vals per column\n",
    "print('Number of Unique Values per Column:')\n",
    "num_unique_df = data_df5.nunique(axis=0).to_frame().reset_index()\n",
    "num_unique_df.sort_values(0, ascending=False).rename(columns={'index': 'Column', 0: 'Number of Unique Values'})"
   ]
  },
  {
   "cell_type": "markdown",
   "metadata": {},
   "source": [
    "## Handling Categorical Data"
   ]
  },
  {
   "cell_type": "markdown",
   "metadata": {},
   "source": [
    "* 36,794 unique products identified by CDPHId, *IGNORE ProductName*\n",
    "    * Number of unique CDPHId vals > Number of unique ProductName vals\n",
    "    * Can have multiple categories (PrimaryCategory, SubCategory) \n",
    "    * Can have multiple chemicals (ChemicalName)\n",
    "* 123 unique chemicals identified by ChemicalName, *IGNORE CasId*\n",
    "    * Number of unique CasId vals > Number of unique ChemicalName vals\n",
    "* Need to investigate:\n",
    "    * **Number of unique CompanyId vals > Number of unique CompanyName vals**"
   ]
  },
  {
   "cell_type": "markdown",
   "metadata": {},
   "source": [
    "#### Messy Company Names"
   ]
  },
  {
   "cell_type": "code",
   "execution_count": 16,
   "metadata": {},
   "outputs": [],
   "source": [
    "# Show CompanyName counts\n",
    "# df = pd.DataFrame(data_df5['CompanyName'].value_counts()).reset_index().sort_values('index')\n",
    "\n",
    "# with pd.option_context('display.max_rows', None, 'display.max_columns', None):  # more options can be specified also\n",
    "#     print(df)"
   ]
  },
  {
   "cell_type": "code",
   "execution_count": 17,
   "metadata": {
    "scrolled": true
   },
   "outputs": [
    {
     "data": {
      "text/html": [
       "<div>\n",
       "<style scoped>\n",
       "    .dataframe tbody tr th:only-of-type {\n",
       "        vertical-align: middle;\n",
       "    }\n",
       "\n",
       "    .dataframe tbody tr th {\n",
       "        vertical-align: top;\n",
       "    }\n",
       "\n",
       "    .dataframe thead th {\n",
       "        text-align: right;\n",
       "    }\n",
       "</style>\n",
       "<table border=\"1\" class=\"dataframe\">\n",
       "  <thead>\n",
       "    <tr style=\"text-align: right;\">\n",
       "      <th></th>\n",
       "      <th>CompanyId</th>\n",
       "      <th>CompanyName</th>\n",
       "      <th>BrandName</th>\n",
       "    </tr>\n",
       "  </thead>\n",
       "  <tbody>\n",
       "    <tr>\n",
       "      <td>36890</td>\n",
       "      <td>570</td>\n",
       "      <td>Fresh, Inc.</td>\n",
       "      <td>Fresh</td>\n",
       "    </tr>\n",
       "    <tr>\n",
       "      <td>51907</td>\n",
       "      <td>843</td>\n",
       "      <td>Fresh Inc.</td>\n",
       "      <td>Fresh</td>\n",
       "    </tr>\n",
       "    <tr>\n",
       "      <td>89347</td>\n",
       "      <td>1215</td>\n",
       "      <td>Fresh Inc</td>\n",
       "      <td>Fresh</td>\n",
       "    </tr>\n",
       "  </tbody>\n",
       "</table>\n",
       "</div>"
      ],
      "text/plain": [
       "       CompanyId  CompanyName BrandName\n",
       "36890        570  Fresh, Inc.     Fresh\n",
       "51907        843   Fresh Inc.     Fresh\n",
       "89347       1215    Fresh Inc     Fresh"
      ]
     },
     "execution_count": 17,
     "metadata": {},
     "output_type": "execute_result"
    }
   ],
   "source": [
    "# Example of similar CompanyNames that could be merged - 'Fresh'\n",
    "fresh_df = data_df5[data_df5['CompanyName'].str.contains('Fresh')]\n",
    "fresh_df[['CompanyId','CompanyName','BrandName']].drop_duplicates()"
   ]
  },
  {
   "cell_type": "markdown",
   "metadata": {},
   "source": [
    "### Replacing Categorical Columns with Cleaned Ones"
   ]
  },
  {
   "cell_type": "code",
   "execution_count": 18,
   "metadata": {
    "scrolled": false
   },
   "outputs": [
    {
     "data": {
      "text/html": [
       "<div>\n",
       "<style scoped>\n",
       "    .dataframe tbody tr th:only-of-type {\n",
       "        vertical-align: middle;\n",
       "    }\n",
       "\n",
       "    .dataframe tbody tr th {\n",
       "        vertical-align: top;\n",
       "    }\n",
       "\n",
       "    .dataframe thead th {\n",
       "        text-align: right;\n",
       "    }\n",
       "</style>\n",
       "<table border=\"1\" class=\"dataframe\">\n",
       "  <thead>\n",
       "    <tr style=\"text-align: right;\">\n",
       "      <th></th>\n",
       "      <th>CDPHId</th>\n",
       "      <th>CompanyId</th>\n",
       "      <th>PrimaryCategoryId</th>\n",
       "      <th>PrimaryCategory</th>\n",
       "      <th>SubCategoryId</th>\n",
       "      <th>CasId</th>\n",
       "      <th>ChemicalName</th>\n",
       "      <th>InitialDateReported</th>\n",
       "      <th>MostRecentDateReported</th>\n",
       "      <th>DiscontinuedDate</th>\n",
       "      <th>ChemicalCreatedAt</th>\n",
       "      <th>ChemicalUpdatedAt</th>\n",
       "      <th>ChemicalDateRemoved</th>\n",
       "      <th>ChemicalCount</th>\n",
       "      <th>Cleaned_CompanyName</th>\n",
       "      <th>Cleaned_ProductName</th>\n",
       "      <th>Cleaned_SubCategory</th>\n",
       "      <th>Cleaned_BrandName</th>\n",
       "    </tr>\n",
       "  </thead>\n",
       "  <tbody>\n",
       "    <tr>\n",
       "      <td>0</td>\n",
       "      <td>2</td>\n",
       "      <td>4</td>\n",
       "      <td>44</td>\n",
       "      <td>Makeup Products (non-permanent)</td>\n",
       "      <td>53</td>\n",
       "      <td>656</td>\n",
       "      <td>Titanium dioxide</td>\n",
       "      <td>2009-06-17</td>\n",
       "      <td>2013-08-28</td>\n",
       "      <td>2011-02-01</td>\n",
       "      <td>2009-07-09</td>\n",
       "      <td>2009-07-09</td>\n",
       "      <td>NaT</td>\n",
       "      <td>1</td>\n",
       "      <td>new avon llc</td>\n",
       "      <td>ultra color rich extra plump lipstick-all shades</td>\n",
       "      <td>lip color - lipsticks liners and pencils</td>\n",
       "      <td>avon</td>\n",
       "    </tr>\n",
       "    <tr>\n",
       "      <td>1</td>\n",
       "      <td>3</td>\n",
       "      <td>338</td>\n",
       "      <td>18</td>\n",
       "      <td>Hair Care Products (non-coloring)</td>\n",
       "      <td>25</td>\n",
       "      <td>889</td>\n",
       "      <td>Distillates (coal tar)</td>\n",
       "      <td>2009-07-01</td>\n",
       "      <td>2009-07-01</td>\n",
       "      <td>NaT</td>\n",
       "      <td>2009-07-01</td>\n",
       "      <td>2009-07-01</td>\n",
       "      <td>NaT</td>\n",
       "      <td>2</td>\n",
       "      <td>j strickland &amp; co</td>\n",
       "      <td>glover's medicated shampoo</td>\n",
       "      <td>hair shampoos (making a cosmetic claim)</td>\n",
       "      <td>glover's</td>\n",
       "    </tr>\n",
       "    <tr>\n",
       "      <td>2</td>\n",
       "      <td>3</td>\n",
       "      <td>338</td>\n",
       "      <td>18</td>\n",
       "      <td>Hair Care Products (non-coloring)</td>\n",
       "      <td>25</td>\n",
       "      <td>293</td>\n",
       "      <td>Estragole</td>\n",
       "      <td>2009-07-01</td>\n",
       "      <td>2009-07-01</td>\n",
       "      <td>NaT</td>\n",
       "      <td>2009-07-02</td>\n",
       "      <td>2009-07-02</td>\n",
       "      <td>NaT</td>\n",
       "      <td>2</td>\n",
       "      <td>j strickland &amp; co</td>\n",
       "      <td>glover's medicated shampoo</td>\n",
       "      <td>hair shampoos (making a cosmetic claim)</td>\n",
       "      <td>glover's</td>\n",
       "    </tr>\n",
       "    <tr>\n",
       "      <td>3</td>\n",
       "      <td>4</td>\n",
       "      <td>4</td>\n",
       "      <td>44</td>\n",
       "      <td>Makeup Products (non-permanent)</td>\n",
       "      <td>46</td>\n",
       "      <td>656</td>\n",
       "      <td>Titanium dioxide</td>\n",
       "      <td>2009-07-09</td>\n",
       "      <td>2013-08-28</td>\n",
       "      <td>NaT</td>\n",
       "      <td>2009-07-09</td>\n",
       "      <td>2009-07-09</td>\n",
       "      <td>NaT</td>\n",
       "      <td>1</td>\n",
       "      <td>new avon llc</td>\n",
       "      <td>precision glimmer eye liner-all shades �</td>\n",
       "      <td>eyeliner/eyebrow pencils</td>\n",
       "      <td>avon</td>\n",
       "    </tr>\n",
       "    <tr>\n",
       "      <td>4</td>\n",
       "      <td>5</td>\n",
       "      <td>4</td>\n",
       "      <td>44</td>\n",
       "      <td>Makeup Products (non-permanent)</td>\n",
       "      <td>52</td>\n",
       "      <td>656</td>\n",
       "      <td>Titanium dioxide</td>\n",
       "      <td>2009-07-09</td>\n",
       "      <td>2013-08-28</td>\n",
       "      <td>2011-02-01</td>\n",
       "      <td>2009-07-09</td>\n",
       "      <td>2009-07-09</td>\n",
       "      <td>NaT</td>\n",
       "      <td>1</td>\n",
       "      <td>new avon llc</td>\n",
       "      <td>avon brilliant shine lip gloss-all shades �</td>\n",
       "      <td>lip gloss/shine</td>\n",
       "      <td>avon</td>\n",
       "    </tr>\n",
       "  </tbody>\n",
       "</table>\n",
       "</div>"
      ],
      "text/plain": [
       "   CDPHId  CompanyId  PrimaryCategoryId                    PrimaryCategory  \\\n",
       "0       2          4                 44    Makeup Products (non-permanent)   \n",
       "1       3        338                 18  Hair Care Products (non-coloring)   \n",
       "2       3        338                 18  Hair Care Products (non-coloring)   \n",
       "3       4          4                 44    Makeup Products (non-permanent)   \n",
       "4       5          4                 44    Makeup Products (non-permanent)   \n",
       "\n",
       "   SubCategoryId  CasId            ChemicalName InitialDateReported  \\\n",
       "0             53    656        Titanium dioxide          2009-06-17   \n",
       "1             25    889  Distillates (coal tar)          2009-07-01   \n",
       "2             25    293               Estragole          2009-07-01   \n",
       "3             46    656        Titanium dioxide          2009-07-09   \n",
       "4             52    656        Titanium dioxide          2009-07-09   \n",
       "\n",
       "  MostRecentDateReported DiscontinuedDate ChemicalCreatedAt ChemicalUpdatedAt  \\\n",
       "0             2013-08-28       2011-02-01        2009-07-09        2009-07-09   \n",
       "1             2009-07-01              NaT        2009-07-01        2009-07-01   \n",
       "2             2009-07-01              NaT        2009-07-02        2009-07-02   \n",
       "3             2013-08-28              NaT        2009-07-09        2009-07-09   \n",
       "4             2013-08-28       2011-02-01        2009-07-09        2009-07-09   \n",
       "\n",
       "  ChemicalDateRemoved  ChemicalCount Cleaned_CompanyName  \\\n",
       "0                 NaT              1        new avon llc   \n",
       "1                 NaT              2   j strickland & co   \n",
       "2                 NaT              2   j strickland & co   \n",
       "3                 NaT              1        new avon llc   \n",
       "4                 NaT              1        new avon llc   \n",
       "\n",
       "                                Cleaned_ProductName  \\\n",
       "0  ultra color rich extra plump lipstick-all shades   \n",
       "1                        glover's medicated shampoo   \n",
       "2                        glover's medicated shampoo   \n",
       "3          precision glimmer eye liner-all shades �   \n",
       "4       avon brilliant shine lip gloss-all shades �   \n",
       "\n",
       "                        Cleaned_SubCategory Cleaned_BrandName  \n",
       "0  lip color - lipsticks liners and pencils              avon  \n",
       "1   hair shampoos (making a cosmetic claim)          glover's  \n",
       "2   hair shampoos (making a cosmetic claim)          glover's  \n",
       "3                  eyeliner/eyebrow pencils              avon  \n",
       "4                           lip gloss/shine              avon  "
      ]
     },
     "execution_count": 18,
     "metadata": {},
     "output_type": "execute_result"
    }
   ],
   "source": [
    "# Use function to clean categorical columns of interest\n",
    "data_df6 = dce.clean_cat_data(data_df5, ['CompanyName', 'ProductName', 'SubCategory', \n",
    "                                         'BrandName'])\n",
    "data_df6.head()"
   ]
  },
  {
   "cell_type": "code",
   "execution_count": 19,
   "metadata": {},
   "outputs": [],
   "source": [
    "# # Show Cleaned CompanyName counts - Sorted by name\n",
    "# df = pd.DataFrame(data_df6['Cleaned_CompanyName'].value_counts()).reset_index().sort_values('index')\n",
    "\n",
    "# with pd.option_context('display.max_rows', None, 'display.max_columns', None):  # more options can be specified also\n",
    "#     print(df)"
   ]
  },
  {
   "cell_type": "code",
   "execution_count": 20,
   "metadata": {},
   "outputs": [],
   "source": [
    "# # Show Cleaned CompanyName counts - Sorted by count, descending\n",
    "# df = pd.DataFrame(data_df6['Cleaned_CompanyName'].value_counts()).reset_index().sort_values('Cleaned_CompanyName', ascending=False)\n",
    "\n",
    "# with pd.option_context('display.max_rows', None, 'display.max_columns', None):  # more options can be specified also\n",
    "#     print(df)"
   ]
  },
  {
   "cell_type": "code",
   "execution_count": 21,
   "metadata": {},
   "outputs": [
    {
     "data": {
      "text/html": [
       "<div>\n",
       "<style scoped>\n",
       "    .dataframe tbody tr th:only-of-type {\n",
       "        vertical-align: middle;\n",
       "    }\n",
       "\n",
       "    .dataframe tbody tr th {\n",
       "        vertical-align: top;\n",
       "    }\n",
       "\n",
       "    .dataframe thead th {\n",
       "        text-align: right;\n",
       "    }\n",
       "</style>\n",
       "<table border=\"1\" class=\"dataframe\">\n",
       "  <thead>\n",
       "    <tr style=\"text-align: right;\">\n",
       "      <th></th>\n",
       "      <th>CompanyId</th>\n",
       "      <th>Cleaned_CompanyName</th>\n",
       "      <th>Cleaned_BrandName</th>\n",
       "    </tr>\n",
       "  </thead>\n",
       "  <tbody>\n",
       "    <tr>\n",
       "      <td>36890</td>\n",
       "      <td>570</td>\n",
       "      <td>fresh inc</td>\n",
       "      <td>fresh</td>\n",
       "    </tr>\n",
       "    <tr>\n",
       "      <td>51907</td>\n",
       "      <td>843</td>\n",
       "      <td>fresh inc</td>\n",
       "      <td>fresh</td>\n",
       "    </tr>\n",
       "    <tr>\n",
       "      <td>89347</td>\n",
       "      <td>1215</td>\n",
       "      <td>fresh inc</td>\n",
       "      <td>fresh</td>\n",
       "    </tr>\n",
       "  </tbody>\n",
       "</table>\n",
       "</div>"
      ],
      "text/plain": [
       "       CompanyId Cleaned_CompanyName Cleaned_BrandName\n",
       "36890        570           fresh inc             fresh\n",
       "51907        843           fresh inc             fresh\n",
       "89347       1215           fresh inc             fresh"
      ]
     },
     "execution_count": 21,
     "metadata": {},
     "output_type": "execute_result"
    }
   ],
   "source": [
    "# Same example of CompanyNames after cleaning - 'Fresh'\n",
    "fresh_df6 = data_df6[data_df6['Cleaned_CompanyName'].str.contains('fresh')]\n",
    "fresh_df6[['CompanyId','Cleaned_CompanyName','Cleaned_BrandName']].drop_duplicates()"
   ]
  },
  {
   "cell_type": "code",
   "execution_count": 22,
   "metadata": {},
   "outputs": [],
   "source": [
    "# # Updated - Show number of unique vals per column\n",
    "# print('Number of Unique Values per Column:')\n",
    "# num_unique_df = data_df6.nunique(axis=0).to_frame().reset_index()\n",
    "# num_unique_df.sort_values(0, ascending=False).rename(columns={'index': 'Column', 0: 'Number of Unique Values'})"
   ]
  },
  {
   "cell_type": "markdown",
   "metadata": {},
   "source": [
    "## Final Check for Duplicate Rows"
   ]
  },
  {
   "cell_type": "code",
   "execution_count": 23,
   "metadata": {},
   "outputs": [
    {
     "data": {
      "text/plain": [
       "(0, 18)"
      ]
     },
     "execution_count": 23,
     "metadata": {},
     "output_type": "execute_result"
    }
   ],
   "source": [
    "# Find number of duplicate rows\n",
    "duplicates_df6 = data_df6[data_df6.duplicated()]\n",
    "duplicates_df6.shape"
   ]
  },
  {
   "cell_type": "code",
   "execution_count": 24,
   "metadata": {},
   "outputs": [],
   "source": [
    "# Drop duplicate rows\n",
    "# N/A"
   ]
  },
  {
   "cell_type": "code",
   "execution_count": 25,
   "metadata": {},
   "outputs": [],
   "source": [
    "# Take final df after cleaning\n",
    "clean_data_df = data_df6"
   ]
  },
  {
   "cell_type": "markdown",
   "metadata": {},
   "source": [
    "# EDA"
   ]
  },
  {
   "cell_type": "markdown",
   "metadata": {},
   "source": [
    "* 36,794 unique products identified by CDPHId\n",
    "    * Can have multiple categories (PrimaryCategory, Cleaned_SubCategory) \n",
    "    * Can have multiple chemicals (ChemicalName)\n",
    "* 123 unique chemicals identified by ChemicalName"
   ]
  },
  {
   "cell_type": "code",
   "execution_count": 26,
   "metadata": {},
   "outputs": [
    {
     "name": "stdout",
     "output_type": "stream",
     "text": [
      "Number of Unique Values per Column:\n"
     ]
    },
    {
     "data": {
      "text/html": [
       "<div>\n",
       "<style scoped>\n",
       "    .dataframe tbody tr th:only-of-type {\n",
       "        vertical-align: middle;\n",
       "    }\n",
       "\n",
       "    .dataframe tbody tr th {\n",
       "        vertical-align: top;\n",
       "    }\n",
       "\n",
       "    .dataframe thead th {\n",
       "        text-align: right;\n",
       "    }\n",
       "</style>\n",
       "<table border=\"1\" class=\"dataframe\">\n",
       "  <thead>\n",
       "    <tr style=\"text-align: right;\">\n",
       "      <th></th>\n",
       "      <th>Column</th>\n",
       "      <th>Number of Unique Values</th>\n",
       "    </tr>\n",
       "  </thead>\n",
       "  <tbody>\n",
       "    <tr>\n",
       "      <td>0</td>\n",
       "      <td>CDPHId</td>\n",
       "      <td>36794</td>\n",
       "    </tr>\n",
       "    <tr>\n",
       "      <td>15</td>\n",
       "      <td>Cleaned_ProductName</td>\n",
       "      <td>33296</td>\n",
       "    </tr>\n",
       "    <tr>\n",
       "      <td>17</td>\n",
       "      <td>Cleaned_BrandName</td>\n",
       "      <td>2384</td>\n",
       "    </tr>\n",
       "    <tr>\n",
       "      <td>11</td>\n",
       "      <td>ChemicalUpdatedAt</td>\n",
       "      <td>2283</td>\n",
       "    </tr>\n",
       "    <tr>\n",
       "      <td>10</td>\n",
       "      <td>ChemicalCreatedAt</td>\n",
       "      <td>2277</td>\n",
       "    </tr>\n",
       "    <tr>\n",
       "      <td>7</td>\n",
       "      <td>InitialDateReported</td>\n",
       "      <td>2232</td>\n",
       "    </tr>\n",
       "    <tr>\n",
       "      <td>8</td>\n",
       "      <td>MostRecentDateReported</td>\n",
       "      <td>2134</td>\n",
       "    </tr>\n",
       "    <tr>\n",
       "      <td>9</td>\n",
       "      <td>DiscontinuedDate</td>\n",
       "      <td>986</td>\n",
       "    </tr>\n",
       "    <tr>\n",
       "      <td>1</td>\n",
       "      <td>CompanyId</td>\n",
       "      <td>633</td>\n",
       "    </tr>\n",
       "    <tr>\n",
       "      <td>14</td>\n",
       "      <td>Cleaned_CompanyName</td>\n",
       "      <td>597</td>\n",
       "    </tr>\n",
       "    <tr>\n",
       "      <td>12</td>\n",
       "      <td>ChemicalDateRemoved</td>\n",
       "      <td>519</td>\n",
       "    </tr>\n",
       "    <tr>\n",
       "      <td>5</td>\n",
       "      <td>CasId</td>\n",
       "      <td>134</td>\n",
       "    </tr>\n",
       "    <tr>\n",
       "      <td>6</td>\n",
       "      <td>ChemicalName</td>\n",
       "      <td>123</td>\n",
       "    </tr>\n",
       "    <tr>\n",
       "      <td>4</td>\n",
       "      <td>SubCategoryId</td>\n",
       "      <td>92</td>\n",
       "    </tr>\n",
       "    <tr>\n",
       "      <td>16</td>\n",
       "      <td>Cleaned_SubCategory</td>\n",
       "      <td>89</td>\n",
       "    </tr>\n",
       "    <tr>\n",
       "      <td>3</td>\n",
       "      <td>PrimaryCategory</td>\n",
       "      <td>13</td>\n",
       "    </tr>\n",
       "    <tr>\n",
       "      <td>2</td>\n",
       "      <td>PrimaryCategoryId</td>\n",
       "      <td>13</td>\n",
       "    </tr>\n",
       "    <tr>\n",
       "      <td>13</td>\n",
       "      <td>ChemicalCount</td>\n",
       "      <td>10</td>\n",
       "    </tr>\n",
       "  </tbody>\n",
       "</table>\n",
       "</div>"
      ],
      "text/plain": [
       "                    Column  Number of Unique Values\n",
       "0                   CDPHId                    36794\n",
       "15     Cleaned_ProductName                    33296\n",
       "17       Cleaned_BrandName                     2384\n",
       "11       ChemicalUpdatedAt                     2283\n",
       "10       ChemicalCreatedAt                     2277\n",
       "7      InitialDateReported                     2232\n",
       "8   MostRecentDateReported                     2134\n",
       "9         DiscontinuedDate                      986\n",
       "1                CompanyId                      633\n",
       "14     Cleaned_CompanyName                      597\n",
       "12     ChemicalDateRemoved                      519\n",
       "5                    CasId                      134\n",
       "6             ChemicalName                      123\n",
       "4            SubCategoryId                       92\n",
       "16     Cleaned_SubCategory                       89\n",
       "3          PrimaryCategory                       13\n",
       "2        PrimaryCategoryId                       13\n",
       "13           ChemicalCount                       10"
      ]
     },
     "execution_count": 26,
     "metadata": {},
     "output_type": "execute_result"
    }
   ],
   "source": [
    "# Number of unique vals per column\n",
    "print('Number of Unique Values per Column:')\n",
    "num_unique_df = clean_data_df.nunique(axis=0).to_frame().reset_index()\n",
    "num_unique_df.sort_values(0, ascending=False).rename(columns={'index': 'Column', 0: 'Number of Unique Values'})"
   ]
  },
  {
   "cell_type": "code",
   "execution_count": 27,
   "metadata": {},
   "outputs": [
    {
     "name": "stdout",
     "output_type": "stream",
     "text": [
      "<class 'pandas.core.frame.DataFrame'>\n",
      "Int64Index: 46927 entries, 0 to 113779\n",
      "Data columns (total 18 columns):\n",
      "CDPHId                    46927 non-null int64\n",
      "CompanyId                 46927 non-null int64\n",
      "PrimaryCategoryId         46927 non-null int64\n",
      "PrimaryCategory           46927 non-null object\n",
      "SubCategoryId             46927 non-null int64\n",
      "CasId                     46927 non-null int64\n",
      "ChemicalName              46927 non-null object\n",
      "InitialDateReported       46927 non-null datetime64[ns]\n",
      "MostRecentDateReported    46927 non-null datetime64[ns]\n",
      "DiscontinuedDate          6047 non-null datetime64[ns]\n",
      "ChemicalCreatedAt         46927 non-null datetime64[ns]\n",
      "ChemicalUpdatedAt         46927 non-null datetime64[ns]\n",
      "ChemicalDateRemoved       1619 non-null datetime64[ns]\n",
      "ChemicalCount             46927 non-null int64\n",
      "Cleaned_CompanyName       46927 non-null object\n",
      "Cleaned_ProductName       46927 non-null object\n",
      "Cleaned_SubCategory       46927 non-null object\n",
      "Cleaned_BrandName         46927 non-null object\n",
      "dtypes: datetime64[ns](6), int64(6), object(6)\n",
      "memory usage: 6.8+ MB\n"
     ]
    }
   ],
   "source": [
    "clean_data_df.info()"
   ]
  },
  {
   "cell_type": "markdown",
   "metadata": {},
   "source": [
    "## Analyzing by DiscontinuedDate"
   ]
  },
  {
   "cell_type": "code",
   "execution_count": 60,
   "metadata": {},
   "outputs": [
    {
     "data": {
      "text/html": [
       "<div>\n",
       "<style scoped>\n",
       "    .dataframe tbody tr th:only-of-type {\n",
       "        vertical-align: middle;\n",
       "    }\n",
       "\n",
       "    .dataframe tbody tr th {\n",
       "        vertical-align: top;\n",
       "    }\n",
       "\n",
       "    .dataframe thead th {\n",
       "        text-align: right;\n",
       "    }\n",
       "</style>\n",
       "<table border=\"1\" class=\"dataframe\">\n",
       "  <thead>\n",
       "    <tr style=\"text-align: right;\">\n",
       "      <th></th>\n",
       "      <th>CDPHId</th>\n",
       "    </tr>\n",
       "  </thead>\n",
       "  <tbody>\n",
       "    <tr>\n",
       "      <td>2013-07</td>\n",
       "      <td>369</td>\n",
       "    </tr>\n",
       "    <tr>\n",
       "      <td>2016-10</td>\n",
       "      <td>341</td>\n",
       "    </tr>\n",
       "    <tr>\n",
       "      <td>2010-12</td>\n",
       "      <td>190</td>\n",
       "    </tr>\n",
       "    <tr>\n",
       "      <td>2010-08</td>\n",
       "      <td>175</td>\n",
       "    </tr>\n",
       "    <tr>\n",
       "      <td>2015-04</td>\n",
       "      <td>144</td>\n",
       "    </tr>\n",
       "    <tr>\n",
       "      <td>...</td>\n",
       "      <td>...</td>\n",
       "    </tr>\n",
       "    <tr>\n",
       "      <td>2003-06</td>\n",
       "      <td>0</td>\n",
       "    </tr>\n",
       "    <tr>\n",
       "      <td>2003-04</td>\n",
       "      <td>0</td>\n",
       "    </tr>\n",
       "    <tr>\n",
       "      <td>2003-03</td>\n",
       "      <td>0</td>\n",
       "    </tr>\n",
       "    <tr>\n",
       "      <td>2003-02</td>\n",
       "      <td>0</td>\n",
       "    </tr>\n",
       "    <tr>\n",
       "      <td>2003-05</td>\n",
       "      <td>0</td>\n",
       "    </tr>\n",
       "  </tbody>\n",
       "</table>\n",
       "<p>228 rows × 1 columns</p>\n",
       "</div>"
      ],
      "text/plain": [
       "         CDPHId\n",
       "2013-07     369\n",
       "2016-10     341\n",
       "2010-12     190\n",
       "2010-08     175\n",
       "2015-04     144\n",
       "...         ...\n",
       "2003-06       0\n",
       "2003-04       0\n",
       "2003-03       0\n",
       "2003-02       0\n",
       "2003-05       0\n",
       "\n",
       "[228 rows x 1 columns]"
      ]
     },
     "execution_count": 60,
     "metadata": {},
     "output_type": "execute_result"
    }
   ],
   "source": [
    "# Count number of products by DiscontinuedDate Month\n",
    "discontinued_date_count_df = dce.get_count_by_df(clean_data_df, 'CDPHId', 'DiscontinuedDate')\n",
    "discontinued_date_count_df = discontinued_date_count_df.groupby(pd.Grouper(freq='M')).sum()\n",
    "discontinued_date_count_df.index = discontinued_date_count_df.index.map(lambda x: x.strftime('%Y-%m'))\n",
    "discontinued_date_count_df.sort_values('CDPHId', ascending=False)"
   ]
  },
  {
   "cell_type": "code",
   "execution_count": 29,
   "metadata": {
    "scrolled": false
   },
   "outputs": [
    {
     "data": {
      "text/plain": [
       "<matplotlib.axes._subplots.AxesSubplot at 0x1a1e63f350>"
      ]
     },
     "execution_count": 29,
     "metadata": {},
     "output_type": "execute_result"
    },
    {
     "data": {
      "text/plain": [
       "Text(0.5, 1.0, 'Number of Products Discontinued Over Time')"
      ]
     },
     "execution_count": 29,
     "metadata": {},
     "output_type": "execute_result"
    },
    {
     "data": {
      "text/plain": [
       "Text(0.5, 0, 'Time by Month')"
      ]
     },
     "execution_count": 29,
     "metadata": {},
     "output_type": "execute_result"
    },
    {
     "data": {
      "text/plain": [
       "Text(0, 0.5, 'Number of Products Discontinued')"
      ]
     },
     "execution_count": 29,
     "metadata": {},
     "output_type": "execute_result"
    },
    {
     "data": {
      "image/png": "[encoded data removed]",
      "text/plain": [
       "<Figure size 792x288 with 1 Axes>"
      ]
     },
     "metadata": {
      "needs_background": "light"
     },
     "output_type": "display_data"
    }
   ],
   "source": [
    "fig, ax = plt.subplots(figsize=(11, 4))\n",
    "discontinued_date_count_df['CDPHId'].plot(ax=ax, linewidth=1);\n",
    "ax.set_title('Number of Products Discontinued Over Time', fontsize=20)\n",
    "ax.set_xlabel('Time by Month', fontsize=15)\n",
    "ax.set_ylabel('Number of Products Discontinued', fontsize=15)\n",
    "fig.tight_layout()\n",
    "fig.savefig('images/num_products_discontinued_over_time_monthly')"
   ]
  },
  {
   "cell_type": "markdown",
   "metadata": {},
   "source": [
    "### Analyzing Peak DiscontinuedDates\n",
    "1. 2013-07, 369 products\n",
    "2. 2016-10, 341 products"
   ]
  },
  {
   "cell_type": "code",
   "execution_count": 71,
   "metadata": {},
   "outputs": [
    {
     "data": {
      "text/plain": [
       "array(['dermalogica', 'noevir co ltd', 'buth-na-bodhaige inc',\n",
       "       'dhc usa inc', 'levlad llc', \"burt's bees inc\", 'guerlain',\n",
       "       'arcadia beauty labs llc', 'the procter & gamble company',\n",
       "       'new avon llc', 'yves rocher inc', 'crabtree & evelyn ltd',\n",
       "       'la prairie inc', \"trader joe's company\"], dtype=object)"
      ]
     },
     "execution_count": 71,
     "metadata": {},
     "output_type": "execute_result"
    }
   ],
   "source": [
    "# Count df of peak DiscontinuedDates - 1. 2013-07, 369 products\n",
    "peak_discontinued_df1 = clean_data_df[clean_data_df['DiscontinuedDate'].astype(str).str.contains('2013-07')]\n",
    "peak_discontinued_df1['Cleaned_CompanyName'].unique()"
   ]
  },
  {
   "cell_type": "code",
   "execution_count": 73,
   "metadata": {},
   "outputs": [],
   "source": [
    "# Count number of discontinued products at peak time by Company Name - 1. 2013-07, 369 products\n",
    "peak_discontinued_company_count_df1 = dce.get_count_by_df(peak_discontinued_df1, 'CDPHId', 'Cleaned_CompanyName')\n",
    "peak_discontinued_company_count_df1 = peak_discontinued_company_count_df1.reset_index().sort_values('CDPHId', ascending=False)"
   ]
  },
  {
   "cell_type": "code",
   "execution_count": 77,
   "metadata": {},
   "outputs": [
    {
     "data": {
      "text/plain": [
       "Text(0.5, 1.0, 'Number of Products Discontinued by Company in July 2013')"
      ]
     },
     "execution_count": 77,
     "metadata": {},
     "output_type": "execute_result"
    },
    {
     "data": {
      "text/plain": [
       "Text(0.5, 0, 'Number of Products Reported (Log Scale)')"
      ]
     },
     "execution_count": 77,
     "metadata": {},
     "output_type": "execute_result"
    },
    {
     "data": {
      "text/plain": [
       "Text(0, 0.5, 'Company Name')"
      ]
     },
     "execution_count": 77,
     "metadata": {},
     "output_type": "execute_result"
    },
    {
     "data": {
      "text/plain": [
       "Text(332.02, 0.0, '332')"
      ]
     },
     "execution_count": 77,
     "metadata": {},
     "output_type": "execute_result"
    },
    {
     "data": {
      "text/plain": [
       "Text(11.02, 1.0, '11')"
      ]
     },
     "execution_count": 77,
     "metadata": {},
     "output_type": "execute_result"
    },
    {
     "data": {
      "text/plain": [
       "Text(10.02, 2.0, '10')"
      ]
     },
     "execution_count": 77,
     "metadata": {},
     "output_type": "execute_result"
    },
    {
     "data": {
      "text/plain": [
       "Text(3.02, 3.0, '3')"
      ]
     },
     "execution_count": 77,
     "metadata": {},
     "output_type": "execute_result"
    },
    {
     "data": {
      "text/plain": [
       "Text(2.02, 4.0, '2')"
      ]
     },
     "execution_count": 77,
     "metadata": {},
     "output_type": "execute_result"
    },
    {
     "data": {
      "text/plain": [
       "Text(2.02, 5.0, '2')"
      ]
     },
     "execution_count": 77,
     "metadata": {},
     "output_type": "execute_result"
    },
    {
     "data": {
      "text/plain": [
       "Text(2.02, 6.0, '2')"
      ]
     },
     "execution_count": 77,
     "metadata": {},
     "output_type": "execute_result"
    },
    {
     "data": {
      "text/plain": [
       "Text(1.02, 7.0, '1')"
      ]
     },
     "execution_count": 77,
     "metadata": {},
     "output_type": "execute_result"
    },
    {
     "data": {
      "text/plain": [
       "Text(1.02, 8.0, '1')"
      ]
     },
     "execution_count": 77,
     "metadata": {},
     "output_type": "execute_result"
    },
    {
     "data": {
      "text/plain": [
       "Text(1.02, 9.0, '1')"
      ]
     },
     "execution_count": 77,
     "metadata": {},
     "output_type": "execute_result"
    },
    {
     "data": {
      "text/plain": [
       "Text(1.02, 10.0, '1')"
      ]
     },
     "execution_count": 77,
     "metadata": {},
     "output_type": "execute_result"
    },
    {
     "data": {
      "text/plain": [
       "Text(1.02, 11.0, '1')"
      ]
     },
     "execution_count": 77,
     "metadata": {},
     "output_type": "execute_result"
    },
    {
     "data": {
      "text/plain": [
       "Text(1.02, 12.0, '1')"
      ]
     },
     "execution_count": 77,
     "metadata": {},
     "output_type": "execute_result"
    },
    {
     "data": {
      "text/plain": [
       "Text(1.02, 13.0, '1')"
      ]
     },
     "execution_count": 77,
     "metadata": {},
     "output_type": "execute_result"
    },
    {
     "data": {
      "image/png": "[encoded data removed]",
      "text/plain": [
       "<Figure size 864x504 with 1 Axes>"
      ]
     },
     "metadata": {
      "needs_background": "light"
     },
     "output_type": "display_data"
    }
   ],
   "source": [
    "# Plot number of products by Company Name\n",
    "fig, ax = plt.subplots(figsize=(12, 7))\n",
    "ax = sns.barplot(data=peak_discontinued_company_count_df1, x='CDPHId', y='Cleaned_CompanyName', \n",
    "                 log=True, orient = 'h')\n",
    "ax.set_title('Number of Products Discontinued by Company in July 2013', fontsize=20)\n",
    "ax.set_xlabel('Number of Products Reported (Log Scale)', fontsize=15)\n",
    "ax.set_ylabel('Company Name', fontsize=15)\n",
    "\n",
    "for datum, p in zip(peak_discontinued_company_count_df1['CDPHId'].sort_values(ascending=False), \n",
    "                    ax.patches):\n",
    "        x = p.get_x() + p.get_width() + 0.02\n",
    "        y = p.get_y() + p.get_height()/2\n",
    "        ax.annotate(datum, (x, y))\n",
    "\n",
    "fig.tight_layout()\n",
    "fig.savefig('images/num_products_discontinued_by_company_jul2013')"
   ]
  },
  {
   "cell_type": "code",
   "execution_count": 79,
   "metadata": {},
   "outputs": [
    {
     "data": {
      "text/plain": [
       "array(['the procter & gamble company', 'levlad llc',\n",
       "       'elizabeth arden inc', 'zo skin health inc', 'yves rocher inc',\n",
       "       'guerlain'], dtype=object)"
      ]
     },
     "execution_count": 79,
     "metadata": {},
     "output_type": "execute_result"
    }
   ],
   "source": [
    "# Count df of peak DiscontinuedDates - 2. 2016-10, 341 products\n",
    "peak_discontinued_df2 = clean_data_df[clean_data_df['DiscontinuedDate'].astype(str).str.contains('2016-10')]\n",
    "peak_discontinued_df2['Cleaned_CompanyName'].unique()"
   ]
  },
  {
   "cell_type": "code",
   "execution_count": 80,
   "metadata": {},
   "outputs": [],
   "source": [
    "# Count number of discontinued products at peak time by Company Name - 2. 2016-10, 341 products\n",
    "peak_discontinued_company_count_df2 = dce.get_count_by_df(peak_discontinued_df2, 'CDPHId', 'Cleaned_CompanyName')\n",
    "peak_discontinued_company_count_df2 = peak_discontinued_company_count_df2.reset_index().sort_values('CDPHId', ascending=False)"
   ]
  },
  {
   "cell_type": "code",
   "execution_count": 81,
   "metadata": {
    "scrolled": false
   },
   "outputs": [
    {
     "data": {
      "text/plain": [
       "Text(0.5, 1.0, 'Number of Products Discontinued by Company in Oct 2016')"
      ]
     },
     "execution_count": 81,
     "metadata": {},
     "output_type": "execute_result"
    },
    {
     "data": {
      "text/plain": [
       "Text(0.5, 0, 'Number of Products Reported (Log Scale)')"
      ]
     },
     "execution_count": 81,
     "metadata": {},
     "output_type": "execute_result"
    },
    {
     "data": {
      "text/plain": [
       "Text(0, 0.5, 'Company Name')"
      ]
     },
     "execution_count": 81,
     "metadata": {},
     "output_type": "execute_result"
    },
    {
     "data": {
      "text/plain": [
       "Text(300.02, 0.0, '300')"
      ]
     },
     "execution_count": 81,
     "metadata": {},
     "output_type": "execute_result"
    },
    {
     "data": {
      "text/plain": [
       "Text(14.02, 1.0, '14')"
      ]
     },
     "execution_count": 81,
     "metadata": {},
     "output_type": "execute_result"
    },
    {
     "data": {
      "text/plain": [
       "Text(13.02, 2.0, '13')"
      ]
     },
     "execution_count": 81,
     "metadata": {},
     "output_type": "execute_result"
    },
    {
     "data": {
      "text/plain": [
       "Text(10.02, 3.0, '10')"
      ]
     },
     "execution_count": 81,
     "metadata": {},
     "output_type": "execute_result"
    },
    {
     "data": {
      "text/plain": [
       "Text(2.02, 4.0, '2')"
      ]
     },
     "execution_count": 81,
     "metadata": {},
     "output_type": "execute_result"
    },
    {
     "data": {
      "text/plain": [
       "Text(2.02, 5.0, '2')"
      ]
     },
     "execution_count": 81,
     "metadata": {},
     "output_type": "execute_result"
    },
    {
     "data": {
      "image/png": "[encoded data removed]",
      "text/plain": [
       "<Figure size 864x504 with 1 Axes>"
      ]
     },
     "metadata": {
      "needs_background": "light"
     },
     "output_type": "display_data"
    }
   ],
   "source": [
    "# Plot number of products by Company Name\n",
    "fig, ax = plt.subplots(figsize=(12, 7))\n",
    "ax = sns.barplot(data=peak_discontinued_company_count_df2, x='CDPHId', y='Cleaned_CompanyName', \n",
    "                 log=True, orient = 'h')\n",
    "ax.set_title('Number of Products Discontinued by Company in Oct 2016', fontsize=20)\n",
    "ax.set_xlabel('Number of Products Reported (Log Scale)', fontsize=15)\n",
    "ax.set_ylabel('Company Name', fontsize=15)\n",
    "\n",
    "for datum, p in zip(peak_discontinued_company_count_df2['CDPHId'].sort_values(ascending=False), \n",
    "                    ax.patches):\n",
    "        x = p.get_x() + p.get_width() + 0.02\n",
    "        y = p.get_y() + p.get_height()/2\n",
    "        ax.annotate(datum, (x, y))\n",
    "\n",
    "fig.tight_layout()\n",
    "fig.savefig('images/num_products_discontinued_by_company_oct2016')"
   ]
  },
  {
   "cell_type": "markdown",
   "metadata": {},
   "source": [
    "## Analyzing by InitialDateReported"
   ]
  },
  {
   "cell_type": "code",
   "execution_count": 30,
   "metadata": {
    "scrolled": false
   },
   "outputs": [
    {
     "data": {
      "text/html": [
       "<div>\n",
       "<style scoped>\n",
       "    .dataframe tbody tr th:only-of-type {\n",
       "        vertical-align: middle;\n",
       "    }\n",
       "\n",
       "    .dataframe tbody tr th {\n",
       "        vertical-align: top;\n",
       "    }\n",
       "\n",
       "    .dataframe thead th {\n",
       "        text-align: right;\n",
       "    }\n",
       "</style>\n",
       "<table border=\"1\" class=\"dataframe\">\n",
       "  <thead>\n",
       "    <tr style=\"text-align: right;\">\n",
       "      <th></th>\n",
       "      <th>CDPHId</th>\n",
       "    </tr>\n",
       "  </thead>\n",
       "  <tbody>\n",
       "    <tr>\n",
       "      <td>2009-06</td>\n",
       "      <td>1</td>\n",
       "    </tr>\n",
       "    <tr>\n",
       "      <td>2009-07</td>\n",
       "      <td>16</td>\n",
       "    </tr>\n",
       "    <tr>\n",
       "      <td>2009-08</td>\n",
       "      <td>162</td>\n",
       "    </tr>\n",
       "    <tr>\n",
       "      <td>2009-09</td>\n",
       "      <td>1686</td>\n",
       "    </tr>\n",
       "    <tr>\n",
       "      <td>2009-10</td>\n",
       "      <td>4273</td>\n",
       "    </tr>\n",
       "    <tr>\n",
       "      <td>...</td>\n",
       "      <td>...</td>\n",
       "    </tr>\n",
       "    <tr>\n",
       "      <td>2019-12</td>\n",
       "      <td>207</td>\n",
       "    </tr>\n",
       "    <tr>\n",
       "      <td>2020-01</td>\n",
       "      <td>221</td>\n",
       "    </tr>\n",
       "    <tr>\n",
       "      <td>2020-02</td>\n",
       "      <td>197</td>\n",
       "    </tr>\n",
       "    <tr>\n",
       "      <td>2020-03</td>\n",
       "      <td>152</td>\n",
       "    </tr>\n",
       "    <tr>\n",
       "      <td>2020-04</td>\n",
       "      <td>1</td>\n",
       "    </tr>\n",
       "  </tbody>\n",
       "</table>\n",
       "<p>131 rows × 1 columns</p>\n",
       "</div>"
      ],
      "text/plain": [
       "         CDPHId\n",
       "2009-06       1\n",
       "2009-07      16\n",
       "2009-08     162\n",
       "2009-09    1686\n",
       "2009-10    4273\n",
       "...         ...\n",
       "2019-12     207\n",
       "2020-01     221\n",
       "2020-02     197\n",
       "2020-03     152\n",
       "2020-04       1\n",
       "\n",
       "[131 rows x 1 columns]"
      ]
     },
     "execution_count": 30,
     "metadata": {},
     "output_type": "execute_result"
    }
   ],
   "source": [
    "# Count number of products by InitialDateReported Month\n",
    "init_date_count_df = dce.get_count_by_df(clean_data_df, 'CDPHId', 'InitialDateReported')\n",
    "init_date_count_df = init_date_count_df.groupby(pd.Grouper(freq='M')).sum()\n",
    "init_date_count_df.index = init_date_count_df.index.map(lambda x: x.strftime('%Y-%m'))\n",
    "init_date_count_df"
   ]
  },
  {
   "cell_type": "code",
   "execution_count": 31,
   "metadata": {},
   "outputs": [
    {
     "data": {
      "text/plain": [
       "<matplotlib.axes._subplots.AxesSubplot at 0x1a1f16f150>"
      ]
     },
     "execution_count": 31,
     "metadata": {},
     "output_type": "execute_result"
    },
    {
     "data": {
      "text/plain": [
       "Text(0.5, 1.0, 'Number of Products Reported Over Time')"
      ]
     },
     "execution_count": 31,
     "metadata": {},
     "output_type": "execute_result"
    },
    {
     "data": {
      "text/plain": [
       "Text(0.5, 0, 'Time by Month')"
      ]
     },
     "execution_count": 31,
     "metadata": {},
     "output_type": "execute_result"
    },
    {
     "data": {
      "text/plain": [
       "Text(0, 0.5, 'Number of Products Reported')"
      ]
     },
     "execution_count": 31,
     "metadata": {},
     "output_type": "execute_result"
    },
    {
     "data": {
      "image/png": "[encoded data removed]",
      "text/plain": [
       "<Figure size 792x288 with 1 Axes>"
      ]
     },
     "metadata": {
      "needs_background": "light"
     },
     "output_type": "display_data"
    }
   ],
   "source": [
    "fig, ax = plt.subplots(figsize=(11, 4))\n",
    "init_date_count_df['CDPHId'].plot(ax=ax, linewidth=1);\n",
    "ax.set_title('Number of Products Reported Over Time', fontsize=20)\n",
    "ax.set_xlabel('Time by Month', fontsize=15)\n",
    "ax.set_ylabel('Number of Products Reported', fontsize=15)\n",
    "fig.tight_layout()\n",
    "fig.savefig('images/num_products_reported_over_time_monthly')"
   ]
  },
  {
   "cell_type": "code",
   "execution_count": 32,
   "metadata": {},
   "outputs": [
    {
     "name": "stdout",
     "output_type": "stream",
     "text": [
      "Number of products with multiple InitialDateReported: 13\n"
     ]
    },
    {
     "data": {
      "text/plain": [
       "40190    5\n",
       "36365    2\n",
       "36362    2\n",
       "37227    2\n",
       "38726    2\n",
       "36923    2\n",
       "36902    2\n",
       "38786    2\n",
       "36357    2\n",
       "36927    2\n",
       "36367    2\n",
       "36904    2\n",
       "36364    2\n",
       "Name: CDPHId, dtype: int64"
      ]
     },
     "execution_count": 32,
     "metadata": {},
     "output_type": "execute_result"
    }
   ],
   "source": [
    "# Check for products with multiple InitialDateReported values\n",
    "count_dupe_CDPHId = clean_data_df.drop_duplicates(['CDPHId','InitialDateReported'])\n",
    "count_dupe_CDPHId = count_dupe_CDPHId['CDPHId'].value_counts()\n",
    "mult_reported = count_dupe_CDPHId[count_dupe_CDPHId > 1]\n",
    "print('Number of products with multiple InitialDateReported:', len(mult_reported))\n",
    "mult_reported"
   ]
  },
  {
   "cell_type": "code",
   "execution_count": 33,
   "metadata": {},
   "outputs": [
    {
     "data": {
      "text/html": [
       "<div>\n",
       "<style scoped>\n",
       "    .dataframe tbody tr th:only-of-type {\n",
       "        vertical-align: middle;\n",
       "    }\n",
       "\n",
       "    .dataframe tbody tr th {\n",
       "        vertical-align: top;\n",
       "    }\n",
       "\n",
       "    .dataframe thead th {\n",
       "        text-align: right;\n",
       "    }\n",
       "</style>\n",
       "<table border=\"1\" class=\"dataframe\">\n",
       "  <thead>\n",
       "    <tr style=\"text-align: right;\">\n",
       "      <th></th>\n",
       "      <th>CDPHId</th>\n",
       "      <th>CompanyId</th>\n",
       "      <th>PrimaryCategoryId</th>\n",
       "      <th>PrimaryCategory</th>\n",
       "      <th>SubCategoryId</th>\n",
       "      <th>CasId</th>\n",
       "      <th>ChemicalName</th>\n",
       "      <th>InitialDateReported</th>\n",
       "      <th>MostRecentDateReported</th>\n",
       "      <th>DiscontinuedDate</th>\n",
       "      <th>ChemicalCreatedAt</th>\n",
       "      <th>ChemicalUpdatedAt</th>\n",
       "      <th>ChemicalDateRemoved</th>\n",
       "      <th>ChemicalCount</th>\n",
       "      <th>Cleaned_CompanyName</th>\n",
       "      <th>Cleaned_ProductName</th>\n",
       "      <th>Cleaned_SubCategory</th>\n",
       "      <th>Cleaned_BrandName</th>\n",
       "    </tr>\n",
       "  </thead>\n",
       "  <tbody>\n",
       "    <tr>\n",
       "      <td>110296</td>\n",
       "      <td>40190</td>\n",
       "      <td>1154</td>\n",
       "      <td>44</td>\n",
       "      <td>Makeup Products (non-permanent)</td>\n",
       "      <td>53</td>\n",
       "      <td>776</td>\n",
       "      <td>Silica, crystalline (airborne particles of res...</td>\n",
       "      <td>2017-03-21</td>\n",
       "      <td>2019-10-23</td>\n",
       "      <td>NaT</td>\n",
       "      <td>2017-03-21</td>\n",
       "      <td>2019-10-23</td>\n",
       "      <td>NaT</td>\n",
       "      <td>4</td>\n",
       "      <td>charlotte tilbury beauty ltd</td>\n",
       "      <td>matte revolution</td>\n",
       "      <td>lip color - lipsticks liners and pencils</td>\n",
       "      <td>charlotte tilbury</td>\n",
       "    </tr>\n",
       "    <tr>\n",
       "      <td>110297</td>\n",
       "      <td>40190</td>\n",
       "      <td>1154</td>\n",
       "      <td>44</td>\n",
       "      <td>Makeup Products (non-permanent)</td>\n",
       "      <td>53</td>\n",
       "      <td>656</td>\n",
       "      <td>Titanium dioxide</td>\n",
       "      <td>2017-03-21</td>\n",
       "      <td>2019-10-23</td>\n",
       "      <td>NaT</td>\n",
       "      <td>2017-03-21</td>\n",
       "      <td>2019-10-23</td>\n",
       "      <td>NaT</td>\n",
       "      <td>4</td>\n",
       "      <td>charlotte tilbury beauty ltd</td>\n",
       "      <td>matte revolution</td>\n",
       "      <td>lip color - lipsticks liners and pencils</td>\n",
       "      <td>charlotte tilbury</td>\n",
       "    </tr>\n",
       "    <tr>\n",
       "      <td>110298</td>\n",
       "      <td>40190</td>\n",
       "      <td>1154</td>\n",
       "      <td>44</td>\n",
       "      <td>Makeup Products (non-permanent)</td>\n",
       "      <td>53</td>\n",
       "      <td>776</td>\n",
       "      <td>Silica, crystalline (airborne particles of res...</td>\n",
       "      <td>2017-03-21</td>\n",
       "      <td>2019-10-23</td>\n",
       "      <td>NaT</td>\n",
       "      <td>2019-10-23</td>\n",
       "      <td>2019-10-23</td>\n",
       "      <td>NaT</td>\n",
       "      <td>4</td>\n",
       "      <td>charlotte tilbury beauty ltd</td>\n",
       "      <td>matte revolution</td>\n",
       "      <td>lip color - lipsticks liners and pencils</td>\n",
       "      <td>charlotte tilbury</td>\n",
       "    </tr>\n",
       "    <tr>\n",
       "      <td>110299</td>\n",
       "      <td>40190</td>\n",
       "      <td>1154</td>\n",
       "      <td>44</td>\n",
       "      <td>Makeup Products (non-permanent)</td>\n",
       "      <td>53</td>\n",
       "      <td>656</td>\n",
       "      <td>Titanium dioxide</td>\n",
       "      <td>2017-03-21</td>\n",
       "      <td>2019-10-23</td>\n",
       "      <td>NaT</td>\n",
       "      <td>2019-10-23</td>\n",
       "      <td>2019-10-23</td>\n",
       "      <td>NaT</td>\n",
       "      <td>4</td>\n",
       "      <td>charlotte tilbury beauty ltd</td>\n",
       "      <td>matte revolution</td>\n",
       "      <td>lip color - lipsticks liners and pencils</td>\n",
       "      <td>charlotte tilbury</td>\n",
       "    </tr>\n",
       "    <tr>\n",
       "      <td>110315</td>\n",
       "      <td>40190</td>\n",
       "      <td>1154</td>\n",
       "      <td>44</td>\n",
       "      <td>Makeup Products (non-permanent)</td>\n",
       "      <td>53</td>\n",
       "      <td>776</td>\n",
       "      <td>Silica, crystalline (airborne particles of res...</td>\n",
       "      <td>2017-03-21</td>\n",
       "      <td>2019-10-23</td>\n",
       "      <td>NaT</td>\n",
       "      <td>2017-03-21</td>\n",
       "      <td>2019-10-17</td>\n",
       "      <td>NaT</td>\n",
       "      <td>4</td>\n",
       "      <td>charlotte tilbury beauty ltd</td>\n",
       "      <td>matte revolution</td>\n",
       "      <td>lip color - lipsticks liners and pencils</td>\n",
       "      <td>charlotte tilbury</td>\n",
       "    </tr>\n",
       "  </tbody>\n",
       "</table>\n",
       "</div>"
      ],
      "text/plain": [
       "        CDPHId  CompanyId  PrimaryCategoryId                  PrimaryCategory  \\\n",
       "110296   40190       1154                 44  Makeup Products (non-permanent)   \n",
       "110297   40190       1154                 44  Makeup Products (non-permanent)   \n",
       "110298   40190       1154                 44  Makeup Products (non-permanent)   \n",
       "110299   40190       1154                 44  Makeup Products (non-permanent)   \n",
       "110315   40190       1154                 44  Makeup Products (non-permanent)   \n",
       "\n",
       "        SubCategoryId  CasId  \\\n",
       "110296             53    776   \n",
       "110297             53    656   \n",
       "110298             53    776   \n",
       "110299             53    656   \n",
       "110315             53    776   \n",
       "\n",
       "                                             ChemicalName InitialDateReported  \\\n",
       "110296  Silica, crystalline (airborne particles of res...          2017-03-21   \n",
       "110297                                   Titanium dioxide          2017-03-21   \n",
       "110298  Silica, crystalline (airborne particles of res...          2017-03-21   \n",
       "110299                                   Titanium dioxide          2017-03-21   \n",
       "110315  Silica, crystalline (airborne particles of res...          2017-03-21   \n",
       "\n",
       "       MostRecentDateReported DiscontinuedDate ChemicalCreatedAt  \\\n",
       "110296             2019-10-23              NaT        2017-03-21   \n",
       "110297             2019-10-23              NaT        2017-03-21   \n",
       "110298             2019-10-23              NaT        2019-10-23   \n",
       "110299             2019-10-23              NaT        2019-10-23   \n",
       "110315             2019-10-23              NaT        2017-03-21   \n",
       "\n",
       "       ChemicalUpdatedAt ChemicalDateRemoved  ChemicalCount  \\\n",
       "110296        2019-10-23                 NaT              4   \n",
       "110297        2019-10-23                 NaT              4   \n",
       "110298        2019-10-23                 NaT              4   \n",
       "110299        2019-10-23                 NaT              4   \n",
       "110315        2019-10-17                 NaT              4   \n",
       "\n",
       "                 Cleaned_CompanyName Cleaned_ProductName  \\\n",
       "110296  charlotte tilbury beauty ltd    matte revolution   \n",
       "110297  charlotte tilbury beauty ltd    matte revolution   \n",
       "110298  charlotte tilbury beauty ltd    matte revolution   \n",
       "110299  charlotte tilbury beauty ltd    matte revolution   \n",
       "110315  charlotte tilbury beauty ltd    matte revolution   \n",
       "\n",
       "                             Cleaned_SubCategory  Cleaned_BrandName  \n",
       "110296  lip color - lipsticks liners and pencils  charlotte tilbury  \n",
       "110297  lip color - lipsticks liners and pencils  charlotte tilbury  \n",
       "110298  lip color - lipsticks liners and pencils  charlotte tilbury  \n",
       "110299  lip color - lipsticks liners and pencils  charlotte tilbury  \n",
       "110315  lip color - lipsticks liners and pencils  charlotte tilbury  "
      ]
     },
     "execution_count": 33,
     "metadata": {},
     "output_type": "execute_result"
    }
   ],
   "source": [
    "# Example of products with multiple InitialDateReported values\n",
    "clean_data_df[clean_data_df['CDPHId']==40190].sort_values('InitialDateReported').head()"
   ]
  },
  {
   "cell_type": "code",
   "execution_count": 34,
   "metadata": {},
   "outputs": [
    {
     "data": {
      "text/html": [
       "<div>\n",
       "<style scoped>\n",
       "    .dataframe tbody tr th:only-of-type {\n",
       "        vertical-align: middle;\n",
       "    }\n",
       "\n",
       "    .dataframe tbody tr th {\n",
       "        vertical-align: top;\n",
       "    }\n",
       "\n",
       "    .dataframe thead th {\n",
       "        text-align: right;\n",
       "    }\n",
       "</style>\n",
       "<table border=\"1\" class=\"dataframe\">\n",
       "  <thead>\n",
       "    <tr style=\"text-align: right;\">\n",
       "      <th></th>\n",
       "      <th>CDPHId</th>\n",
       "      <th>CompanyId</th>\n",
       "      <th>PrimaryCategoryId</th>\n",
       "      <th>PrimaryCategory</th>\n",
       "      <th>SubCategoryId</th>\n",
       "      <th>CasId</th>\n",
       "      <th>ChemicalName</th>\n",
       "      <th>InitialDateReported</th>\n",
       "      <th>MostRecentDateReported</th>\n",
       "      <th>DiscontinuedDate</th>\n",
       "      <th>ChemicalCreatedAt</th>\n",
       "      <th>ChemicalUpdatedAt</th>\n",
       "      <th>ChemicalDateRemoved</th>\n",
       "      <th>ChemicalCount</th>\n",
       "      <th>Cleaned_CompanyName</th>\n",
       "      <th>Cleaned_ProductName</th>\n",
       "      <th>Cleaned_SubCategory</th>\n",
       "      <th>Cleaned_BrandName</th>\n",
       "    </tr>\n",
       "  </thead>\n",
       "  <tbody>\n",
       "    <tr>\n",
       "      <td>110385</td>\n",
       "      <td>40190</td>\n",
       "      <td>1154</td>\n",
       "      <td>44</td>\n",
       "      <td>Makeup Products (non-permanent)</td>\n",
       "      <td>53</td>\n",
       "      <td>656</td>\n",
       "      <td>Titanium dioxide</td>\n",
       "      <td>2019-10-17</td>\n",
       "      <td>2019-10-23</td>\n",
       "      <td>NaT</td>\n",
       "      <td>2019-10-17</td>\n",
       "      <td>2019-10-17</td>\n",
       "      <td>NaT</td>\n",
       "      <td>4</td>\n",
       "      <td>charlotte tilbury beauty ltd</td>\n",
       "      <td>matte revolution</td>\n",
       "      <td>lip color - lipsticks liners and pencils</td>\n",
       "      <td>charlotte tilbury</td>\n",
       "    </tr>\n",
       "    <tr>\n",
       "      <td>110386</td>\n",
       "      <td>40190</td>\n",
       "      <td>1154</td>\n",
       "      <td>44</td>\n",
       "      <td>Makeup Products (non-permanent)</td>\n",
       "      <td>53</td>\n",
       "      <td>776</td>\n",
       "      <td>Silica, crystalline (airborne particles of res...</td>\n",
       "      <td>2019-10-17</td>\n",
       "      <td>2019-10-23</td>\n",
       "      <td>NaT</td>\n",
       "      <td>2019-10-17</td>\n",
       "      <td>2019-10-17</td>\n",
       "      <td>NaT</td>\n",
       "      <td>4</td>\n",
       "      <td>charlotte tilbury beauty ltd</td>\n",
       "      <td>matte revolution</td>\n",
       "      <td>lip color - lipsticks liners and pencils</td>\n",
       "      <td>charlotte tilbury</td>\n",
       "    </tr>\n",
       "    <tr>\n",
       "      <td>110388</td>\n",
       "      <td>40190</td>\n",
       "      <td>1154</td>\n",
       "      <td>44</td>\n",
       "      <td>Makeup Products (non-permanent)</td>\n",
       "      <td>53</td>\n",
       "      <td>656</td>\n",
       "      <td>Titanium dioxide</td>\n",
       "      <td>2019-10-17</td>\n",
       "      <td>2019-10-23</td>\n",
       "      <td>NaT</td>\n",
       "      <td>2019-10-23</td>\n",
       "      <td>2019-10-23</td>\n",
       "      <td>NaT</td>\n",
       "      <td>4</td>\n",
       "      <td>charlotte tilbury beauty ltd</td>\n",
       "      <td>matte revolution</td>\n",
       "      <td>lip color - lipsticks liners and pencils</td>\n",
       "      <td>charlotte tilbury</td>\n",
       "    </tr>\n",
       "    <tr>\n",
       "      <td>110301</td>\n",
       "      <td>40190</td>\n",
       "      <td>1154</td>\n",
       "      <td>44</td>\n",
       "      <td>Makeup Products (non-permanent)</td>\n",
       "      <td>53</td>\n",
       "      <td>656</td>\n",
       "      <td>Titanium dioxide</td>\n",
       "      <td>2019-10-23</td>\n",
       "      <td>2019-10-23</td>\n",
       "      <td>NaT</td>\n",
       "      <td>2019-10-23</td>\n",
       "      <td>2019-10-23</td>\n",
       "      <td>NaT</td>\n",
       "      <td>2</td>\n",
       "      <td>charlotte tilbury beauty ltd</td>\n",
       "      <td>matte revolution</td>\n",
       "      <td>lip color - lipsticks liners and pencils</td>\n",
       "      <td>charlotte tilbury</td>\n",
       "    </tr>\n",
       "    <tr>\n",
       "      <td>110300</td>\n",
       "      <td>40190</td>\n",
       "      <td>1154</td>\n",
       "      <td>44</td>\n",
       "      <td>Makeup Products (non-permanent)</td>\n",
       "      <td>53</td>\n",
       "      <td>776</td>\n",
       "      <td>Silica, crystalline (airborne particles of res...</td>\n",
       "      <td>2019-10-23</td>\n",
       "      <td>2019-10-23</td>\n",
       "      <td>NaT</td>\n",
       "      <td>2019-10-23</td>\n",
       "      <td>2019-10-23</td>\n",
       "      <td>NaT</td>\n",
       "      <td>2</td>\n",
       "      <td>charlotte tilbury beauty ltd</td>\n",
       "      <td>matte revolution</td>\n",
       "      <td>lip color - lipsticks liners and pencils</td>\n",
       "      <td>charlotte tilbury</td>\n",
       "    </tr>\n",
       "  </tbody>\n",
       "</table>\n",
       "</div>"
      ],
      "text/plain": [
       "        CDPHId  CompanyId  PrimaryCategoryId                  PrimaryCategory  \\\n",
       "110385   40190       1154                 44  Makeup Products (non-permanent)   \n",
       "110386   40190       1154                 44  Makeup Products (non-permanent)   \n",
       "110388   40190       1154                 44  Makeup Products (non-permanent)   \n",
       "110301   40190       1154                 44  Makeup Products (non-permanent)   \n",
       "110300   40190       1154                 44  Makeup Products (non-permanent)   \n",
       "\n",
       "        SubCategoryId  CasId  \\\n",
       "110385             53    656   \n",
       "110386             53    776   \n",
       "110388             53    656   \n",
       "110301             53    656   \n",
       "110300             53    776   \n",
       "\n",
       "                                             ChemicalName InitialDateReported  \\\n",
       "110385                                   Titanium dioxide          2019-10-17   \n",
       "110386  Silica, crystalline (airborne particles of res...          2019-10-17   \n",
       "110388                                   Titanium dioxide          2019-10-17   \n",
       "110301                                   Titanium dioxide          2019-10-23   \n",
       "110300  Silica, crystalline (airborne particles of res...          2019-10-23   \n",
       "\n",
       "       MostRecentDateReported DiscontinuedDate ChemicalCreatedAt  \\\n",
       "110385             2019-10-23              NaT        2019-10-17   \n",
       "110386             2019-10-23              NaT        2019-10-17   \n",
       "110388             2019-10-23              NaT        2019-10-23   \n",
       "110301             2019-10-23              NaT        2019-10-23   \n",
       "110300             2019-10-23              NaT        2019-10-23   \n",
       "\n",
       "       ChemicalUpdatedAt ChemicalDateRemoved  ChemicalCount  \\\n",
       "110385        2019-10-17                 NaT              4   \n",
       "110386        2019-10-17                 NaT              4   \n",
       "110388        2019-10-23                 NaT              4   \n",
       "110301        2019-10-23                 NaT              2   \n",
       "110300        2019-10-23                 NaT              2   \n",
       "\n",
       "                 Cleaned_CompanyName Cleaned_ProductName  \\\n",
       "110385  charlotte tilbury beauty ltd    matte revolution   \n",
       "110386  charlotte tilbury beauty ltd    matte revolution   \n",
       "110388  charlotte tilbury beauty ltd    matte revolution   \n",
       "110301  charlotte tilbury beauty ltd    matte revolution   \n",
       "110300  charlotte tilbury beauty ltd    matte revolution   \n",
       "\n",
       "                             Cleaned_SubCategory  Cleaned_BrandName  \n",
       "110385  lip color - lipsticks liners and pencils  charlotte tilbury  \n",
       "110386  lip color - lipsticks liners and pencils  charlotte tilbury  \n",
       "110388  lip color - lipsticks liners and pencils  charlotte tilbury  \n",
       "110301  lip color - lipsticks liners and pencils  charlotte tilbury  \n",
       "110300  lip color - lipsticks liners and pencils  charlotte tilbury  "
      ]
     },
     "execution_count": 34,
     "metadata": {},
     "output_type": "execute_result"
    }
   ],
   "source": [
    "clean_data_df[clean_data_df['CDPHId']==40190].sort_values('InitialDateReported').tail()"
   ]
  },
  {
   "cell_type": "markdown",
   "metadata": {},
   "source": [
    "## Plot Product Counts by All Dates"
   ]
  },
  {
   "cell_type": "code",
   "execution_count": 83,
   "metadata": {},
   "outputs": [
    {
     "name": "stdout",
     "output_type": "stream",
     "text": [
      "<class 'pandas.core.frame.DataFrame'>\n",
      "Int64Index: 46927 entries, 0 to 113779\n",
      "Data columns (total 18 columns):\n",
      "CDPHId                    46927 non-null int64\n",
      "CompanyId                 46927 non-null int64\n",
      "PrimaryCategoryId         46927 non-null int64\n",
      "PrimaryCategory           46927 non-null object\n",
      "SubCategoryId             46927 non-null int64\n",
      "CasId                     46927 non-null int64\n",
      "ChemicalName              46927 non-null object\n",
      "InitialDateReported       46927 non-null datetime64[ns]\n",
      "MostRecentDateReported    46927 non-null datetime64[ns]\n",
      "DiscontinuedDate          6047 non-null datetime64[ns]\n",
      "ChemicalCreatedAt         46927 non-null datetime64[ns]\n",
      "ChemicalUpdatedAt         46927 non-null datetime64[ns]\n",
      "ChemicalDateRemoved       1619 non-null datetime64[ns]\n",
      "ChemicalCount             46927 non-null int64\n",
      "Cleaned_CompanyName       46927 non-null object\n",
      "Cleaned_ProductName       46927 non-null object\n",
      "Cleaned_SubCategory       46927 non-null object\n",
      "Cleaned_BrandName         46927 non-null object\n",
      "dtypes: datetime64[ns](6), int64(6), object(6)\n",
      "memory usage: 6.8+ MB\n"
     ]
    }
   ],
   "source": [
    "clean_data_df.info()"
   ]
  },
  {
   "cell_type": "code",
   "execution_count": 86,
   "metadata": {},
   "outputs": [
    {
     "data": {
      "text/html": [
       "<div>\n",
       "<style scoped>\n",
       "    .dataframe tbody tr th:only-of-type {\n",
       "        vertical-align: middle;\n",
       "    }\n",
       "\n",
       "    .dataframe tbody tr th {\n",
       "        vertical-align: top;\n",
       "    }\n",
       "\n",
       "    .dataframe thead th {\n",
       "        text-align: right;\n",
       "    }\n",
       "</style>\n",
       "<table border=\"1\" class=\"dataframe\">\n",
       "  <thead>\n",
       "    <tr style=\"text-align: right;\">\n",
       "      <th></th>\n",
       "      <th>CDPHId</th>\n",
       "      <th>InitialDateReported</th>\n",
       "      <th>DiscontinuedDate</th>\n",
       "      <th>ChemicalDateRemoved</th>\n",
       "    </tr>\n",
       "  </thead>\n",
       "  <tbody>\n",
       "    <tr>\n",
       "      <td>0</td>\n",
       "      <td>2</td>\n",
       "      <td>2009-06-17</td>\n",
       "      <td>2011-02-01</td>\n",
       "      <td>NaT</td>\n",
       "    </tr>\n",
       "    <tr>\n",
       "      <td>1</td>\n",
       "      <td>3</td>\n",
       "      <td>2009-07-01</td>\n",
       "      <td>NaT</td>\n",
       "      <td>NaT</td>\n",
       "    </tr>\n",
       "    <tr>\n",
       "      <td>3</td>\n",
       "      <td>4</td>\n",
       "      <td>2009-07-09</td>\n",
       "      <td>NaT</td>\n",
       "      <td>NaT</td>\n",
       "    </tr>\n",
       "    <tr>\n",
       "      <td>4</td>\n",
       "      <td>5</td>\n",
       "      <td>2009-07-09</td>\n",
       "      <td>2011-02-01</td>\n",
       "      <td>NaT</td>\n",
       "    </tr>\n",
       "    <tr>\n",
       "      <td>5</td>\n",
       "      <td>6</td>\n",
       "      <td>2009-07-09</td>\n",
       "      <td>2010-11-01</td>\n",
       "      <td>NaT</td>\n",
       "    </tr>\n",
       "  </tbody>\n",
       "</table>\n",
       "</div>"
      ],
      "text/plain": [
       "   CDPHId InitialDateReported DiscontinuedDate ChemicalDateRemoved\n",
       "0       2          2009-06-17       2011-02-01                 NaT\n",
       "1       3          2009-07-01              NaT                 NaT\n",
       "3       4          2009-07-09              NaT                 NaT\n",
       "4       5          2009-07-09       2011-02-01                 NaT\n",
       "5       6          2009-07-09       2010-11-01                 NaT"
      ]
     },
     "execution_count": 86,
     "metadata": {},
     "output_type": "execute_result"
    }
   ],
   "source": [
    "products_dates_df = clean_data_df[['CDPHId', 'InitialDateReported', 'DiscontinuedDate', 'ChemicalDateRemoved']].drop_duplicates()\n",
    "products_dates_df.head()"
   ]
  },
  {
   "cell_type": "markdown",
   "metadata": {},
   "source": [
    "## Analyzing Chemical Counts"
   ]
  },
  {
   "cell_type": "code",
   "execution_count": 35,
   "metadata": {
    "scrolled": true
   },
   "outputs": [
    {
     "data": {
      "text/html": [
       "<div>\n",
       "<style scoped>\n",
       "    .dataframe tbody tr th:only-of-type {\n",
       "        vertical-align: middle;\n",
       "    }\n",
       "\n",
       "    .dataframe tbody tr th {\n",
       "        vertical-align: top;\n",
       "    }\n",
       "\n",
       "    .dataframe thead th {\n",
       "        text-align: right;\n",
       "    }\n",
       "</style>\n",
       "<table border=\"1\" class=\"dataframe\">\n",
       "  <thead>\n",
       "    <tr style=\"text-align: right;\">\n",
       "      <th></th>\n",
       "      <th>ChemicalCount</th>\n",
       "      <th>CDPHId</th>\n",
       "    </tr>\n",
       "  </thead>\n",
       "  <tbody>\n",
       "    <tr>\n",
       "      <td>1</td>\n",
       "      <td>1</td>\n",
       "      <td>32321</td>\n",
       "    </tr>\n",
       "    <tr>\n",
       "      <td>2</td>\n",
       "      <td>2</td>\n",
       "      <td>3684</td>\n",
       "    </tr>\n",
       "    <tr>\n",
       "      <td>0</td>\n",
       "      <td>0</td>\n",
       "      <td>598</td>\n",
       "    </tr>\n",
       "    <tr>\n",
       "      <td>3</td>\n",
       "      <td>3</td>\n",
       "      <td>350</td>\n",
       "    </tr>\n",
       "    <tr>\n",
       "      <td>4</td>\n",
       "      <td>4</td>\n",
       "      <td>85</td>\n",
       "    </tr>\n",
       "    <tr>\n",
       "      <td>5</td>\n",
       "      <td>5</td>\n",
       "      <td>10</td>\n",
       "    </tr>\n",
       "    <tr>\n",
       "      <td>7</td>\n",
       "      <td>7</td>\n",
       "      <td>4</td>\n",
       "    </tr>\n",
       "    <tr>\n",
       "      <td>8</td>\n",
       "      <td>8</td>\n",
       "      <td>4</td>\n",
       "    </tr>\n",
       "    <tr>\n",
       "      <td>6</td>\n",
       "      <td>6</td>\n",
       "      <td>2</td>\n",
       "    </tr>\n",
       "    <tr>\n",
       "      <td>9</td>\n",
       "      <td>9</td>\n",
       "      <td>1</td>\n",
       "    </tr>\n",
       "  </tbody>\n",
       "</table>\n",
       "</div>"
      ],
      "text/plain": [
       "   ChemicalCount  CDPHId\n",
       "1              1   32321\n",
       "2              2    3684\n",
       "0              0     598\n",
       "3              3     350\n",
       "4              4      85\n",
       "5              5      10\n",
       "7              7       4\n",
       "8              8       4\n",
       "6              6       2\n",
       "9              9       1"
      ]
     },
     "execution_count": 35,
     "metadata": {},
     "output_type": "execute_result"
    }
   ],
   "source": [
    "# Count number of products by ChemicalCount\n",
    "chemical_count_df = dce.get_count_by_df(clean_data_df, 'CDPHId', 'ChemicalCount')\n",
    "chemical_count_df = chemical_count_df.reset_index().sort_values('CDPHId', ascending=False)\n",
    "chemical_count_df"
   ]
  },
  {
   "cell_type": "code",
   "execution_count": 36,
   "metadata": {
    "scrolled": false
   },
   "outputs": [
    {
     "data": {
      "text/plain": [
       "Text(0.5, 1.0, 'Number of Products Per Chemical Count')"
      ]
     },
     "execution_count": 36,
     "metadata": {},
     "output_type": "execute_result"
    },
    {
     "data": {
      "text/plain": [
       "Text(0.5, 0, 'Chemical Count')"
      ]
     },
     "execution_count": 36,
     "metadata": {},
     "output_type": "execute_result"
    },
    {
     "data": {
      "text/plain": [
       "Text(0, 0.5, 'Number of Products (Log Scale)')"
      ]
     },
     "execution_count": 36,
     "metadata": {},
     "output_type": "execute_result"
    },
    {
     "data": {
      "text/plain": [
       "Text(0, 4, '32321')"
      ]
     },
     "execution_count": 36,
     "metadata": {},
     "output_type": "execute_result"
    },
    {
     "data": {
      "text/plain": [
       "Text(0, 4, '3684')"
      ]
     },
     "execution_count": 36,
     "metadata": {},
     "output_type": "execute_result"
    },
    {
     "data": {
      "text/plain": [
       "Text(0, 4, '598')"
      ]
     },
     "execution_count": 36,
     "metadata": {},
     "output_type": "execute_result"
    },
    {
     "data": {
      "text/plain": [
       "Text(0, 4, '350')"
      ]
     },
     "execution_count": 36,
     "metadata": {},
     "output_type": "execute_result"
    },
    {
     "data": {
      "text/plain": [
       "Text(0, 4, '85')"
      ]
     },
     "execution_count": 36,
     "metadata": {},
     "output_type": "execute_result"
    },
    {
     "data": {
      "text/plain": [
       "Text(0, 4, '10')"
      ]
     },
     "execution_count": 36,
     "metadata": {},
     "output_type": "execute_result"
    },
    {
     "data": {
      "text/plain": [
       "Text(0, 4, '4')"
      ]
     },
     "execution_count": 36,
     "metadata": {},
     "output_type": "execute_result"
    },
    {
     "data": {
      "text/plain": [
       "Text(0, 4, '4')"
      ]
     },
     "execution_count": 36,
     "metadata": {},
     "output_type": "execute_result"
    },
    {
     "data": {
      "text/plain": [
       "Text(0, 4, '2')"
      ]
     },
     "execution_count": 36,
     "metadata": {},
     "output_type": "execute_result"
    },
    {
     "data": {
      "text/plain": [
       "Text(0, 4, '1')"
      ]
     },
     "execution_count": 36,
     "metadata": {},
     "output_type": "execute_result"
    },
    {
     "data": {
      "image/png": "[encoded data removed]",
      "text/plain": [
       "<Figure size 864x576 with 1 Axes>"
      ]
     },
     "metadata": {
      "needs_background": "light"
     },
     "output_type": "display_data"
    }
   ],
   "source": [
    "x = chemical_count_df['ChemicalCount']\n",
    "y = chemical_count_df['CDPHId']\n",
    "\n",
    "fig, ax = plt.subplots(figsize=(12, 8))\n",
    "ax = sns.barplot(x, y, log=True)\n",
    "ax.set_title('Number of Products Per Chemical Count', fontsize=20)\n",
    "ax.set_xlabel('Chemical Count', fontsize=15)\n",
    "ax.set_ylabel('Number of Products (Log Scale)', fontsize=15)\n",
    "\n",
    "for x_i, y_i in zip(x, y):\n",
    "    ax.annotate(y_i, (x_i, y_i), textcoords=\"offset points\", xytext=(0,4), ha='center')\n",
    "    \n",
    "fig.savefig('images/num_products_per_chemical_count_barchart')"
   ]
  },
  {
   "cell_type": "markdown",
   "metadata": {},
   "source": [
    "### Investigate Product with 9 Chemicals"
   ]
  },
  {
   "cell_type": "code",
   "execution_count": 37,
   "metadata": {
    "scrolled": true
   },
   "outputs": [
    {
     "data": {
      "text/html": [
       "<div>\n",
       "<style scoped>\n",
       "    .dataframe tbody tr th:only-of-type {\n",
       "        vertical-align: middle;\n",
       "    }\n",
       "\n",
       "    .dataframe tbody tr th {\n",
       "        vertical-align: top;\n",
       "    }\n",
       "\n",
       "    .dataframe thead th {\n",
       "        text-align: right;\n",
       "    }\n",
       "</style>\n",
       "<table border=\"1\" class=\"dataframe\">\n",
       "  <thead>\n",
       "    <tr style=\"text-align: right;\">\n",
       "      <th></th>\n",
       "      <th>CDPHId</th>\n",
       "      <th>CompanyId</th>\n",
       "      <th>PrimaryCategoryId</th>\n",
       "      <th>PrimaryCategory</th>\n",
       "      <th>SubCategoryId</th>\n",
       "      <th>CasId</th>\n",
       "      <th>ChemicalName</th>\n",
       "      <th>InitialDateReported</th>\n",
       "      <th>MostRecentDateReported</th>\n",
       "      <th>DiscontinuedDate</th>\n",
       "      <th>ChemicalCreatedAt</th>\n",
       "      <th>ChemicalUpdatedAt</th>\n",
       "      <th>ChemicalDateRemoved</th>\n",
       "      <th>ChemicalCount</th>\n",
       "      <th>Cleaned_CompanyName</th>\n",
       "      <th>Cleaned_ProductName</th>\n",
       "      <th>Cleaned_SubCategory</th>\n",
       "      <th>Cleaned_BrandName</th>\n",
       "    </tr>\n",
       "  </thead>\n",
       "  <tbody>\n",
       "    <tr>\n",
       "      <td>60819</td>\n",
       "      <td>22212</td>\n",
       "      <td>165</td>\n",
       "      <td>18</td>\n",
       "      <td>Hair Care Products (non-coloring)</td>\n",
       "      <td>25</td>\n",
       "      <td>270</td>\n",
       "      <td>1,4-Dioxane</td>\n",
       "      <td>2014-02-04</td>\n",
       "      <td>2014-02-04</td>\n",
       "      <td>NaT</td>\n",
       "      <td>2014-02-04</td>\n",
       "      <td>2014-02-04</td>\n",
       "      <td>NaT</td>\n",
       "      <td>9</td>\n",
       "      <td>regis corporation</td>\n",
       "      <td>moisturizing shampoo</td>\n",
       "      <td>hair shampoos (making a cosmetic claim)</td>\n",
       "      <td>regis design line</td>\n",
       "    </tr>\n",
       "    <tr>\n",
       "      <td>60820</td>\n",
       "      <td>22212</td>\n",
       "      <td>165</td>\n",
       "      <td>18</td>\n",
       "      <td>Hair Care Products (non-coloring)</td>\n",
       "      <td>25</td>\n",
       "      <td>9</td>\n",
       "      <td>Acrylamide</td>\n",
       "      <td>2014-02-04</td>\n",
       "      <td>2014-02-04</td>\n",
       "      <td>NaT</td>\n",
       "      <td>2014-02-04</td>\n",
       "      <td>2014-02-04</td>\n",
       "      <td>NaT</td>\n",
       "      <td>9</td>\n",
       "      <td>regis corporation</td>\n",
       "      <td>moisturizing shampoo</td>\n",
       "      <td>hair shampoos (making a cosmetic claim)</td>\n",
       "      <td>regis design line</td>\n",
       "    </tr>\n",
       "    <tr>\n",
       "      <td>60821</td>\n",
       "      <td>22212</td>\n",
       "      <td>165</td>\n",
       "      <td>18</td>\n",
       "      <td>Hair Care Products (non-coloring)</td>\n",
       "      <td>25</td>\n",
       "      <td>715</td>\n",
       "      <td>Arsenic (inorganic arsenic compounds)</td>\n",
       "      <td>2014-02-04</td>\n",
       "      <td>2014-02-04</td>\n",
       "      <td>NaT</td>\n",
       "      <td>2014-02-04</td>\n",
       "      <td>2014-02-04</td>\n",
       "      <td>NaT</td>\n",
       "      <td>9</td>\n",
       "      <td>regis corporation</td>\n",
       "      <td>moisturizing shampoo</td>\n",
       "      <td>hair shampoos (making a cosmetic claim)</td>\n",
       "      <td>regis design line</td>\n",
       "    </tr>\n",
       "    <tr>\n",
       "      <td>60822</td>\n",
       "      <td>22212</td>\n",
       "      <td>165</td>\n",
       "      <td>18</td>\n",
       "      <td>Hair Care Products (non-coloring)</td>\n",
       "      <td>25</td>\n",
       "      <td>214</td>\n",
       "      <td>Dichloroacetic acid</td>\n",
       "      <td>2014-02-04</td>\n",
       "      <td>2014-02-04</td>\n",
       "      <td>NaT</td>\n",
       "      <td>2014-02-04</td>\n",
       "      <td>2014-02-04</td>\n",
       "      <td>NaT</td>\n",
       "      <td>9</td>\n",
       "      <td>regis corporation</td>\n",
       "      <td>moisturizing shampoo</td>\n",
       "      <td>hair shampoos (making a cosmetic claim)</td>\n",
       "      <td>regis design line</td>\n",
       "    </tr>\n",
       "    <tr>\n",
       "      <td>60823</td>\n",
       "      <td>22212</td>\n",
       "      <td>165</td>\n",
       "      <td>18</td>\n",
       "      <td>Hair Care Products (non-coloring)</td>\n",
       "      <td>25</td>\n",
       "      <td>311</td>\n",
       "      <td>Ethylene oxide</td>\n",
       "      <td>2014-02-04</td>\n",
       "      <td>2014-02-04</td>\n",
       "      <td>NaT</td>\n",
       "      <td>2014-02-04</td>\n",
       "      <td>2014-02-04</td>\n",
       "      <td>NaT</td>\n",
       "      <td>9</td>\n",
       "      <td>regis corporation</td>\n",
       "      <td>moisturizing shampoo</td>\n",
       "      <td>hair shampoos (making a cosmetic claim)</td>\n",
       "      <td>regis design line</td>\n",
       "    </tr>\n",
       "    <tr>\n",
       "      <td>60824</td>\n",
       "      <td>22212</td>\n",
       "      <td>165</td>\n",
       "      <td>18</td>\n",
       "      <td>Hair Care Products (non-coloring)</td>\n",
       "      <td>25</td>\n",
       "      <td>333</td>\n",
       "      <td>Formaldehyde (gas)</td>\n",
       "      <td>2014-02-04</td>\n",
       "      <td>2014-02-04</td>\n",
       "      <td>NaT</td>\n",
       "      <td>2014-02-04</td>\n",
       "      <td>2014-02-04</td>\n",
       "      <td>NaT</td>\n",
       "      <td>9</td>\n",
       "      <td>regis corporation</td>\n",
       "      <td>moisturizing shampoo</td>\n",
       "      <td>hair shampoos (making a cosmetic claim)</td>\n",
       "      <td>regis design line</td>\n",
       "    </tr>\n",
       "    <tr>\n",
       "      <td>60825</td>\n",
       "      <td>22212</td>\n",
       "      <td>165</td>\n",
       "      <td>18</td>\n",
       "      <td>Hair Care Products (non-coloring)</td>\n",
       "      <td>25</td>\n",
       "      <td>388</td>\n",
       "      <td>Lead</td>\n",
       "      <td>2014-02-04</td>\n",
       "      <td>2014-02-04</td>\n",
       "      <td>NaT</td>\n",
       "      <td>2014-02-04</td>\n",
       "      <td>2014-02-04</td>\n",
       "      <td>NaT</td>\n",
       "      <td>9</td>\n",
       "      <td>regis corporation</td>\n",
       "      <td>moisturizing shampoo</td>\n",
       "      <td>hair shampoos (making a cosmetic claim)</td>\n",
       "      <td>regis design line</td>\n",
       "    </tr>\n",
       "    <tr>\n",
       "      <td>60826</td>\n",
       "      <td>22212</td>\n",
       "      <td>165</td>\n",
       "      <td>18</td>\n",
       "      <td>Hair Care Products (non-coloring)</td>\n",
       "      <td>25</td>\n",
       "      <td>1007</td>\n",
       "      <td>Cocamide diethanolamine (DEA)</td>\n",
       "      <td>2014-02-04</td>\n",
       "      <td>2014-02-04</td>\n",
       "      <td>NaT</td>\n",
       "      <td>2014-02-04</td>\n",
       "      <td>2014-02-04</td>\n",
       "      <td>NaT</td>\n",
       "      <td>9</td>\n",
       "      <td>regis corporation</td>\n",
       "      <td>moisturizing shampoo</td>\n",
       "      <td>hair shampoos (making a cosmetic claim)</td>\n",
       "      <td>regis design line</td>\n",
       "    </tr>\n",
       "    <tr>\n",
       "      <td>60827</td>\n",
       "      <td>22212</td>\n",
       "      <td>165</td>\n",
       "      <td>18</td>\n",
       "      <td>Hair Care Products (non-coloring)</td>\n",
       "      <td>25</td>\n",
       "      <td>305</td>\n",
       "      <td>Ethylene glycol</td>\n",
       "      <td>2014-02-04</td>\n",
       "      <td>2014-02-04</td>\n",
       "      <td>NaT</td>\n",
       "      <td>2014-02-04</td>\n",
       "      <td>2014-02-04</td>\n",
       "      <td>NaT</td>\n",
       "      <td>9</td>\n",
       "      <td>regis corporation</td>\n",
       "      <td>moisturizing shampoo</td>\n",
       "      <td>hair shampoos (making a cosmetic claim)</td>\n",
       "      <td>regis design line</td>\n",
       "    </tr>\n",
       "  </tbody>\n",
       "</table>\n",
       "</div>"
      ],
      "text/plain": [
       "       CDPHId  CompanyId  PrimaryCategoryId  \\\n",
       "60819   22212        165                 18   \n",
       "60820   22212        165                 18   \n",
       "60821   22212        165                 18   \n",
       "60822   22212        165                 18   \n",
       "60823   22212        165                 18   \n",
       "60824   22212        165                 18   \n",
       "60825   22212        165                 18   \n",
       "60826   22212        165                 18   \n",
       "60827   22212        165                 18   \n",
       "\n",
       "                         PrimaryCategory  SubCategoryId  CasId  \\\n",
       "60819  Hair Care Products (non-coloring)             25    270   \n",
       "60820  Hair Care Products (non-coloring)             25      9   \n",
       "60821  Hair Care Products (non-coloring)             25    715   \n",
       "60822  Hair Care Products (non-coloring)             25    214   \n",
       "60823  Hair Care Products (non-coloring)             25    311   \n",
       "60824  Hair Care Products (non-coloring)             25    333   \n",
       "60825  Hair Care Products (non-coloring)             25    388   \n",
       "60826  Hair Care Products (non-coloring)             25   1007   \n",
       "60827  Hair Care Products (non-coloring)             25    305   \n",
       "\n",
       "                                ChemicalName InitialDateReported  \\\n",
       "60819                            1,4-Dioxane          2014-02-04   \n",
       "60820                             Acrylamide          2014-02-04   \n",
       "60821  Arsenic (inorganic arsenic compounds)          2014-02-04   \n",
       "60822                    Dichloroacetic acid          2014-02-04   \n",
       "60823                         Ethylene oxide          2014-02-04   \n",
       "60824                     Formaldehyde (gas)          2014-02-04   \n",
       "60825                                   Lead          2014-02-04   \n",
       "60826          Cocamide diethanolamine (DEA)          2014-02-04   \n",
       "60827                        Ethylene glycol          2014-02-04   \n",
       "\n",
       "      MostRecentDateReported DiscontinuedDate ChemicalCreatedAt  \\\n",
       "60819             2014-02-04              NaT        2014-02-04   \n",
       "60820             2014-02-04              NaT        2014-02-04   \n",
       "60821             2014-02-04              NaT        2014-02-04   \n",
       "60822             2014-02-04              NaT        2014-02-04   \n",
       "60823             2014-02-04              NaT        2014-02-04   \n",
       "60824             2014-02-04              NaT        2014-02-04   \n",
       "60825             2014-02-04              NaT        2014-02-04   \n",
       "60826             2014-02-04              NaT        2014-02-04   \n",
       "60827             2014-02-04              NaT        2014-02-04   \n",
       "\n",
       "      ChemicalUpdatedAt ChemicalDateRemoved  ChemicalCount  \\\n",
       "60819        2014-02-04                 NaT              9   \n",
       "60820        2014-02-04                 NaT              9   \n",
       "60821        2014-02-04                 NaT              9   \n",
       "60822        2014-02-04                 NaT              9   \n",
       "60823        2014-02-04                 NaT              9   \n",
       "60824        2014-02-04                 NaT              9   \n",
       "60825        2014-02-04                 NaT              9   \n",
       "60826        2014-02-04                 NaT              9   \n",
       "60827        2014-02-04                 NaT              9   \n",
       "\n",
       "      Cleaned_CompanyName   Cleaned_ProductName  \\\n",
       "60819   regis corporation  moisturizing shampoo   \n",
       "60820   regis corporation  moisturizing shampoo   \n",
       "60821   regis corporation  moisturizing shampoo   \n",
       "60822   regis corporation  moisturizing shampoo   \n",
       "60823   regis corporation  moisturizing shampoo   \n",
       "60824   regis corporation  moisturizing shampoo   \n",
       "60825   regis corporation  moisturizing shampoo   \n",
       "60826   regis corporation  moisturizing shampoo   \n",
       "60827   regis corporation  moisturizing shampoo   \n",
       "\n",
       "                           Cleaned_SubCategory  Cleaned_BrandName  \n",
       "60819  hair shampoos (making a cosmetic claim)  regis design line  \n",
       "60820  hair shampoos (making a cosmetic claim)  regis design line  \n",
       "60821  hair shampoos (making a cosmetic claim)  regis design line  \n",
       "60822  hair shampoos (making a cosmetic claim)  regis design line  \n",
       "60823  hair shampoos (making a cosmetic claim)  regis design line  \n",
       "60824  hair shampoos (making a cosmetic claim)  regis design line  \n",
       "60825  hair shampoos (making a cosmetic claim)  regis design line  \n",
       "60826  hair shampoos (making a cosmetic claim)  regis design line  \n",
       "60827  hair shampoos (making a cosmetic claim)  regis design line  "
      ]
     },
     "execution_count": 37,
     "metadata": {},
     "output_type": "execute_result"
    }
   ],
   "source": [
    "nine_chemicals_df = clean_data_df[clean_data_df['ChemicalCount'] == 9]\n",
    "nine_chemicals_df"
   ]
  },
  {
   "cell_type": "code",
   "execution_count": 38,
   "metadata": {},
   "outputs": [
    {
     "data": {
      "text/plain": [
       "['1,4-Dioxane',\n",
       " 'Acrylamide',\n",
       " 'Arsenic (inorganic arsenic compounds)',\n",
       " 'Dichloroacetic acid',\n",
       " 'Ethylene oxide',\n",
       " 'Formaldehyde (gas)',\n",
       " 'Lead',\n",
       " 'Cocamide diethanolamine (DEA)',\n",
       " 'Ethylene glycol']"
      ]
     },
     "execution_count": 38,
     "metadata": {},
     "output_type": "execute_result"
    }
   ],
   "source": [
    "list(nine_chemicals_df['ChemicalName'].unique())"
   ]
  },
  {
   "cell_type": "markdown",
   "metadata": {},
   "source": [
    "### Investigate Products with 0 Chemicals"
   ]
  },
  {
   "cell_type": "code",
   "execution_count": 39,
   "metadata": {
    "scrolled": true
   },
   "outputs": [
    {
     "data": {
      "text/html": [
       "<div>\n",
       "<style scoped>\n",
       "    .dataframe tbody tr th:only-of-type {\n",
       "        vertical-align: middle;\n",
       "    }\n",
       "\n",
       "    .dataframe tbody tr th {\n",
       "        vertical-align: top;\n",
       "    }\n",
       "\n",
       "    .dataframe thead th {\n",
       "        text-align: right;\n",
       "    }\n",
       "</style>\n",
       "<table border=\"1\" class=\"dataframe\">\n",
       "  <thead>\n",
       "    <tr style=\"text-align: right;\">\n",
       "      <th></th>\n",
       "      <th>CDPHId</th>\n",
       "      <th>CompanyId</th>\n",
       "      <th>PrimaryCategoryId</th>\n",
       "      <th>PrimaryCategory</th>\n",
       "      <th>SubCategoryId</th>\n",
       "      <th>CasId</th>\n",
       "      <th>ChemicalName</th>\n",
       "      <th>InitialDateReported</th>\n",
       "      <th>MostRecentDateReported</th>\n",
       "      <th>DiscontinuedDate</th>\n",
       "      <th>ChemicalCreatedAt</th>\n",
       "      <th>ChemicalUpdatedAt</th>\n",
       "      <th>ChemicalDateRemoved</th>\n",
       "      <th>ChemicalCount</th>\n",
       "      <th>Cleaned_CompanyName</th>\n",
       "      <th>Cleaned_ProductName</th>\n",
       "      <th>Cleaned_SubCategory</th>\n",
       "      <th>Cleaned_BrandName</th>\n",
       "    </tr>\n",
       "  </thead>\n",
       "  <tbody>\n",
       "    <tr>\n",
       "      <td>31</td>\n",
       "      <td>24</td>\n",
       "      <td>181</td>\n",
       "      <td>74</td>\n",
       "      <td>Personal Care Products</td>\n",
       "      <td>170</td>\n",
       "      <td>162</td>\n",
       "      <td>Cocamide diethanolamine</td>\n",
       "      <td>2009-07-23</td>\n",
       "      <td>2012-02-07</td>\n",
       "      <td>NaT</td>\n",
       "      <td>2009-07-23</td>\n",
       "      <td>2012-02-07</td>\n",
       "      <td>2010-12-30</td>\n",
       "      <td>0</td>\n",
       "      <td>gojo industries inc</td>\n",
       "      <td>white premium lotion soap</td>\n",
       "      <td>hand cleansers and sanitizers</td>\n",
       "      <td>gojo�</td>\n",
       "    </tr>\n",
       "    <tr>\n",
       "      <td>497</td>\n",
       "      <td>333</td>\n",
       "      <td>71</td>\n",
       "      <td>6</td>\n",
       "      <td>Bath Products</td>\n",
       "      <td>159</td>\n",
       "      <td>162</td>\n",
       "      <td>Cocamide diethanolamine</td>\n",
       "      <td>2009-09-02</td>\n",
       "      <td>2013-09-16</td>\n",
       "      <td>NaT</td>\n",
       "      <td>2009-09-02</td>\n",
       "      <td>2013-09-16</td>\n",
       "      <td>2009-11-23</td>\n",
       "      <td>0</td>\n",
       "      <td>sunrider manufacturing lp</td>\n",
       "      <td>gentle cleanser</td>\n",
       "      <td>body washes and soaps</td>\n",
       "      <td>kandesn</td>\n",
       "    </tr>\n",
       "    <tr>\n",
       "      <td>498</td>\n",
       "      <td>334</td>\n",
       "      <td>71</td>\n",
       "      <td>90</td>\n",
       "      <td>Skin Care Products</td>\n",
       "      <td>93</td>\n",
       "      <td>162</td>\n",
       "      <td>Cocamide diethanolamine</td>\n",
       "      <td>2009-09-02</td>\n",
       "      <td>2013-09-16</td>\n",
       "      <td>NaT</td>\n",
       "      <td>2009-09-02</td>\n",
       "      <td>2009-09-03</td>\n",
       "      <td>2009-09-02</td>\n",
       "      <td>0</td>\n",
       "      <td>sunrider manufacturing lp</td>\n",
       "      <td>cleansing foam</td>\n",
       "      <td>skin cleansers</td>\n",
       "      <td>kandesn</td>\n",
       "    </tr>\n",
       "    <tr>\n",
       "      <td>499</td>\n",
       "      <td>334</td>\n",
       "      <td>71</td>\n",
       "      <td>90</td>\n",
       "      <td>Skin Care Products</td>\n",
       "      <td>93</td>\n",
       "      <td>162</td>\n",
       "      <td>Cocamide diethanolamine</td>\n",
       "      <td>2009-09-02</td>\n",
       "      <td>2013-09-16</td>\n",
       "      <td>NaT</td>\n",
       "      <td>2009-09-03</td>\n",
       "      <td>2013-12-05</td>\n",
       "      <td>2009-09-02</td>\n",
       "      <td>0</td>\n",
       "      <td>sunrider manufacturing lp</td>\n",
       "      <td>cleansing foam</td>\n",
       "      <td>skin cleansers</td>\n",
       "      <td>kandesn</td>\n",
       "    </tr>\n",
       "    <tr>\n",
       "      <td>500</td>\n",
       "      <td>334</td>\n",
       "      <td>71</td>\n",
       "      <td>90</td>\n",
       "      <td>Skin Care Products</td>\n",
       "      <td>93</td>\n",
       "      <td>773</td>\n",
       "      <td>Retinol/retinyl esters, when in daily dosages ...</td>\n",
       "      <td>2009-09-02</td>\n",
       "      <td>2013-09-16</td>\n",
       "      <td>NaT</td>\n",
       "      <td>2009-09-03</td>\n",
       "      <td>2013-12-05</td>\n",
       "      <td>2103-12-05</td>\n",
       "      <td>0</td>\n",
       "      <td>sunrider manufacturing lp</td>\n",
       "      <td>cleansing foam</td>\n",
       "      <td>skin cleansers</td>\n",
       "      <td>kandesn</td>\n",
       "    </tr>\n",
       "  </tbody>\n",
       "</table>\n",
       "</div>"
      ],
      "text/plain": [
       "     CDPHId  CompanyId  PrimaryCategoryId         PrimaryCategory  \\\n",
       "31       24        181                 74  Personal Care Products   \n",
       "497     333         71                  6           Bath Products   \n",
       "498     334         71                 90     Skin Care Products    \n",
       "499     334         71                 90     Skin Care Products    \n",
       "500     334         71                 90     Skin Care Products    \n",
       "\n",
       "     SubCategoryId  CasId                                       ChemicalName  \\\n",
       "31             170    162                            Cocamide diethanolamine   \n",
       "497            159    162                            Cocamide diethanolamine   \n",
       "498             93    162                            Cocamide diethanolamine   \n",
       "499             93    162                            Cocamide diethanolamine   \n",
       "500             93    773  Retinol/retinyl esters, when in daily dosages ...   \n",
       "\n",
       "    InitialDateReported MostRecentDateReported DiscontinuedDate  \\\n",
       "31           2009-07-23             2012-02-07              NaT   \n",
       "497          2009-09-02             2013-09-16              NaT   \n",
       "498          2009-09-02             2013-09-16              NaT   \n",
       "499          2009-09-02             2013-09-16              NaT   \n",
       "500          2009-09-02             2013-09-16              NaT   \n",
       "\n",
       "    ChemicalCreatedAt ChemicalUpdatedAt ChemicalDateRemoved  ChemicalCount  \\\n",
       "31         2009-07-23        2012-02-07          2010-12-30              0   \n",
       "497        2009-09-02        2013-09-16          2009-11-23              0   \n",
       "498        2009-09-02        2009-09-03          2009-09-02              0   \n",
       "499        2009-09-03        2013-12-05          2009-09-02              0   \n",
       "500        2009-09-03        2013-12-05          2103-12-05              0   \n",
       "\n",
       "           Cleaned_CompanyName        Cleaned_ProductName  \\\n",
       "31         gojo industries inc  white premium lotion soap   \n",
       "497  sunrider manufacturing lp            gentle cleanser   \n",
       "498  sunrider manufacturing lp             cleansing foam   \n",
       "499  sunrider manufacturing lp             cleansing foam   \n",
       "500  sunrider manufacturing lp             cleansing foam   \n",
       "\n",
       "               Cleaned_SubCategory Cleaned_BrandName  \n",
       "31   hand cleansers and sanitizers             gojo�  \n",
       "497          body washes and soaps           kandesn  \n",
       "498                 skin cleansers           kandesn  \n",
       "499                 skin cleansers           kandesn  \n",
       "500                 skin cleansers           kandesn  "
      ]
     },
     "execution_count": 39,
     "metadata": {},
     "output_type": "execute_result"
    }
   ],
   "source": [
    "zero_chemicals_df = clean_data_df[clean_data_df['ChemicalCount'] == 0]\n",
    "zero_chemicals_df.head()"
   ]
  },
  {
   "cell_type": "code",
   "execution_count": 40,
   "metadata": {},
   "outputs": [
    {
     "name": "stdout",
     "output_type": "stream",
     "text": [
      "<class 'pandas.core.frame.DataFrame'>\n",
      "Int64Index: 770 entries, 31 to 104786\n",
      "Data columns (total 18 columns):\n",
      "CDPHId                    770 non-null int64\n",
      "CompanyId                 770 non-null int64\n",
      "PrimaryCategoryId         770 non-null int64\n",
      "PrimaryCategory           770 non-null object\n",
      "SubCategoryId             770 non-null int64\n",
      "CasId                     770 non-null int64\n",
      "ChemicalName              770 non-null object\n",
      "InitialDateReported       770 non-null datetime64[ns]\n",
      "MostRecentDateReported    770 non-null datetime64[ns]\n",
      "DiscontinuedDate          202 non-null datetime64[ns]\n",
      "ChemicalCreatedAt         770 non-null datetime64[ns]\n",
      "ChemicalUpdatedAt         770 non-null datetime64[ns]\n",
      "ChemicalDateRemoved       770 non-null datetime64[ns]\n",
      "ChemicalCount             770 non-null int64\n",
      "Cleaned_CompanyName       770 non-null object\n",
      "Cleaned_ProductName       770 non-null object\n",
      "Cleaned_SubCategory       770 non-null object\n",
      "Cleaned_BrandName         770 non-null object\n",
      "dtypes: datetime64[ns](6), int64(6), object(6)\n",
      "memory usage: 114.3+ KB\n"
     ]
    }
   ],
   "source": [
    "zero_chemicals_df.info()"
   ]
  },
  {
   "cell_type": "code",
   "execution_count": 41,
   "metadata": {},
   "outputs": [
    {
     "data": {
      "text/html": [
       "<div>\n",
       "<style scoped>\n",
       "    .dataframe tbody tr th:only-of-type {\n",
       "        vertical-align: middle;\n",
       "    }\n",
       "\n",
       "    .dataframe tbody tr th {\n",
       "        vertical-align: top;\n",
       "    }\n",
       "\n",
       "    .dataframe thead th {\n",
       "        text-align: right;\n",
       "    }\n",
       "</style>\n",
       "<table border=\"1\" class=\"dataframe\">\n",
       "  <thead>\n",
       "    <tr style=\"text-align: right;\">\n",
       "      <th></th>\n",
       "      <th>Cleaned_CompanyName</th>\n",
       "      <th>CDPHId</th>\n",
       "    </tr>\n",
       "  </thead>\n",
       "  <tbody>\n",
       "    <tr>\n",
       "      <td>28</td>\n",
       "      <td>elizabeth arden inc</td>\n",
       "      <td>77</td>\n",
       "    </tr>\n",
       "    <tr>\n",
       "      <td>60</td>\n",
       "      <td>mario zunino &amp; c srl</td>\n",
       "      <td>38</td>\n",
       "    </tr>\n",
       "    <tr>\n",
       "      <td>14</td>\n",
       "      <td>buth-na-bodhaige inc</td>\n",
       "      <td>34</td>\n",
       "    </tr>\n",
       "    <tr>\n",
       "      <td>93</td>\n",
       "      <td>vi-jon inc</td>\n",
       "      <td>33</td>\n",
       "    </tr>\n",
       "    <tr>\n",
       "      <td>86</td>\n",
       "      <td>sunrider manufacturing lp</td>\n",
       "      <td>31</td>\n",
       "    </tr>\n",
       "    <tr>\n",
       "      <td>17</td>\n",
       "      <td>cfeb sisley</td>\n",
       "      <td>25</td>\n",
       "    </tr>\n",
       "    <tr>\n",
       "      <td>57</td>\n",
       "      <td>lush manufacturing ltd</td>\n",
       "      <td>19</td>\n",
       "    </tr>\n",
       "    <tr>\n",
       "      <td>101</td>\n",
       "      <td>zotos international inc</td>\n",
       "      <td>18</td>\n",
       "    </tr>\n",
       "    <tr>\n",
       "      <td>76</td>\n",
       "      <td>penhaligon's limited</td>\n",
       "      <td>16</td>\n",
       "    </tr>\n",
       "    <tr>\n",
       "      <td>24</td>\n",
       "      <td>deb usa inc</td>\n",
       "      <td>16</td>\n",
       "    </tr>\n",
       "  </tbody>\n",
       "</table>\n",
       "</div>"
      ],
      "text/plain": [
       "           Cleaned_CompanyName  CDPHId\n",
       "28         elizabeth arden inc      77\n",
       "60        mario zunino & c srl      38\n",
       "14        buth-na-bodhaige inc      34\n",
       "93                  vi-jon inc      33\n",
       "86   sunrider manufacturing lp      31\n",
       "17                 cfeb sisley      25\n",
       "57      lush manufacturing ltd      19\n",
       "101    zotos international inc      18\n",
       "76        penhaligon's limited      16\n",
       "24                 deb usa inc      16"
      ]
     },
     "execution_count": 41,
     "metadata": {},
     "output_type": "execute_result"
    }
   ],
   "source": [
    "# Count number of 0-chemical products by CompanyName\n",
    "zero_chemicals_count_companies_df = dce.get_count_by_df(zero_chemicals_df, 'CDPHId', 'Cleaned_CompanyName')\n",
    "zero_chemicals_count_companies_df = zero_chemicals_count_companies_df.reset_index().sort_values('CDPHId', ascending=False)\n",
    "zero_chemicals_count_companies_df.head(10)"
   ]
  },
  {
   "cell_type": "markdown",
   "metadata": {},
   "source": [
    "### Investigate Products with 0 Chemicals"
   ]
  },
  {
   "cell_type": "code",
   "execution_count": 42,
   "metadata": {},
   "outputs": [
    {
     "data": {
      "text/html": [
       "<div>\n",
       "<style scoped>\n",
       "    .dataframe tbody tr th:only-of-type {\n",
       "        vertical-align: middle;\n",
       "    }\n",
       "\n",
       "    .dataframe tbody tr th {\n",
       "        vertical-align: top;\n",
       "    }\n",
       "\n",
       "    .dataframe thead th {\n",
       "        text-align: right;\n",
       "    }\n",
       "</style>\n",
       "<table border=\"1\" class=\"dataframe\">\n",
       "  <thead>\n",
       "    <tr style=\"text-align: right;\">\n",
       "      <th></th>\n",
       "      <th>CDPHId</th>\n",
       "      <th>CompanyId</th>\n",
       "      <th>PrimaryCategoryId</th>\n",
       "      <th>PrimaryCategory</th>\n",
       "      <th>SubCategoryId</th>\n",
       "      <th>CasId</th>\n",
       "      <th>ChemicalName</th>\n",
       "      <th>InitialDateReported</th>\n",
       "      <th>MostRecentDateReported</th>\n",
       "      <th>DiscontinuedDate</th>\n",
       "      <th>ChemicalCreatedAt</th>\n",
       "      <th>ChemicalUpdatedAt</th>\n",
       "      <th>ChemicalDateRemoved</th>\n",
       "      <th>ChemicalCount</th>\n",
       "      <th>Cleaned_CompanyName</th>\n",
       "      <th>Cleaned_ProductName</th>\n",
       "      <th>Cleaned_SubCategory</th>\n",
       "      <th>Cleaned_BrandName</th>\n",
       "    </tr>\n",
       "  </thead>\n",
       "  <tbody>\n",
       "    <tr>\n",
       "      <td>2555</td>\n",
       "      <td>862</td>\n",
       "      <td>18</td>\n",
       "      <td>90</td>\n",
       "      <td>Skin Care Products</td>\n",
       "      <td>92</td>\n",
       "      <td>773</td>\n",
       "      <td>Retinol/retinyl esters, when in daily dosages ...</td>\n",
       "      <td>2009-09-14</td>\n",
       "      <td>2009-09-18</td>\n",
       "      <td>NaT</td>\n",
       "      <td>2009-09-14</td>\n",
       "      <td>2009-09-21</td>\n",
       "      <td>2009-09-21</td>\n",
       "      <td>5</td>\n",
       "      <td>bliss world llc</td>\n",
       "      <td>best of skintentions</td>\n",
       "      <td>anti-wrinkle/anti-aging products (making a cos...</td>\n",
       "      <td>bliss</td>\n",
       "    </tr>\n",
       "    <tr>\n",
       "      <td>2556</td>\n",
       "      <td>862</td>\n",
       "      <td>18</td>\n",
       "      <td>90</td>\n",
       "      <td>Skin Care Products</td>\n",
       "      <td>92</td>\n",
       "      <td>656</td>\n",
       "      <td>Titanium dioxide</td>\n",
       "      <td>2009-09-14</td>\n",
       "      <td>2009-09-18</td>\n",
       "      <td>NaT</td>\n",
       "      <td>2009-09-14</td>\n",
       "      <td>2009-09-21</td>\n",
       "      <td>2009-09-21</td>\n",
       "      <td>5</td>\n",
       "      <td>bliss world llc</td>\n",
       "      <td>best of skintentions</td>\n",
       "      <td>anti-wrinkle/anti-aging products (making a cos...</td>\n",
       "      <td>bliss</td>\n",
       "    </tr>\n",
       "    <tr>\n",
       "      <td>2557</td>\n",
       "      <td>862</td>\n",
       "      <td>18</td>\n",
       "      <td>90</td>\n",
       "      <td>Skin Care Products</td>\n",
       "      <td>92</td>\n",
       "      <td>754</td>\n",
       "      <td>2,4-Hexadienal (89% trans, trans isomer; 11% c...</td>\n",
       "      <td>2009-09-14</td>\n",
       "      <td>2009-09-18</td>\n",
       "      <td>NaT</td>\n",
       "      <td>2009-09-18</td>\n",
       "      <td>2009-09-18</td>\n",
       "      <td>2009-09-18</td>\n",
       "      <td>5</td>\n",
       "      <td>bliss world llc</td>\n",
       "      <td>best of skintentions</td>\n",
       "      <td>anti-wrinkle/anti-aging products (making a cos...</td>\n",
       "      <td>bliss</td>\n",
       "    </tr>\n",
       "    <tr>\n",
       "      <td>2558</td>\n",
       "      <td>862</td>\n",
       "      <td>18</td>\n",
       "      <td>90</td>\n",
       "      <td>Skin Care Products</td>\n",
       "      <td>92</td>\n",
       "      <td>773</td>\n",
       "      <td>Retinol/retinyl esters, when in daily dosages ...</td>\n",
       "      <td>2009-09-14</td>\n",
       "      <td>2009-09-18</td>\n",
       "      <td>NaT</td>\n",
       "      <td>2009-09-21</td>\n",
       "      <td>2009-09-21</td>\n",
       "      <td>NaT</td>\n",
       "      <td>5</td>\n",
       "      <td>bliss world llc</td>\n",
       "      <td>best of skintentions</td>\n",
       "      <td>anti-wrinkle/anti-aging products (making a cos...</td>\n",
       "      <td>bliss</td>\n",
       "    </tr>\n",
       "    <tr>\n",
       "      <td>2559</td>\n",
       "      <td>862</td>\n",
       "      <td>18</td>\n",
       "      <td>90</td>\n",
       "      <td>Skin Care Products</td>\n",
       "      <td>92</td>\n",
       "      <td>656</td>\n",
       "      <td>Titanium dioxide</td>\n",
       "      <td>2009-09-14</td>\n",
       "      <td>2009-09-18</td>\n",
       "      <td>NaT</td>\n",
       "      <td>2009-09-21</td>\n",
       "      <td>2009-09-21</td>\n",
       "      <td>NaT</td>\n",
       "      <td>5</td>\n",
       "      <td>bliss world llc</td>\n",
       "      <td>best of skintentions</td>\n",
       "      <td>anti-wrinkle/anti-aging products (making a cos...</td>\n",
       "      <td>bliss</td>\n",
       "    </tr>\n",
       "  </tbody>\n",
       "</table>\n",
       "</div>"
      ],
      "text/plain": [
       "      CDPHId  CompanyId  PrimaryCategoryId      PrimaryCategory  \\\n",
       "2555     862         18                 90  Skin Care Products    \n",
       "2556     862         18                 90  Skin Care Products    \n",
       "2557     862         18                 90  Skin Care Products    \n",
       "2558     862         18                 90  Skin Care Products    \n",
       "2559     862         18                 90  Skin Care Products    \n",
       "\n",
       "      SubCategoryId  CasId                                       ChemicalName  \\\n",
       "2555             92    773  Retinol/retinyl esters, when in daily dosages ...   \n",
       "2556             92    656                                   Titanium dioxide   \n",
       "2557             92    754  2,4-Hexadienal (89% trans, trans isomer; 11% c...   \n",
       "2558             92    773  Retinol/retinyl esters, when in daily dosages ...   \n",
       "2559             92    656                                   Titanium dioxide   \n",
       "\n",
       "     InitialDateReported MostRecentDateReported DiscontinuedDate  \\\n",
       "2555          2009-09-14             2009-09-18              NaT   \n",
       "2556          2009-09-14             2009-09-18              NaT   \n",
       "2557          2009-09-14             2009-09-18              NaT   \n",
       "2558          2009-09-14             2009-09-18              NaT   \n",
       "2559          2009-09-14             2009-09-18              NaT   \n",
       "\n",
       "     ChemicalCreatedAt ChemicalUpdatedAt ChemicalDateRemoved  ChemicalCount  \\\n",
       "2555        2009-09-14        2009-09-21          2009-09-21              5   \n",
       "2556        2009-09-14        2009-09-21          2009-09-21              5   \n",
       "2557        2009-09-18        2009-09-18          2009-09-18              5   \n",
       "2558        2009-09-21        2009-09-21                 NaT              5   \n",
       "2559        2009-09-21        2009-09-21                 NaT              5   \n",
       "\n",
       "     Cleaned_CompanyName   Cleaned_ProductName  \\\n",
       "2555     bliss world llc  best of skintentions   \n",
       "2556     bliss world llc  best of skintentions   \n",
       "2557     bliss world llc  best of skintentions   \n",
       "2558     bliss world llc  best of skintentions   \n",
       "2559     bliss world llc  best of skintentions   \n",
       "\n",
       "                                    Cleaned_SubCategory Cleaned_BrandName  \n",
       "2555  anti-wrinkle/anti-aging products (making a cos...             bliss  \n",
       "2556  anti-wrinkle/anti-aging products (making a cos...             bliss  \n",
       "2557  anti-wrinkle/anti-aging products (making a cos...             bliss  \n",
       "2558  anti-wrinkle/anti-aging products (making a cos...             bliss  \n",
       "2559  anti-wrinkle/anti-aging products (making a cos...             bliss  "
      ]
     },
     "execution_count": 42,
     "metadata": {},
     "output_type": "execute_result"
    }
   ],
   "source": [
    "five_or_more_chemicals_list = [i for i in range(5,10)]\n",
    "five_or_more_chemicals_df = clean_data_df[clean_data_df['ChemicalCount']\n",
    "                                          .isin(five_or_more_chemicals_list)]\n",
    "five_or_more_chemicals_df.head()"
   ]
  },
  {
   "cell_type": "code",
   "execution_count": 43,
   "metadata": {
    "scrolled": true
   },
   "outputs": [
    {
     "data": {
      "text/plain": [
       "(array([279., 177., 110.,  35.,  71.,  10.,  11.,   6.,   3.,  68.]),\n",
       " array([ 0. ,  1.1,  2.2,  3.3,  4.4,  5.5,  6.6,  7.7,  8.8,  9.9, 11. ]),\n",
       " <a list of 10 Patch objects>)"
      ]
     },
     "execution_count": 43,
     "metadata": {},
     "output_type": "execute_result"
    },
    {
     "data": {
      "text/plain": [
       "([0, 1, 2, 3, 4, 5, 6, 7, 8, 9, 10, 11],\n",
       " <a list of 12 Text xticklabel objects>)"
      ]
     },
     "execution_count": 43,
     "metadata": {},
     "output_type": "execute_result"
    },
    {
     "data": {
      "text/plain": [
       "Text(0.5, 0, 'Cosmetics Category')"
      ]
     },
     "execution_count": 43,
     "metadata": {},
     "output_type": "execute_result"
    },
    {
     "data": {
      "image/png": "[encoded data removed]",
      "text/plain": [
       "<Figure size 1440x720 with 1 Axes>"
      ]
     },
     "metadata": {
      "needs_background": "light"
     },
     "output_type": "display_data"
    }
   ],
   "source": [
    "fig, ax = plt.subplots(figsize=(20, 10))\n",
    "ax.hist(zero_chemicals_df['PrimaryCategory'])\n",
    "plt.xticks(rotation='45')\n",
    "ax.tick_params(axis=\"x\", labelsize=20)\n",
    "ax.tick_params(axis=\"y\", labelsize=20)\n",
    "ax.set_xlabel('Cosmetics Category', size=30)\n",
    "plt.show()"
   ]
  },
  {
   "cell_type": "markdown",
   "metadata": {},
   "source": [
    "## Discontinued Products"
   ]
  },
  {
   "cell_type": "code",
   "execution_count": 44,
   "metadata": {},
   "outputs": [
    {
     "data": {
      "text/html": [
       "<div>\n",
       "<style scoped>\n",
       "    .dataframe tbody tr th:only-of-type {\n",
       "        vertical-align: middle;\n",
       "    }\n",
       "\n",
       "    .dataframe tbody tr th {\n",
       "        vertical-align: top;\n",
       "    }\n",
       "\n",
       "    .dataframe thead th {\n",
       "        text-align: right;\n",
       "    }\n",
       "</style>\n",
       "<table border=\"1\" class=\"dataframe\">\n",
       "  <thead>\n",
       "    <tr style=\"text-align: right;\">\n",
       "      <th></th>\n",
       "      <th>CDPHId</th>\n",
       "      <th>CompanyId</th>\n",
       "      <th>PrimaryCategoryId</th>\n",
       "      <th>PrimaryCategory</th>\n",
       "      <th>SubCategoryId</th>\n",
       "      <th>CasId</th>\n",
       "      <th>ChemicalName</th>\n",
       "      <th>InitialDateReported</th>\n",
       "      <th>MostRecentDateReported</th>\n",
       "      <th>DiscontinuedDate</th>\n",
       "      <th>ChemicalCreatedAt</th>\n",
       "      <th>ChemicalUpdatedAt</th>\n",
       "      <th>ChemicalDateRemoved</th>\n",
       "      <th>ChemicalCount</th>\n",
       "      <th>Cleaned_CompanyName</th>\n",
       "      <th>Cleaned_ProductName</th>\n",
       "      <th>Cleaned_SubCategory</th>\n",
       "      <th>Cleaned_BrandName</th>\n",
       "    </tr>\n",
       "  </thead>\n",
       "  <tbody>\n",
       "    <tr>\n",
       "      <td>0</td>\n",
       "      <td>2</td>\n",
       "      <td>4</td>\n",
       "      <td>44</td>\n",
       "      <td>Makeup Products (non-permanent)</td>\n",
       "      <td>53</td>\n",
       "      <td>656</td>\n",
       "      <td>Titanium dioxide</td>\n",
       "      <td>2009-06-17</td>\n",
       "      <td>2013-08-28</td>\n",
       "      <td>2011-02-01</td>\n",
       "      <td>2009-07-09</td>\n",
       "      <td>2009-07-09</td>\n",
       "      <td>NaT</td>\n",
       "      <td>1</td>\n",
       "      <td>new avon llc</td>\n",
       "      <td>ultra color rich extra plump lipstick-all shades</td>\n",
       "      <td>lip color - lipsticks liners and pencils</td>\n",
       "      <td>avon</td>\n",
       "    </tr>\n",
       "    <tr>\n",
       "      <td>4</td>\n",
       "      <td>5</td>\n",
       "      <td>4</td>\n",
       "      <td>44</td>\n",
       "      <td>Makeup Products (non-permanent)</td>\n",
       "      <td>52</td>\n",
       "      <td>656</td>\n",
       "      <td>Titanium dioxide</td>\n",
       "      <td>2009-07-09</td>\n",
       "      <td>2013-08-28</td>\n",
       "      <td>2011-02-01</td>\n",
       "      <td>2009-07-09</td>\n",
       "      <td>2009-07-09</td>\n",
       "      <td>NaT</td>\n",
       "      <td>1</td>\n",
       "      <td>new avon llc</td>\n",
       "      <td>avon brilliant shine lip gloss-all shades �</td>\n",
       "      <td>lip gloss/shine</td>\n",
       "      <td>avon</td>\n",
       "    </tr>\n",
       "    <tr>\n",
       "      <td>5</td>\n",
       "      <td>6</td>\n",
       "      <td>4</td>\n",
       "      <td>44</td>\n",
       "      <td>Makeup Products (non-permanent)</td>\n",
       "      <td>48</td>\n",
       "      <td>656</td>\n",
       "      <td>Titanium dioxide</td>\n",
       "      <td>2009-07-09</td>\n",
       "      <td>2013-08-28</td>\n",
       "      <td>2010-11-01</td>\n",
       "      <td>2009-07-09</td>\n",
       "      <td>2009-07-09</td>\n",
       "      <td>NaT</td>\n",
       "      <td>1</td>\n",
       "      <td>new avon llc</td>\n",
       "      <td>jillian dempsey for avon celestial eyeshadow-a...</td>\n",
       "      <td>eye shadow</td>\n",
       "      <td>avon</td>\n",
       "    </tr>\n",
       "    <tr>\n",
       "      <td>30</td>\n",
       "      <td>18</td>\n",
       "      <td>4</td>\n",
       "      <td>44</td>\n",
       "      <td>Makeup Products (non-permanent)</td>\n",
       "      <td>162</td>\n",
       "      <td>656</td>\n",
       "      <td>Titanium dioxide</td>\n",
       "      <td>2009-07-20</td>\n",
       "      <td>2013-08-28</td>\n",
       "      <td>2012-02-01</td>\n",
       "      <td>2009-07-20</td>\n",
       "      <td>2009-07-20</td>\n",
       "      <td>NaT</td>\n",
       "      <td>1</td>\n",
       "      <td>new avon llc</td>\n",
       "      <td>spectra lash mascara �</td>\n",
       "      <td>mascara/eyelash products</td>\n",
       "      <td>avon</td>\n",
       "    </tr>\n",
       "    <tr>\n",
       "      <td>381</td>\n",
       "      <td>222</td>\n",
       "      <td>4</td>\n",
       "      <td>44</td>\n",
       "      <td>Makeup Products (non-permanent)</td>\n",
       "      <td>48</td>\n",
       "      <td>656</td>\n",
       "      <td>Titanium dioxide</td>\n",
       "      <td>2009-09-01</td>\n",
       "      <td>2013-08-28</td>\n",
       "      <td>2012-11-01</td>\n",
       "      <td>2009-09-01</td>\n",
       "      <td>2009-09-01</td>\n",
       "      <td>NaT</td>\n",
       "      <td>2</td>\n",
       "      <td>new avon llc</td>\n",
       "      <td>anew eyelifting serum shadow-all shades �</td>\n",
       "      <td>eye shadow</td>\n",
       "      <td>anew</td>\n",
       "    </tr>\n",
       "  </tbody>\n",
       "</table>\n",
       "</div>"
      ],
      "text/plain": [
       "     CDPHId  CompanyId  PrimaryCategoryId                  PrimaryCategory  \\\n",
       "0         2          4                 44  Makeup Products (non-permanent)   \n",
       "4         5          4                 44  Makeup Products (non-permanent)   \n",
       "5         6          4                 44  Makeup Products (non-permanent)   \n",
       "30       18          4                 44  Makeup Products (non-permanent)   \n",
       "381     222          4                 44  Makeup Products (non-permanent)   \n",
       "\n",
       "     SubCategoryId  CasId      ChemicalName InitialDateReported  \\\n",
       "0               53    656  Titanium dioxide          2009-06-17   \n",
       "4               52    656  Titanium dioxide          2009-07-09   \n",
       "5               48    656  Titanium dioxide          2009-07-09   \n",
       "30             162    656  Titanium dioxide          2009-07-20   \n",
       "381             48    656  Titanium dioxide          2009-09-01   \n",
       "\n",
       "    MostRecentDateReported DiscontinuedDate ChemicalCreatedAt  \\\n",
       "0               2013-08-28       2011-02-01        2009-07-09   \n",
       "4               2013-08-28       2011-02-01        2009-07-09   \n",
       "5               2013-08-28       2010-11-01        2009-07-09   \n",
       "30              2013-08-28       2012-02-01        2009-07-20   \n",
       "381             2013-08-28       2012-11-01        2009-09-01   \n",
       "\n",
       "    ChemicalUpdatedAt ChemicalDateRemoved  ChemicalCount Cleaned_CompanyName  \\\n",
       "0          2009-07-09                 NaT              1        new avon llc   \n",
       "4          2009-07-09                 NaT              1        new avon llc   \n",
       "5          2009-07-09                 NaT              1        new avon llc   \n",
       "30         2009-07-20                 NaT              1        new avon llc   \n",
       "381        2009-09-01                 NaT              2        new avon llc   \n",
       "\n",
       "                                   Cleaned_ProductName  \\\n",
       "0     ultra color rich extra plump lipstick-all shades   \n",
       "4          avon brilliant shine lip gloss-all shades �   \n",
       "5    jillian dempsey for avon celestial eyeshadow-a...   \n",
       "30                              spectra lash mascara �   \n",
       "381          anew eyelifting serum shadow-all shades �   \n",
       "\n",
       "                          Cleaned_SubCategory Cleaned_BrandName  \n",
       "0    lip color - lipsticks liners and pencils              avon  \n",
       "4                             lip gloss/shine              avon  \n",
       "5                                  eye shadow              avon  \n",
       "30                   mascara/eyelash products              avon  \n",
       "381                                eye shadow              anew  "
      ]
     },
     "execution_count": 44,
     "metadata": {},
     "output_type": "execute_result"
    }
   ],
   "source": [
    "discontinued_df = clean_data_df[clean_data_df['DiscontinuedDate'].isna()==False]\n",
    "discontinued_df.head()"
   ]
  },
  {
   "cell_type": "code",
   "execution_count": 45,
   "metadata": {},
   "outputs": [
    {
     "data": {
      "text/html": [
       "<div>\n",
       "<style scoped>\n",
       "    .dataframe tbody tr th:only-of-type {\n",
       "        vertical-align: middle;\n",
       "    }\n",
       "\n",
       "    .dataframe tbody tr th {\n",
       "        vertical-align: top;\n",
       "    }\n",
       "\n",
       "    .dataframe thead th {\n",
       "        text-align: right;\n",
       "    }\n",
       "</style>\n",
       "<table border=\"1\" class=\"dataframe\">\n",
       "  <thead>\n",
       "    <tr style=\"text-align: right;\">\n",
       "      <th></th>\n",
       "      <th>CDPHId</th>\n",
       "      <th>CompanyId</th>\n",
       "      <th>PrimaryCategoryId</th>\n",
       "      <th>PrimaryCategory</th>\n",
       "      <th>SubCategoryId</th>\n",
       "      <th>CasId</th>\n",
       "      <th>ChemicalName</th>\n",
       "      <th>InitialDateReported</th>\n",
       "      <th>MostRecentDateReported</th>\n",
       "      <th>DiscontinuedDate</th>\n",
       "      <th>ChemicalCreatedAt</th>\n",
       "      <th>ChemicalUpdatedAt</th>\n",
       "      <th>ChemicalDateRemoved</th>\n",
       "      <th>ChemicalCount</th>\n",
       "      <th>Cleaned_CompanyName</th>\n",
       "      <th>Cleaned_ProductName</th>\n",
       "      <th>Cleaned_SubCategory</th>\n",
       "      <th>Cleaned_BrandName</th>\n",
       "    </tr>\n",
       "  </thead>\n",
       "  <tbody>\n",
       "    <tr>\n",
       "      <td>0</td>\n",
       "      <td>2</td>\n",
       "      <td>4</td>\n",
       "      <td>44</td>\n",
       "      <td>Makeup Products (non-permanent)</td>\n",
       "      <td>53</td>\n",
       "      <td>656</td>\n",
       "      <td>Titanium dioxide</td>\n",
       "      <td>2009-06-17</td>\n",
       "      <td>2013-08-28</td>\n",
       "      <td>2011-02-01</td>\n",
       "      <td>2009-07-09</td>\n",
       "      <td>2009-07-09</td>\n",
       "      <td>NaT</td>\n",
       "      <td>1</td>\n",
       "      <td>new avon llc</td>\n",
       "      <td>ultra color rich extra plump lipstick-all shades</td>\n",
       "      <td>lip color - lipsticks liners and pencils</td>\n",
       "      <td>avon</td>\n",
       "    </tr>\n",
       "    <tr>\n",
       "      <td>4</td>\n",
       "      <td>5</td>\n",
       "      <td>4</td>\n",
       "      <td>44</td>\n",
       "      <td>Makeup Products (non-permanent)</td>\n",
       "      <td>52</td>\n",
       "      <td>656</td>\n",
       "      <td>Titanium dioxide</td>\n",
       "      <td>2009-07-09</td>\n",
       "      <td>2013-08-28</td>\n",
       "      <td>2011-02-01</td>\n",
       "      <td>2009-07-09</td>\n",
       "      <td>2009-07-09</td>\n",
       "      <td>NaT</td>\n",
       "      <td>1</td>\n",
       "      <td>new avon llc</td>\n",
       "      <td>avon brilliant shine lip gloss-all shades �</td>\n",
       "      <td>lip gloss/shine</td>\n",
       "      <td>avon</td>\n",
       "    </tr>\n",
       "    <tr>\n",
       "      <td>5</td>\n",
       "      <td>6</td>\n",
       "      <td>4</td>\n",
       "      <td>44</td>\n",
       "      <td>Makeup Products (non-permanent)</td>\n",
       "      <td>48</td>\n",
       "      <td>656</td>\n",
       "      <td>Titanium dioxide</td>\n",
       "      <td>2009-07-09</td>\n",
       "      <td>2013-08-28</td>\n",
       "      <td>2010-11-01</td>\n",
       "      <td>2009-07-09</td>\n",
       "      <td>2009-07-09</td>\n",
       "      <td>NaT</td>\n",
       "      <td>1</td>\n",
       "      <td>new avon llc</td>\n",
       "      <td>jillian dempsey for avon celestial eyeshadow-a...</td>\n",
       "      <td>eye shadow</td>\n",
       "      <td>avon</td>\n",
       "    </tr>\n",
       "    <tr>\n",
       "      <td>30</td>\n",
       "      <td>18</td>\n",
       "      <td>4</td>\n",
       "      <td>44</td>\n",
       "      <td>Makeup Products (non-permanent)</td>\n",
       "      <td>162</td>\n",
       "      <td>656</td>\n",
       "      <td>Titanium dioxide</td>\n",
       "      <td>2009-07-20</td>\n",
       "      <td>2013-08-28</td>\n",
       "      <td>2012-02-01</td>\n",
       "      <td>2009-07-20</td>\n",
       "      <td>2009-07-20</td>\n",
       "      <td>NaT</td>\n",
       "      <td>1</td>\n",
       "      <td>new avon llc</td>\n",
       "      <td>spectra lash mascara �</td>\n",
       "      <td>mascara/eyelash products</td>\n",
       "      <td>avon</td>\n",
       "    </tr>\n",
       "    <tr>\n",
       "      <td>381</td>\n",
       "      <td>222</td>\n",
       "      <td>4</td>\n",
       "      <td>44</td>\n",
       "      <td>Makeup Products (non-permanent)</td>\n",
       "      <td>48</td>\n",
       "      <td>656</td>\n",
       "      <td>Titanium dioxide</td>\n",
       "      <td>2009-09-01</td>\n",
       "      <td>2013-08-28</td>\n",
       "      <td>2012-11-01</td>\n",
       "      <td>2009-09-01</td>\n",
       "      <td>2009-09-01</td>\n",
       "      <td>NaT</td>\n",
       "      <td>2</td>\n",
       "      <td>new avon llc</td>\n",
       "      <td>anew eyelifting serum shadow-all shades �</td>\n",
       "      <td>eye shadow</td>\n",
       "      <td>anew</td>\n",
       "    </tr>\n",
       "    <tr>\n",
       "      <td>...</td>\n",
       "      <td>...</td>\n",
       "      <td>...</td>\n",
       "      <td>...</td>\n",
       "      <td>...</td>\n",
       "      <td>...</td>\n",
       "      <td>...</td>\n",
       "      <td>...</td>\n",
       "      <td>...</td>\n",
       "      <td>...</td>\n",
       "      <td>...</td>\n",
       "      <td>...</td>\n",
       "      <td>...</td>\n",
       "      <td>...</td>\n",
       "      <td>...</td>\n",
       "      <td>...</td>\n",
       "      <td>...</td>\n",
       "      <td>...</td>\n",
       "      <td>...</td>\n",
       "    </tr>\n",
       "    <tr>\n",
       "      <td>110044</td>\n",
       "      <td>40075</td>\n",
       "      <td>395</td>\n",
       "      <td>90</td>\n",
       "      <td>Skin Care Products</td>\n",
       "      <td>103</td>\n",
       "      <td>773</td>\n",
       "      <td>Retinol/retinyl esters, when in daily dosages ...</td>\n",
       "      <td>2019-10-09</td>\n",
       "      <td>2019-10-09</td>\n",
       "      <td>2014-11-05</td>\n",
       "      <td>2019-10-09</td>\n",
       "      <td>2019-10-09</td>\n",
       "      <td>NaT</td>\n",
       "      <td>1</td>\n",
       "      <td>herbalife international of america inc</td>\n",
       "      <td>multivitamin toner with vitamins ac &amp; e normal...</td>\n",
       "      <td>skin toner (making a cosmetic claim)</td>\n",
       "      <td>nourifusion</td>\n",
       "    </tr>\n",
       "    <tr>\n",
       "      <td>110501</td>\n",
       "      <td>40251</td>\n",
       "      <td>1352</td>\n",
       "      <td>90</td>\n",
       "      <td>Skin Care Products</td>\n",
       "      <td>92</td>\n",
       "      <td>1242</td>\n",
       "      <td>Ethanol in alcoholic beverages</td>\n",
       "      <td>2019-10-30</td>\n",
       "      <td>2019-12-19</td>\n",
       "      <td>2019-12-01</td>\n",
       "      <td>2019-12-19</td>\n",
       "      <td>2019-12-19</td>\n",
       "      <td>NaT</td>\n",
       "      <td>1</td>\n",
       "      <td>sanmedica international llc</td>\n",
       "      <td>serovital complete eye area renewal complex</td>\n",
       "      <td>anti-wrinkle/anti-aging products (making a cos...</td>\n",
       "      <td>sanmedica international llc</td>\n",
       "    </tr>\n",
       "    <tr>\n",
       "      <td>111791</td>\n",
       "      <td>40743</td>\n",
       "      <td>784</td>\n",
       "      <td>44</td>\n",
       "      <td>Makeup Products (non-permanent)</td>\n",
       "      <td>48</td>\n",
       "      <td>656</td>\n",
       "      <td>Titanium dioxide</td>\n",
       "      <td>2019-12-30</td>\n",
       "      <td>2019-12-30</td>\n",
       "      <td>2018-01-01</td>\n",
       "      <td>2019-12-30</td>\n",
       "      <td>2019-12-30</td>\n",
       "      <td>NaT</td>\n",
       "      <td>1</td>\n",
       "      <td>soap and glory ltd</td>\n",
       "      <td>lid stuff eyeshadow palette</td>\n",
       "      <td>eye shadow</td>\n",
       "      <td>soap &amp; glory</td>\n",
       "    </tr>\n",
       "    <tr>\n",
       "      <td>111805</td>\n",
       "      <td>40747</td>\n",
       "      <td>784</td>\n",
       "      <td>44</td>\n",
       "      <td>Makeup Products (non-permanent)</td>\n",
       "      <td>52</td>\n",
       "      <td>656</td>\n",
       "      <td>Titanium dioxide</td>\n",
       "      <td>2019-12-30</td>\n",
       "      <td>2019-12-30</td>\n",
       "      <td>2019-01-01</td>\n",
       "      <td>2019-12-30</td>\n",
       "      <td>2019-12-30</td>\n",
       "      <td>NaT</td>\n",
       "      <td>1</td>\n",
       "      <td>soap and glory ltd</td>\n",
       "      <td>sexy mother pucker mini gloss sticks - glossed...</td>\n",
       "      <td>lip gloss/shine</td>\n",
       "      <td>soap &amp; glory</td>\n",
       "    </tr>\n",
       "    <tr>\n",
       "      <td>112545</td>\n",
       "      <td>40966</td>\n",
       "      <td>191</td>\n",
       "      <td>44</td>\n",
       "      <td>Makeup Products (non-permanent)</td>\n",
       "      <td>49</td>\n",
       "      <td>656</td>\n",
       "      <td>Titanium dioxide</td>\n",
       "      <td>2020-01-22</td>\n",
       "      <td>2020-01-22</td>\n",
       "      <td>2014-02-15</td>\n",
       "      <td>2020-01-22</td>\n",
       "      <td>2020-01-22</td>\n",
       "      <td>NaT</td>\n",
       "      <td>1</td>\n",
       "      <td>benefit cosmetics</td>\n",
       "      <td>hello flawless</td>\n",
       "      <td>face powders</td>\n",
       "      <td>benefit cosmetics</td>\n",
       "    </tr>\n",
       "  </tbody>\n",
       "</table>\n",
       "<p>6047 rows × 18 columns</p>\n",
       "</div>"
      ],
      "text/plain": [
       "        CDPHId  CompanyId  PrimaryCategoryId                  PrimaryCategory  \\\n",
       "0            2          4                 44  Makeup Products (non-permanent)   \n",
       "4            5          4                 44  Makeup Products (non-permanent)   \n",
       "5            6          4                 44  Makeup Products (non-permanent)   \n",
       "30          18          4                 44  Makeup Products (non-permanent)   \n",
       "381        222          4                 44  Makeup Products (non-permanent)   \n",
       "...        ...        ...                ...                              ...   \n",
       "110044   40075        395                 90              Skin Care Products    \n",
       "110501   40251       1352                 90              Skin Care Products    \n",
       "111791   40743        784                 44  Makeup Products (non-permanent)   \n",
       "111805   40747        784                 44  Makeup Products (non-permanent)   \n",
       "112545   40966        191                 44  Makeup Products (non-permanent)   \n",
       "\n",
       "        SubCategoryId  CasId  \\\n",
       "0                  53    656   \n",
       "4                  52    656   \n",
       "5                  48    656   \n",
       "30                162    656   \n",
       "381                48    656   \n",
       "...               ...    ...   \n",
       "110044            103    773   \n",
       "110501             92   1242   \n",
       "111791             48    656   \n",
       "111805             52    656   \n",
       "112545             49    656   \n",
       "\n",
       "                                             ChemicalName InitialDateReported  \\\n",
       "0                                        Titanium dioxide          2009-06-17   \n",
       "4                                        Titanium dioxide          2009-07-09   \n",
       "5                                        Titanium dioxide          2009-07-09   \n",
       "30                                       Titanium dioxide          2009-07-20   \n",
       "381                                      Titanium dioxide          2009-09-01   \n",
       "...                                                   ...                 ...   \n",
       "110044  Retinol/retinyl esters, when in daily dosages ...          2019-10-09   \n",
       "110501                     Ethanol in alcoholic beverages          2019-10-30   \n",
       "111791                                   Titanium dioxide          2019-12-30   \n",
       "111805                                   Titanium dioxide          2019-12-30   \n",
       "112545                                   Titanium dioxide          2020-01-22   \n",
       "\n",
       "       MostRecentDateReported DiscontinuedDate ChemicalCreatedAt  \\\n",
       "0                  2013-08-28       2011-02-01        2009-07-09   \n",
       "4                  2013-08-28       2011-02-01        2009-07-09   \n",
       "5                  2013-08-28       2010-11-01        2009-07-09   \n",
       "30                 2013-08-28       2012-02-01        2009-07-20   \n",
       "381                2013-08-28       2012-11-01        2009-09-01   \n",
       "...                       ...              ...               ...   \n",
       "110044             2019-10-09       2014-11-05        2019-10-09   \n",
       "110501             2019-12-19       2019-12-01        2019-12-19   \n",
       "111791             2019-12-30       2018-01-01        2019-12-30   \n",
       "111805             2019-12-30       2019-01-01        2019-12-30   \n",
       "112545             2020-01-22       2014-02-15        2020-01-22   \n",
       "\n",
       "       ChemicalUpdatedAt ChemicalDateRemoved  ChemicalCount  \\\n",
       "0             2009-07-09                 NaT              1   \n",
       "4             2009-07-09                 NaT              1   \n",
       "5             2009-07-09                 NaT              1   \n",
       "30            2009-07-20                 NaT              1   \n",
       "381           2009-09-01                 NaT              2   \n",
       "...                  ...                 ...            ...   \n",
       "110044        2019-10-09                 NaT              1   \n",
       "110501        2019-12-19                 NaT              1   \n",
       "111791        2019-12-30                 NaT              1   \n",
       "111805        2019-12-30                 NaT              1   \n",
       "112545        2020-01-22                 NaT              1   \n",
       "\n",
       "                           Cleaned_CompanyName  \\\n",
       "0                                 new avon llc   \n",
       "4                                 new avon llc   \n",
       "5                                 new avon llc   \n",
       "30                                new avon llc   \n",
       "381                               new avon llc   \n",
       "...                                        ...   \n",
       "110044  herbalife international of america inc   \n",
       "110501             sanmedica international llc   \n",
       "111791                      soap and glory ltd   \n",
       "111805                      soap and glory ltd   \n",
       "112545                       benefit cosmetics   \n",
       "\n",
       "                                      Cleaned_ProductName  \\\n",
       "0        ultra color rich extra plump lipstick-all shades   \n",
       "4             avon brilliant shine lip gloss-all shades �   \n",
       "5       jillian dempsey for avon celestial eyeshadow-a...   \n",
       "30                                 spectra lash mascara �   \n",
       "381             anew eyelifting serum shadow-all shades �   \n",
       "...                                                   ...   \n",
       "110044  multivitamin toner with vitamins ac & e normal...   \n",
       "110501        serovital complete eye area renewal complex   \n",
       "111791                        lid stuff eyeshadow palette   \n",
       "111805  sexy mother pucker mini gloss sticks - glossed...   \n",
       "112545                                     hello flawless   \n",
       "\n",
       "                                      Cleaned_SubCategory  \\\n",
       "0                lip color - lipsticks liners and pencils   \n",
       "4                                         lip gloss/shine   \n",
       "5                                              eye shadow   \n",
       "30                               mascara/eyelash products   \n",
       "381                                            eye shadow   \n",
       "...                                                   ...   \n",
       "110044               skin toner (making a cosmetic claim)   \n",
       "110501  anti-wrinkle/anti-aging products (making a cos...   \n",
       "111791                                         eye shadow   \n",
       "111805                                    lip gloss/shine   \n",
       "112545                                       face powders   \n",
       "\n",
       "                  Cleaned_BrandName  \n",
       "0                              avon  \n",
       "4                              avon  \n",
       "5                              avon  \n",
       "30                             avon  \n",
       "381                            anew  \n",
       "...                             ...  \n",
       "110044                  nourifusion  \n",
       "110501  sanmedica international llc  \n",
       "111791                 soap & glory  \n",
       "111805                 soap & glory  \n",
       "112545            benefit cosmetics  \n",
       "\n",
       "[6047 rows x 18 columns]"
      ]
     },
     "execution_count": 45,
     "metadata": {},
     "output_type": "execute_result"
    }
   ],
   "source": [
    "discontinued_df"
   ]
  },
  {
   "cell_type": "markdown",
   "metadata": {},
   "source": [
    "## Reformulated Products"
   ]
  },
  {
   "cell_type": "code",
   "execution_count": 46,
   "metadata": {},
   "outputs": [
    {
     "data": {
      "text/html": [
       "<div>\n",
       "<style scoped>\n",
       "    .dataframe tbody tr th:only-of-type {\n",
       "        vertical-align: middle;\n",
       "    }\n",
       "\n",
       "    .dataframe tbody tr th {\n",
       "        vertical-align: top;\n",
       "    }\n",
       "\n",
       "    .dataframe thead th {\n",
       "        text-align: right;\n",
       "    }\n",
       "</style>\n",
       "<table border=\"1\" class=\"dataframe\">\n",
       "  <thead>\n",
       "    <tr style=\"text-align: right;\">\n",
       "      <th></th>\n",
       "      <th>CDPHId</th>\n",
       "      <th>CompanyId</th>\n",
       "      <th>PrimaryCategoryId</th>\n",
       "      <th>PrimaryCategory</th>\n",
       "      <th>SubCategoryId</th>\n",
       "      <th>CasId</th>\n",
       "      <th>ChemicalName</th>\n",
       "      <th>InitialDateReported</th>\n",
       "      <th>MostRecentDateReported</th>\n",
       "      <th>DiscontinuedDate</th>\n",
       "      <th>ChemicalCreatedAt</th>\n",
       "      <th>ChemicalUpdatedAt</th>\n",
       "      <th>ChemicalDateRemoved</th>\n",
       "      <th>ChemicalCount</th>\n",
       "      <th>Cleaned_CompanyName</th>\n",
       "      <th>Cleaned_ProductName</th>\n",
       "      <th>Cleaned_SubCategory</th>\n",
       "      <th>Cleaned_BrandName</th>\n",
       "    </tr>\n",
       "  </thead>\n",
       "  <tbody>\n",
       "    <tr>\n",
       "      <td>31</td>\n",
       "      <td>24</td>\n",
       "      <td>181</td>\n",
       "      <td>74</td>\n",
       "      <td>Personal Care Products</td>\n",
       "      <td>170</td>\n",
       "      <td>162</td>\n",
       "      <td>Cocamide diethanolamine</td>\n",
       "      <td>2009-07-23</td>\n",
       "      <td>2012-02-07</td>\n",
       "      <td>NaT</td>\n",
       "      <td>2009-07-23</td>\n",
       "      <td>2012-02-07</td>\n",
       "      <td>2010-12-30</td>\n",
       "      <td>0</td>\n",
       "      <td>gojo industries inc</td>\n",
       "      <td>white premium lotion soap</td>\n",
       "      <td>hand cleansers and sanitizers</td>\n",
       "      <td>gojo�</td>\n",
       "    </tr>\n",
       "    <tr>\n",
       "      <td>36</td>\n",
       "      <td>29</td>\n",
       "      <td>31</td>\n",
       "      <td>106</td>\n",
       "      <td>Sun-Related Products</td>\n",
       "      <td>107</td>\n",
       "      <td>656</td>\n",
       "      <td>Titanium dioxide</td>\n",
       "      <td>2009-08-11</td>\n",
       "      <td>2009-08-11</td>\n",
       "      <td>NaT</td>\n",
       "      <td>2009-08-21</td>\n",
       "      <td>2009-08-21</td>\n",
       "      <td>2009-08-21</td>\n",
       "      <td>1</td>\n",
       "      <td>aloecare international llc</td>\n",
       "      <td>aloe up lil' kids spf 45 aloe based sunscreen ...</td>\n",
       "      <td>sunscreen (making a cosmetic claim)</td>\n",
       "      <td>aloe up lil' kids spf 45 aloe based sunscreen ...</td>\n",
       "    </tr>\n",
       "    <tr>\n",
       "      <td>224</td>\n",
       "      <td>71</td>\n",
       "      <td>23</td>\n",
       "      <td>44</td>\n",
       "      <td>Makeup Products (non-permanent)</td>\n",
       "      <td>48</td>\n",
       "      <td>656</td>\n",
       "      <td>Titanium dioxide</td>\n",
       "      <td>2009-08-26</td>\n",
       "      <td>2009-08-26</td>\n",
       "      <td>NaT</td>\n",
       "      <td>2009-08-26</td>\n",
       "      <td>2009-09-14</td>\n",
       "      <td>2009-09-14</td>\n",
       "      <td>1</td>\n",
       "      <td>revlon consumer product corporation</td>\n",
       "      <td>colorstay 12 hour eye shadow quad- rose shimme...</td>\n",
       "      <td>eye shadow</td>\n",
       "      <td>revlon</td>\n",
       "    </tr>\n",
       "    <tr>\n",
       "      <td>431</td>\n",
       "      <td>269</td>\n",
       "      <td>69</td>\n",
       "      <td>6</td>\n",
       "      <td>Bath Products</td>\n",
       "      <td>9</td>\n",
       "      <td>656</td>\n",
       "      <td>Titanium dioxide</td>\n",
       "      <td>2009-09-01</td>\n",
       "      <td>2017-01-12</td>\n",
       "      <td>2013-05-13</td>\n",
       "      <td>2009-09-01</td>\n",
       "      <td>2009-09-25</td>\n",
       "      <td>2009-09-25</td>\n",
       "      <td>1</td>\n",
       "      <td>elizabeth arden inc</td>\n",
       "      <td>elizabeth arden green tea relaxing bubble bath</td>\n",
       "      <td>bubble and foam bath products</td>\n",
       "      <td>elizabeth arden</td>\n",
       "    </tr>\n",
       "    <tr>\n",
       "      <td>432</td>\n",
       "      <td>269</td>\n",
       "      <td>69</td>\n",
       "      <td>6</td>\n",
       "      <td>Bath Products</td>\n",
       "      <td>9</td>\n",
       "      <td>773</td>\n",
       "      <td>Retinol/retinyl esters, when in daily dosages ...</td>\n",
       "      <td>2009-09-01</td>\n",
       "      <td>2017-01-12</td>\n",
       "      <td>2013-05-13</td>\n",
       "      <td>2009-09-25</td>\n",
       "      <td>2009-09-29</td>\n",
       "      <td>2009-09-29</td>\n",
       "      <td>1</td>\n",
       "      <td>elizabeth arden inc</td>\n",
       "      <td>elizabeth arden green tea relaxing bubble bath</td>\n",
       "      <td>bubble and foam bath products</td>\n",
       "      <td>elizabeth arden</td>\n",
       "    </tr>\n",
       "  </tbody>\n",
       "</table>\n",
       "</div>"
      ],
      "text/plain": [
       "     CDPHId  CompanyId  PrimaryCategoryId                  PrimaryCategory  \\\n",
       "31       24        181                 74           Personal Care Products   \n",
       "36       29         31                106             Sun-Related Products   \n",
       "224      71         23                 44  Makeup Products (non-permanent)   \n",
       "431     269         69                  6                    Bath Products   \n",
       "432     269         69                  6                    Bath Products   \n",
       "\n",
       "     SubCategoryId  CasId                                       ChemicalName  \\\n",
       "31             170    162                            Cocamide diethanolamine   \n",
       "36             107    656                                   Titanium dioxide   \n",
       "224             48    656                                   Titanium dioxide   \n",
       "431              9    656                                   Titanium dioxide   \n",
       "432              9    773  Retinol/retinyl esters, when in daily dosages ...   \n",
       "\n",
       "    InitialDateReported MostRecentDateReported DiscontinuedDate  \\\n",
       "31           2009-07-23             2012-02-07              NaT   \n",
       "36           2009-08-11             2009-08-11              NaT   \n",
       "224          2009-08-26             2009-08-26              NaT   \n",
       "431          2009-09-01             2017-01-12       2013-05-13   \n",
       "432          2009-09-01             2017-01-12       2013-05-13   \n",
       "\n",
       "    ChemicalCreatedAt ChemicalUpdatedAt ChemicalDateRemoved  ChemicalCount  \\\n",
       "31         2009-07-23        2012-02-07          2010-12-30              0   \n",
       "36         2009-08-21        2009-08-21          2009-08-21              1   \n",
       "224        2009-08-26        2009-09-14          2009-09-14              1   \n",
       "431        2009-09-01        2009-09-25          2009-09-25              1   \n",
       "432        2009-09-25        2009-09-29          2009-09-29              1   \n",
       "\n",
       "                     Cleaned_CompanyName  \\\n",
       "31                   gojo industries inc   \n",
       "36            aloecare international llc   \n",
       "224  revlon consumer product corporation   \n",
       "431                  elizabeth arden inc   \n",
       "432                  elizabeth arden inc   \n",
       "\n",
       "                                   Cleaned_ProductName  \\\n",
       "31                           white premium lotion soap   \n",
       "36   aloe up lil' kids spf 45 aloe based sunscreen ...   \n",
       "224  colorstay 12 hour eye shadow quad- rose shimme...   \n",
       "431     elizabeth arden green tea relaxing bubble bath   \n",
       "432     elizabeth arden green tea relaxing bubble bath   \n",
       "\n",
       "                     Cleaned_SubCategory  \\\n",
       "31         hand cleansers and sanitizers   \n",
       "36   sunscreen (making a cosmetic claim)   \n",
       "224                           eye shadow   \n",
       "431        bubble and foam bath products   \n",
       "432        bubble and foam bath products   \n",
       "\n",
       "                                     Cleaned_BrandName  \n",
       "31                                               gojo�  \n",
       "36   aloe up lil' kids spf 45 aloe based sunscreen ...  \n",
       "224                                             revlon  \n",
       "431                                    elizabeth arden  \n",
       "432                                    elizabeth arden  "
      ]
     },
     "execution_count": 46,
     "metadata": {},
     "output_type": "execute_result"
    }
   ],
   "source": [
    "reformulated_df = clean_data_df[clean_data_df['ChemicalDateRemoved'].isna()==False]\n",
    "reformulated_df.head()"
   ]
  },
  {
   "cell_type": "code",
   "execution_count": null,
   "metadata": {},
   "outputs": [],
   "source": []
  },
  {
   "cell_type": "markdown",
   "metadata": {},
   "source": [
    "## Analyzing Cosmetics Primary Categories"
   ]
  },
  {
   "cell_type": "code",
   "execution_count": 47,
   "metadata": {
    "scrolled": false
   },
   "outputs": [
    {
     "data": {
      "text/html": [
       "<div>\n",
       "<style scoped>\n",
       "    .dataframe tbody tr th:only-of-type {\n",
       "        vertical-align: middle;\n",
       "    }\n",
       "\n",
       "    .dataframe tbody tr th {\n",
       "        vertical-align: top;\n",
       "    }\n",
       "\n",
       "    .dataframe thead th {\n",
       "        text-align: right;\n",
       "    }\n",
       "</style>\n",
       "<table border=\"1\" class=\"dataframe\">\n",
       "  <thead>\n",
       "    <tr style=\"text-align: right;\">\n",
       "      <th></th>\n",
       "      <th>PrimaryCategory</th>\n",
       "      <th>CDPHId</th>\n",
       "    </tr>\n",
       "  </thead>\n",
       "  <tbody>\n",
       "    <tr>\n",
       "      <td>5</td>\n",
       "      <td>Makeup Products (non-permanent)</td>\n",
       "      <td>17994</td>\n",
       "    </tr>\n",
       "    <tr>\n",
       "      <td>6</td>\n",
       "      <td>Nail Products</td>\n",
       "      <td>6902</td>\n",
       "    </tr>\n",
       "    <tr>\n",
       "      <td>10</td>\n",
       "      <td>Skin Care Products</td>\n",
       "      <td>5164</td>\n",
       "    </tr>\n",
       "    <tr>\n",
       "      <td>1</td>\n",
       "      <td>Bath Products</td>\n",
       "      <td>2412</td>\n",
       "    </tr>\n",
       "    <tr>\n",
       "      <td>11</td>\n",
       "      <td>Sun-Related Products</td>\n",
       "      <td>1768</td>\n",
       "    </tr>\n",
       "    <tr>\n",
       "      <td>3</td>\n",
       "      <td>Hair Care Products (non-coloring)</td>\n",
       "      <td>1244</td>\n",
       "    </tr>\n",
       "    <tr>\n",
       "      <td>4</td>\n",
       "      <td>Hair Coloring Products</td>\n",
       "      <td>803</td>\n",
       "    </tr>\n",
       "    <tr>\n",
       "      <td>2</td>\n",
       "      <td>Fragrances</td>\n",
       "      <td>433</td>\n",
       "    </tr>\n",
       "    <tr>\n",
       "      <td>8</td>\n",
       "      <td>Personal Care Products</td>\n",
       "      <td>432</td>\n",
       "    </tr>\n",
       "    <tr>\n",
       "      <td>7</td>\n",
       "      <td>Oral Hygiene Products</td>\n",
       "      <td>372</td>\n",
       "    </tr>\n",
       "    <tr>\n",
       "      <td>12</td>\n",
       "      <td>Tattoos and Permanent Makeup</td>\n",
       "      <td>263</td>\n",
       "    </tr>\n",
       "    <tr>\n",
       "      <td>9</td>\n",
       "      <td>Shaving Products</td>\n",
       "      <td>177</td>\n",
       "    </tr>\n",
       "    <tr>\n",
       "      <td>0</td>\n",
       "      <td>Baby Products</td>\n",
       "      <td>46</td>\n",
       "    </tr>\n",
       "  </tbody>\n",
       "</table>\n",
       "</div>"
      ],
      "text/plain": [
       "                      PrimaryCategory  CDPHId\n",
       "5     Makeup Products (non-permanent)   17994\n",
       "6                       Nail Products    6902\n",
       "10                Skin Care Products     5164\n",
       "1                       Bath Products    2412\n",
       "11               Sun-Related Products    1768\n",
       "3   Hair Care Products (non-coloring)    1244\n",
       "4              Hair Coloring Products     803\n",
       "2                          Fragrances     433\n",
       "8              Personal Care Products     432\n",
       "7               Oral Hygiene Products     372\n",
       "12       Tattoos and Permanent Makeup     263\n",
       "9                    Shaving Products     177\n",
       "0                       Baby Products      46"
      ]
     },
     "execution_count": 47,
     "metadata": {},
     "output_type": "execute_result"
    }
   ],
   "source": [
    "# Count number of products by Primary Category\n",
    "primary_category_count_df = dce.get_count_by_df(clean_data_df, 'CDPHId', 'PrimaryCategory')\n",
    "primary_category_count_df = primary_category_count_df.reset_index().sort_values('CDPHId', ascending=False)\n",
    "primary_category_count_df"
   ]
  },
  {
   "cell_type": "code",
   "execution_count": 48,
   "metadata": {},
   "outputs": [
    {
     "data": {
      "text/plain": [
       "Text(0.5, 1.0, 'Number of Products by Primary Category')"
      ]
     },
     "execution_count": 48,
     "metadata": {},
     "output_type": "execute_result"
    },
    {
     "data": {
      "text/plain": [
       "Text(0.5, 0, 'Number of Products Reported (Log Scale)')"
      ]
     },
     "execution_count": 48,
     "metadata": {},
     "output_type": "execute_result"
    },
    {
     "data": {
      "text/plain": [
       "Text(0, 0.5, 'Primary Category')"
      ]
     },
     "execution_count": 48,
     "metadata": {},
     "output_type": "execute_result"
    },
    {
     "data": {
      "text/plain": [
       "Text(17994.02, 0.0, '17994')"
      ]
     },
     "execution_count": 48,
     "metadata": {},
     "output_type": "execute_result"
    },
    {
     "data": {
      "text/plain": [
       "Text(6902.02, 1.0, '6902')"
      ]
     },
     "execution_count": 48,
     "metadata": {},
     "output_type": "execute_result"
    },
    {
     "data": {
      "text/plain": [
       "Text(5164.02, 2.0, '5164')"
      ]
     },
     "execution_count": 48,
     "metadata": {},
     "output_type": "execute_result"
    },
    {
     "data": {
      "text/plain": [
       "Text(2412.02, 3.0, '2412')"
      ]
     },
     "execution_count": 48,
     "metadata": {},
     "output_type": "execute_result"
    },
    {
     "data": {
      "text/plain": [
       "Text(1768.02, 4.0, '1768')"
      ]
     },
     "execution_count": 48,
     "metadata": {},
     "output_type": "execute_result"
    },
    {
     "data": {
      "text/plain": [
       "Text(1244.02, 5.0, '1244')"
      ]
     },
     "execution_count": 48,
     "metadata": {},
     "output_type": "execute_result"
    },
    {
     "data": {
      "text/plain": [
       "Text(803.02, 6.0, '803')"
      ]
     },
     "execution_count": 48,
     "metadata": {},
     "output_type": "execute_result"
    },
    {
     "data": {
      "text/plain": [
       "Text(433.02, 7.0, '433')"
      ]
     },
     "execution_count": 48,
     "metadata": {},
     "output_type": "execute_result"
    },
    {
     "data": {
      "text/plain": [
       "Text(432.02, 8.0, '432')"
      ]
     },
     "execution_count": 48,
     "metadata": {},
     "output_type": "execute_result"
    },
    {
     "data": {
      "text/plain": [
       "Text(372.02, 9.0, '372')"
      ]
     },
     "execution_count": 48,
     "metadata": {},
     "output_type": "execute_result"
    },
    {
     "data": {
      "text/plain": [
       "Text(263.02, 10.0, '263')"
      ]
     },
     "execution_count": 48,
     "metadata": {},
     "output_type": "execute_result"
    },
    {
     "data": {
      "text/plain": [
       "Text(177.02, 11.0, '177')"
      ]
     },
     "execution_count": 48,
     "metadata": {},
     "output_type": "execute_result"
    },
    {
     "data": {
      "text/plain": [
       "Text(46.02, 12.0, '46')"
      ]
     },
     "execution_count": 48,
     "metadata": {},
     "output_type": "execute_result"
    },
    {
     "data": {
      "image/png": "[encoded data removed]",
      "text/plain": [
       "<Figure size 864x504 with 1 Axes>"
      ]
     },
     "metadata": {
      "needs_background": "light"
     },
     "output_type": "display_data"
    }
   ],
   "source": [
    "# Plot number of products by Primary Category\n",
    "fig, ax = plt.subplots(figsize=(12, 7))\n",
    "ax = sns.barplot(data=primary_category_count_df, x='CDPHId', y='PrimaryCategory', \n",
    "                 log=True, orient = 'h')\n",
    "ax.set_title('Number of Products by Primary Category', fontsize=20)\n",
    "ax.set_xlabel('Number of Products Reported (Log Scale)', fontsize=15)\n",
    "ax.set_ylabel('Primary Category', fontsize=15)\n",
    "\n",
    "for datum, p in zip(primary_category_count_df['CDPHId'].sort_values(ascending=False), \n",
    "                    ax.patches):\n",
    "        x = p.get_x() + p.get_width() + 0.02\n",
    "        y = p.get_y() + p.get_height()/2\n",
    "        ax.annotate(datum, (x, y))\n",
    "\n",
    "fig.tight_layout()\n",
    "fig.savefig('images/num_products_by_primary_cat_barchart')"
   ]
  },
  {
   "cell_type": "markdown",
   "metadata": {},
   "source": [
    "## Analyzing Cosmetics Sub Categories"
   ]
  },
  {
   "cell_type": "code",
   "execution_count": 49,
   "metadata": {
    "scrolled": true
   },
   "outputs": [
    {
     "data": {
      "text/html": [
       "<div>\n",
       "<style scoped>\n",
       "    .dataframe tbody tr th:only-of-type {\n",
       "        vertical-align: middle;\n",
       "    }\n",
       "\n",
       "    .dataframe tbody tr th {\n",
       "        vertical-align: top;\n",
       "    }\n",
       "\n",
       "    .dataframe thead th {\n",
       "        text-align: right;\n",
       "    }\n",
       "</style>\n",
       "<table border=\"1\" class=\"dataframe\">\n",
       "  <thead>\n",
       "    <tr style=\"text-align: right;\">\n",
       "      <th></th>\n",
       "      <th>Cleaned_SubCategory</th>\n",
       "      <th>CDPHId</th>\n",
       "    </tr>\n",
       "  </thead>\n",
       "  <tbody>\n",
       "    <tr>\n",
       "      <td>18</td>\n",
       "      <td>eye shadow</td>\n",
       "      <td>3493</td>\n",
       "    </tr>\n",
       "    <tr>\n",
       "      <td>49</td>\n",
       "      <td>nail polish and enamel</td>\n",
       "      <td>3362</td>\n",
       "    </tr>\n",
       "    <tr>\n",
       "      <td>25</td>\n",
       "      <td>foundations and bases</td>\n",
       "      <td>3162</td>\n",
       "    </tr>\n",
       "    <tr>\n",
       "      <td>40</td>\n",
       "      <td>lip color - lipsticks liners and pencils</td>\n",
       "      <td>3069</td>\n",
       "    </tr>\n",
       "    <tr>\n",
       "      <td>88</td>\n",
       "      <td>uv gel nail polish</td>\n",
       "      <td>2454</td>\n",
       "    </tr>\n",
       "    <tr>\n",
       "      <td>...</td>\n",
       "      <td>...</td>\n",
       "      <td>...</td>\n",
       "    </tr>\n",
       "    <tr>\n",
       "      <td>59</td>\n",
       "      <td>other oral hygiene product</td>\n",
       "      <td>3</td>\n",
       "    </tr>\n",
       "    <tr>\n",
       "      <td>3</td>\n",
       "      <td>antiperspirants (making a cosmetic claim)</td>\n",
       "      <td>3</td>\n",
       "    </tr>\n",
       "    <tr>\n",
       "      <td>23</td>\n",
       "      <td>feminine deodorants</td>\n",
       "      <td>3</td>\n",
       "    </tr>\n",
       "    <tr>\n",
       "      <td>52</td>\n",
       "      <td>other baby products</td>\n",
       "      <td>2</td>\n",
       "    </tr>\n",
       "    <tr>\n",
       "      <td>42</td>\n",
       "      <td>lubricants  (eg personal sexual massage oil)</td>\n",
       "      <td>2</td>\n",
       "    </tr>\n",
       "  </tbody>\n",
       "</table>\n",
       "<p>89 rows × 2 columns</p>\n",
       "</div>"
      ],
      "text/plain": [
       "                             Cleaned_SubCategory  CDPHId\n",
       "18                                    eye shadow    3493\n",
       "49                        nail polish and enamel    3362\n",
       "25                         foundations and bases    3162\n",
       "40      lip color - lipsticks liners and pencils    3069\n",
       "88                            uv gel nail polish    2454\n",
       "..                                           ...     ...\n",
       "59                    other oral hygiene product       3\n",
       "3      antiperspirants (making a cosmetic claim)       3\n",
       "23                           feminine deodorants       3\n",
       "52                           other baby products       2\n",
       "42  lubricants  (eg personal sexual massage oil)       2\n",
       "\n",
       "[89 rows x 2 columns]"
      ]
     },
     "execution_count": 49,
     "metadata": {},
     "output_type": "execute_result"
    }
   ],
   "source": [
    "# Count number of products by Sub Category\n",
    "sub_category_count_df = dce.get_count_by_df(clean_data_df, 'CDPHId', 'Cleaned_SubCategory')\n",
    "sub_category_count_df = sub_category_count_df.reset_index().sort_values('CDPHId', ascending=False)\n",
    "sub_category_count_df\n",
    "\n",
    "sub_category_count_over500_df = sub_category_count_df[sub_category_count_df['CDPHId'] > 500]"
   ]
  },
  {
   "cell_type": "code",
   "execution_count": 50,
   "metadata": {},
   "outputs": [
    {
     "data": {
      "text/plain": [
       "array(['Makeup Products (non-permanent)', 'Nail Products',\n",
       "       'Skin Care Products ', 'Sun-Related Products',\n",
       "       'Hair Care Products (non-coloring)'], dtype=object)"
      ]
     },
     "execution_count": 50,
     "metadata": {},
     "output_type": "execute_result"
    }
   ],
   "source": [
    "clean_data_df.iloc[sub_category_count_over500_df.index]['PrimaryCategory'].unique()"
   ]
  },
  {
   "cell_type": "code",
   "execution_count": 51,
   "metadata": {},
   "outputs": [
    {
     "data": {
      "text/plain": [
       "Text(0.5, 1.0, 'Number of Products by Sub Category')"
      ]
     },
     "execution_count": 51,
     "metadata": {},
     "output_type": "execute_result"
    },
    {
     "data": {
      "text/plain": [
       "Text(0.5, 0, 'Number of Products Reported (Log Scale)')"
      ]
     },
     "execution_count": 51,
     "metadata": {},
     "output_type": "execute_result"
    },
    {
     "data": {
      "text/plain": [
       "Text(0, 0.5, 'Sub Category')"
      ]
     },
     "execution_count": 51,
     "metadata": {},
     "output_type": "execute_result"
    },
    {
     "data": {
      "text/plain": [
       "Text(3493.02, 0.0, '3493')"
      ]
     },
     "execution_count": 51,
     "metadata": {},
     "output_type": "execute_result"
    },
    {
     "data": {
      "text/plain": [
       "Text(3362.02, 1.0, '3362')"
      ]
     },
     "execution_count": 51,
     "metadata": {},
     "output_type": "execute_result"
    },
    {
     "data": {
      "text/plain": [
       "Text(3162.02, 2.0, '3162')"
      ]
     },
     "execution_count": 51,
     "metadata": {},
     "output_type": "execute_result"
    },
    {
     "data": {
      "text/plain": [
       "Text(3069.02, 3.0, '3069')"
      ]
     },
     "execution_count": 51,
     "metadata": {},
     "output_type": "execute_result"
    },
    {
     "data": {
      "text/plain": [
       "Text(2454.02, 4.0, '2454')"
      ]
     },
     "execution_count": 51,
     "metadata": {},
     "output_type": "execute_result"
    },
    {
     "data": {
      "text/plain": [
       "Text(2376.02, 5.0, '2376')"
      ]
     },
     "execution_count": 51,
     "metadata": {},
     "output_type": "execute_result"
    },
    {
     "data": {
      "text/plain": [
       "Text(2146.02, 6.0, '2146')"
      ]
     },
     "execution_count": 51,
     "metadata": {},
     "output_type": "execute_result"
    },
    {
     "data": {
      "text/plain": [
       "Text(1821.02, 7.0, '1821')"
      ]
     },
     "execution_count": 51,
     "metadata": {},
     "output_type": "execute_result"
    },
    {
     "data": {
      "text/plain": [
       "Text(1679.02, 8.0, '1679')"
      ]
     },
     "execution_count": 51,
     "metadata": {},
     "output_type": "execute_result"
    },
    {
     "data": {
      "text/plain": [
       "Text(1532.02, 9.0, '1532')"
      ]
     },
     "execution_count": 51,
     "metadata": {},
     "output_type": "execute_result"
    },
    {
     "data": {
      "text/plain": [
       "Text(1495.02, 10.0, '1495')"
      ]
     },
     "execution_count": 51,
     "metadata": {},
     "output_type": "execute_result"
    },
    {
     "data": {
      "text/plain": [
       "Text(1204.02, 11.0, '1204')"
      ]
     },
     "execution_count": 51,
     "metadata": {},
     "output_type": "execute_result"
    },
    {
     "data": {
      "text/plain": [
       "Text(863.02, 12.0, '863')"
      ]
     },
     "execution_count": 51,
     "metadata": {},
     "output_type": "execute_result"
    },
    {
     "data": {
      "text/plain": [
       "Text(713.02, 13.0, '713')"
      ]
     },
     "execution_count": 51,
     "metadata": {},
     "output_type": "execute_result"
    },
    {
     "data": {
      "text/plain": [
       "Text(703.02, 14.0, '703')"
      ]
     },
     "execution_count": 51,
     "metadata": {},
     "output_type": "execute_result"
    },
    {
     "data": {
      "text/plain": [
       "Text(680.02, 15.0, '680')"
      ]
     },
     "execution_count": 51,
     "metadata": {},
     "output_type": "execute_result"
    },
    {
     "data": {
      "text/plain": [
       "Text(665.02, 16.0, '665')"
      ]
     },
     "execution_count": 51,
     "metadata": {},
     "output_type": "execute_result"
    },
    {
     "data": {
      "text/plain": [
       "Text(647.02, 17.0, '647')"
      ]
     },
     "execution_count": 51,
     "metadata": {},
     "output_type": "execute_result"
    },
    {
     "data": {
      "text/plain": [
       "Text(624.02, 18.0, '624')"
      ]
     },
     "execution_count": 51,
     "metadata": {},
     "output_type": "execute_result"
    },
    {
     "data": {
      "text/plain": [
       "Text(577.02, 19.0, '577')"
      ]
     },
     "execution_count": 51,
     "metadata": {},
     "output_type": "execute_result"
    },
    {
     "data": {
      "text/plain": [
       "Text(505.02, 20.0, '505')"
      ]
     },
     "execution_count": 51,
     "metadata": {},
     "output_type": "execute_result"
    },
    {
     "data": {
      "image/png": "[encoded data removed]",
      "text/plain": [
       "<Figure size 864x504 with 1 Axes>"
      ]
     },
     "metadata": {
      "needs_background": "light"
     },
     "output_type": "display_data"
    }
   ],
   "source": [
    "# Plot number of products by Sub Category\n",
    "fig, ax = plt.subplots(figsize=(12, 7))\n",
    "ax = sns.barplot(data=sub_category_count_over500_df, x='CDPHId', y='Cleaned_SubCategory', \n",
    "                 log=True, orient = 'h')\n",
    "ax.set_title('Number of Products by Sub Category', fontsize=20)\n",
    "ax.set_xlabel('Number of Products Reported (Log Scale)', fontsize=15)\n",
    "ax.set_ylabel('Sub Category', fontsize=15)\n",
    "\n",
    "for datum, p in zip(sub_category_count_over500_df['CDPHId'].sort_values(ascending=False), \n",
    "                    ax.patches):\n",
    "        x = p.get_x() + p.get_width() + 0.02\n",
    "        y = p.get_y() + p.get_height()/2\n",
    "        ax.annotate(datum, (x, y))\n",
    "\n",
    "fig.tight_layout()\n",
    "fig.savefig('images/num_products_by_sub_cat_barchart')"
   ]
  },
  {
   "cell_type": "markdown",
   "metadata": {},
   "source": [
    "## Analyzing Cosmetics Companies"
   ]
  },
  {
   "cell_type": "code",
   "execution_count": 52,
   "metadata": {
    "scrolled": true
   },
   "outputs": [
    {
     "data": {
      "text/html": [
       "<div>\n",
       "<style scoped>\n",
       "    .dataframe tbody tr th:only-of-type {\n",
       "        vertical-align: middle;\n",
       "    }\n",
       "\n",
       "    .dataframe tbody tr th {\n",
       "        vertical-align: top;\n",
       "    }\n",
       "\n",
       "    .dataframe thead th {\n",
       "        text-align: right;\n",
       "    }\n",
       "</style>\n",
       "<table border=\"1\" class=\"dataframe\">\n",
       "  <thead>\n",
       "    <tr style=\"text-align: right;\">\n",
       "      <th></th>\n",
       "      <th>Cleaned_CompanyName</th>\n",
       "      <th>CDPHId</th>\n",
       "    </tr>\n",
       "  </thead>\n",
       "  <tbody>\n",
       "    <tr>\n",
       "      <td>23</td>\n",
       "      <td>american international industries</td>\n",
       "      <td>1964</td>\n",
       "    </tr>\n",
       "    <tr>\n",
       "      <td>353</td>\n",
       "      <td>nail alliance - entity</td>\n",
       "      <td>1583</td>\n",
       "    </tr>\n",
       "    <tr>\n",
       "      <td>450</td>\n",
       "      <td>revlon consumer product corporation</td>\n",
       "      <td>1458</td>\n",
       "    </tr>\n",
       "    <tr>\n",
       "      <td>24</td>\n",
       "      <td>amorepacific us inc</td>\n",
       "      <td>1067</td>\n",
       "    </tr>\n",
       "    <tr>\n",
       "      <td>285</td>\n",
       "      <td>l'oreal usa</td>\n",
       "      <td>1051</td>\n",
       "    </tr>\n",
       "    <tr>\n",
       "      <td>...</td>\n",
       "      <td>...</td>\n",
       "      <td>...</td>\n",
       "    </tr>\n",
       "    <tr>\n",
       "      <td>378</td>\n",
       "      <td>novelty inc</td>\n",
       "      <td>1</td>\n",
       "    </tr>\n",
       "    <tr>\n",
       "      <td>487</td>\n",
       "      <td>smith &amp; vandiver corporation</td>\n",
       "      <td>1</td>\n",
       "    </tr>\n",
       "    <tr>\n",
       "      <td>119</td>\n",
       "      <td>cool cuts 4 kids</td>\n",
       "      <td>1</td>\n",
       "    </tr>\n",
       "    <tr>\n",
       "      <td>485</td>\n",
       "      <td>smart brands inc</td>\n",
       "      <td>1</td>\n",
       "    </tr>\n",
       "    <tr>\n",
       "      <td>0</td>\n",
       "      <td>2355644 ontario inc</td>\n",
       "      <td>1</td>\n",
       "    </tr>\n",
       "  </tbody>\n",
       "</table>\n",
       "<p>597 rows × 2 columns</p>\n",
       "</div>"
      ],
      "text/plain": [
       "                     Cleaned_CompanyName  CDPHId\n",
       "23     american international industries    1964\n",
       "353               nail alliance - entity    1583\n",
       "450  revlon consumer product corporation    1458\n",
       "24                   amorepacific us inc    1067\n",
       "285                          l'oreal usa    1051\n",
       "..                                   ...     ...\n",
       "378                          novelty inc       1\n",
       "487         smith & vandiver corporation       1\n",
       "119                     cool cuts 4 kids       1\n",
       "485                     smart brands inc       1\n",
       "0                    2355644 ontario inc       1\n",
       "\n",
       "[597 rows x 2 columns]"
      ]
     },
     "execution_count": 52,
     "metadata": {},
     "output_type": "execute_result"
    }
   ],
   "source": [
    "# Count number of products by Company Name\n",
    "company_count_df = dce.get_count_by_df(clean_data_df, 'CDPHId', 'Cleaned_CompanyName')\n",
    "company_count_df = company_count_df.reset_index().sort_values('CDPHId', ascending=False)\n",
    "company_count_df\n",
    "\n",
    "company_count_over500_df = company_count_df[company_count_df['CDPHId'] > 500]"
   ]
  },
  {
   "cell_type": "code",
   "execution_count": 53,
   "metadata": {},
   "outputs": [
    {
     "data": {
      "text/html": [
       "<div>\n",
       "<style scoped>\n",
       "    .dataframe tbody tr th:only-of-type {\n",
       "        vertical-align: middle;\n",
       "    }\n",
       "\n",
       "    .dataframe tbody tr th {\n",
       "        vertical-align: top;\n",
       "    }\n",
       "\n",
       "    .dataframe thead th {\n",
       "        text-align: right;\n",
       "    }\n",
       "</style>\n",
       "<table border=\"1\" class=\"dataframe\">\n",
       "  <thead>\n",
       "    <tr style=\"text-align: right;\">\n",
       "      <th></th>\n",
       "      <th>Cleaned_CompanyName</th>\n",
       "      <th>PrimaryCategory</th>\n",
       "      <th>Cleaned_SubCategory</th>\n",
       "    </tr>\n",
       "  </thead>\n",
       "  <tbody>\n",
       "    <tr>\n",
       "      <td>32</td>\n",
       "      <td>chanel inc</td>\n",
       "      <td>Makeup Products (non-permanent)</td>\n",
       "      <td>eye shadow</td>\n",
       "    </tr>\n",
       "    <tr>\n",
       "      <td>211</td>\n",
       "      <td>revlon consumer product corporation</td>\n",
       "      <td>Makeup Products (non-permanent)</td>\n",
       "      <td>eye shadow</td>\n",
       "    </tr>\n",
       "    <tr>\n",
       "      <td>41</td>\n",
       "      <td>entity beauty inc</td>\n",
       "      <td>Nail Products</td>\n",
       "      <td>artificial nails and related products</td>\n",
       "    </tr>\n",
       "    <tr>\n",
       "      <td>198</td>\n",
       "      <td>mcconnell labs inc</td>\n",
       "      <td>Nail Products</td>\n",
       "      <td>artificial nails and related products</td>\n",
       "    </tr>\n",
       "    <tr>\n",
       "      <td>240</td>\n",
       "      <td>philosophy</td>\n",
       "      <td>Skin Care Products</td>\n",
       "      <td>skin moisturizers (making a cosmetic claim)</td>\n",
       "    </tr>\n",
       "    <tr>\n",
       "      <td>34</td>\n",
       "      <td>chanel inc</td>\n",
       "      <td>Makeup Products (non-permanent)</td>\n",
       "      <td>mascara/eyelash products</td>\n",
       "    </tr>\n",
       "    <tr>\n",
       "      <td>36</td>\n",
       "      <td>aloecare international llc</td>\n",
       "      <td>Sun-Related Products</td>\n",
       "      <td>sunscreen (making a cosmetic claim)</td>\n",
       "    </tr>\n",
       "    <tr>\n",
       "      <td>14</td>\n",
       "      <td>opi products inc</td>\n",
       "      <td>Nail Products</td>\n",
       "      <td>artificial nails and related products</td>\n",
       "    </tr>\n",
       "    <tr>\n",
       "      <td>4</td>\n",
       "      <td>new avon llc</td>\n",
       "      <td>Makeup Products (non-permanent)</td>\n",
       "      <td>lip gloss/shine</td>\n",
       "    </tr>\n",
       "    <tr>\n",
       "      <td>2</td>\n",
       "      <td>j strickland &amp; co</td>\n",
       "      <td>Hair Care Products (non-coloring)</td>\n",
       "      <td>hair shampoos (making a cosmetic claim)</td>\n",
       "    </tr>\n",
       "    <tr>\n",
       "      <td>238</td>\n",
       "      <td>philosophy</td>\n",
       "      <td>Skin Care Products</td>\n",
       "      <td>anti-wrinkle/anti-aging products (making a cos...</td>\n",
       "    </tr>\n",
       "    <tr>\n",
       "      <td>65</td>\n",
       "      <td>mcconnell labs inc</td>\n",
       "      <td>Nail Products</td>\n",
       "      <td>nail polish and enamel</td>\n",
       "    </tr>\n",
       "    <tr>\n",
       "      <td>46</td>\n",
       "      <td>revlon consumer product corporation</td>\n",
       "      <td>Makeup Products (non-permanent)</td>\n",
       "      <td>lip gloss/shine</td>\n",
       "    </tr>\n",
       "    <tr>\n",
       "      <td>38</td>\n",
       "      <td>entity beauty inc</td>\n",
       "      <td>Nail Products</td>\n",
       "      <td>uv gel nail polish</td>\n",
       "    </tr>\n",
       "  </tbody>\n",
       "</table>\n",
       "</div>"
      ],
      "text/plain": [
       "                     Cleaned_CompanyName                    PrimaryCategory  \\\n",
       "32                            chanel inc    Makeup Products (non-permanent)   \n",
       "211  revlon consumer product corporation    Makeup Products (non-permanent)   \n",
       "41                     entity beauty inc                      Nail Products   \n",
       "198                   mcconnell labs inc                      Nail Products   \n",
       "240                           philosophy                Skin Care Products    \n",
       "34                            chanel inc    Makeup Products (non-permanent)   \n",
       "36            aloecare international llc               Sun-Related Products   \n",
       "14                      opi products inc                      Nail Products   \n",
       "4                           new avon llc    Makeup Products (non-permanent)   \n",
       "2                      j strickland & co  Hair Care Products (non-coloring)   \n",
       "238                           philosophy                Skin Care Products    \n",
       "65                    mcconnell labs inc                      Nail Products   \n",
       "46   revlon consumer product corporation    Makeup Products (non-permanent)   \n",
       "38                     entity beauty inc                      Nail Products   \n",
       "\n",
       "                                   Cleaned_SubCategory  \n",
       "32                                          eye shadow  \n",
       "211                                         eye shadow  \n",
       "41               artificial nails and related products  \n",
       "198              artificial nails and related products  \n",
       "240        skin moisturizers (making a cosmetic claim)  \n",
       "34                            mascara/eyelash products  \n",
       "36                 sunscreen (making a cosmetic claim)  \n",
       "14               artificial nails and related products  \n",
       "4                                      lip gloss/shine  \n",
       "2              hair shampoos (making a cosmetic claim)  \n",
       "238  anti-wrinkle/anti-aging products (making a cos...  \n",
       "65                              nail polish and enamel  \n",
       "46                                     lip gloss/shine  \n",
       "38                                  uv gel nail polish  "
      ]
     },
     "execution_count": 53,
     "metadata": {},
     "output_type": "execute_result"
    }
   ],
   "source": [
    "clean_data_df.iloc[sub_category_count_over500_df.index][['Cleaned_CompanyName', 'PrimaryCategory', 'Cleaned_SubCategory']].drop_duplicates()"
   ]
  },
  {
   "cell_type": "code",
   "execution_count": 54,
   "metadata": {},
   "outputs": [
    {
     "data": {
      "text/plain": [
       "Text(0.5, 1.0, 'Number of Products Reported by Company')"
      ]
     },
     "execution_count": 54,
     "metadata": {},
     "output_type": "execute_result"
    },
    {
     "data": {
      "text/plain": [
       "Text(0.5, 0, 'Number of Products Reported (Log Scale)')"
      ]
     },
     "execution_count": 54,
     "metadata": {},
     "output_type": "execute_result"
    },
    {
     "data": {
      "text/plain": [
       "Text(0, 0.5, 'Company Name')"
      ]
     },
     "execution_count": 54,
     "metadata": {},
     "output_type": "execute_result"
    },
    {
     "data": {
      "text/plain": [
       "Text(1964.02, 0.0, '1964')"
      ]
     },
     "execution_count": 54,
     "metadata": {},
     "output_type": "execute_result"
    },
    {
     "data": {
      "text/plain": [
       "Text(1583.02, 1.0, '1583')"
      ]
     },
     "execution_count": 54,
     "metadata": {},
     "output_type": "execute_result"
    },
    {
     "data": {
      "text/plain": [
       "Text(1458.02, 2.0, '1458')"
      ]
     },
     "execution_count": 54,
     "metadata": {},
     "output_type": "execute_result"
    },
    {
     "data": {
      "text/plain": [
       "Text(1067.02, 3.0, '1067')"
      ]
     },
     "execution_count": 54,
     "metadata": {},
     "output_type": "execute_result"
    },
    {
     "data": {
      "text/plain": [
       "Text(1051.02, 4.0, '1051')"
      ]
     },
     "execution_count": 54,
     "metadata": {},
     "output_type": "execute_result"
    },
    {
     "data": {
      "text/plain": [
       "Text(1045.02, 5.0, '1045')"
      ]
     },
     "execution_count": 54,
     "metadata": {},
     "output_type": "execute_result"
    },
    {
     "data": {
      "text/plain": [
       "Text(902.02, 6.0, '902')"
      ]
     },
     "execution_count": 54,
     "metadata": {},
     "output_type": "execute_result"
    },
    {
     "data": {
      "text/plain": [
       "Text(824.02, 7.0, '824')"
      ]
     },
     "execution_count": 54,
     "metadata": {},
     "output_type": "execute_result"
    },
    {
     "data": {
      "text/plain": [
       "Text(756.02, 8.0, '756')"
      ]
     },
     "execution_count": 54,
     "metadata": {},
     "output_type": "execute_result"
    },
    {
     "data": {
      "text/plain": [
       "Text(743.02, 9.0, '743')"
      ]
     },
     "execution_count": 54,
     "metadata": {},
     "output_type": "execute_result"
    },
    {
     "data": {
      "text/plain": [
       "Text(727.02, 10.0, '727')"
      ]
     },
     "execution_count": 54,
     "metadata": {},
     "output_type": "execute_result"
    },
    {
     "data": {
      "text/plain": [
       "Text(695.02, 11.0, '695')"
      ]
     },
     "execution_count": 54,
     "metadata": {},
     "output_type": "execute_result"
    },
    {
     "data": {
      "text/plain": [
       "Text(672.02, 12.0, '672')"
      ]
     },
     "execution_count": 54,
     "metadata": {},
     "output_type": "execute_result"
    },
    {
     "data": {
      "text/plain": [
       "Text(615.02, 13.0, '615')"
      ]
     },
     "execution_count": 54,
     "metadata": {},
     "output_type": "execute_result"
    },
    {
     "data": {
      "text/plain": [
       "Text(560.02, 14.0, '560')"
      ]
     },
     "execution_count": 54,
     "metadata": {},
     "output_type": "execute_result"
    },
    {
     "data": {
      "text/plain": [
       "Text(553.02, 15.0, '553')"
      ]
     },
     "execution_count": 54,
     "metadata": {},
     "output_type": "execute_result"
    },
    {
     "data": {
      "text/plain": [
       "Text(514.02, 16.0, '514')"
      ]
     },
     "execution_count": 54,
     "metadata": {},
     "output_type": "execute_result"
    },
    {
     "data": {
      "text/plain": [
       "Text(513.02, 17.0, '513')"
      ]
     },
     "execution_count": 54,
     "metadata": {},
     "output_type": "execute_result"
    },
    {
     "data": {
      "image/png": "[encoded data removed]",
      "text/plain": [
       "<Figure size 864x504 with 1 Axes>"
      ]
     },
     "metadata": {
      "needs_background": "light"
     },
     "output_type": "display_data"
    }
   ],
   "source": [
    "# Plot number of products by Company Name\n",
    "fig, ax = plt.subplots(figsize=(12, 7))\n",
    "ax = sns.barplot(data=company_count_over500_df, x='CDPHId', y='Cleaned_CompanyName', \n",
    "                 log=True, orient = 'h')\n",
    "ax.set_title('Number of Products Reported by Company', fontsize=20)\n",
    "ax.set_xlabel('Number of Products Reported (Log Scale)', fontsize=15)\n",
    "ax.set_ylabel('Company Name', fontsize=15)\n",
    "\n",
    "for datum, p in zip(company_count_over500_df['CDPHId'].sort_values(ascending=False), \n",
    "                    ax.patches):\n",
    "        x = p.get_x() + p.get_width() + 0.02\n",
    "        y = p.get_y() + p.get_height()/2\n",
    "        ax.annotate(datum, (x, y))\n",
    "\n",
    "fig.tight_layout()\n",
    "fig.savefig('images/num_products_by_company_barchart')"
   ]
  },
  {
   "cell_type": "code",
   "execution_count": null,
   "metadata": {},
   "outputs": [],
   "source": []
  }
 ],
 "metadata": {
  "kernelspec": {
   "display_name": "Python 3",
   "language": "python",
   "name": "python3"
  },
  "language_info": {
   "codemirror_mode": {
    "name": "ipython",
    "version": 3
   },
   "file_extension": ".py",
   "mimetype": "text/x-python",
   "name": "python",
   "nbconvert_exporter": "python",
   "pygments_lexer": "ipython3",
   "version": "3.7.4"
  }
 },
 "nbformat": 4,
 "nbformat_minor": 2
}
